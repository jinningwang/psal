{
 "cells": [
  {
   "cell_type": "markdown",
   "metadata": {},
   "source": [
    "# Power Flow Comparasion\n",
    "\n",
    "This notebook aims to compare the power flow results from different power flow solvers, namely `pandapower`, `pypower` and `andes`."
   ]
  },
  {
   "cell_type": "code",
   "execution_count": 1,
   "metadata": {},
   "outputs": [],
   "source": [
    "import sys\n",
    "import datetime\n",
    "import importlib\n",
    "\n",
    "import numpy as np\n",
    "import pandas as pd\n",
    "\n",
    "import andes\n",
    "import ams\n",
    "\n",
    "import pandapower as pdp\n",
    "import pypower.api"
   ]
  },
  {
   "cell_type": "markdown",
   "metadata": {},
   "source": [
    "Package versions"
   ]
  },
  {
   "cell_type": "code",
   "execution_count": 2,
   "metadata": {},
   "outputs": [
    {
     "name": "stdout",
     "output_type": "stream",
     "text": [
      "Python version: 3.9.18 | packaged by conda-forge | (main, Aug 30 2023, 03:53:08) \n",
      "[Clang 15.0.7 ]\n",
      "Last run time: 2024-03-22 10:54:40\n",
      "numba: 0.58.1\n",
      "pypower: 5.1.16\n",
      "pandapower: 2.13.1\n",
      "andes version: 1.9.1.post20+g127dc462\n",
      "ams version: 0.9.4.post4+g47e0798\n"
     ]
    }
   ],
   "source": [
    "print(\"Python version:\", sys.version)\n",
    "print(\"Last run time:\", datetime.datetime.now().strftime(\"%Y-%m-%d %H:%M:%S\"))\n",
    "\n",
    "for pkg in ['numba', 'pypower', 'pandapower']:\n",
    "    print(f'{pkg}: {importlib.metadata.version(pkg)}')\n",
    "\n",
    "print(\"andes version:\", andes.__version__)\n",
    "print(\"ams version:\", ams.__version__)"
   ]
  },
  {
   "cell_type": "markdown",
   "metadata": {},
   "source": [
    "## ANDES"
   ]
  },
  {
   "cell_type": "code",
   "execution_count": 3,
   "metadata": {},
   "outputs": [],
   "source": [
    "andes.config_logger(stream_level=20)"
   ]
  },
  {
   "cell_type": "code",
   "execution_count": 4,
   "metadata": {},
   "outputs": [
    {
     "name": "stderr",
     "output_type": "stream",
     "text": [
      "Working directory: \"/Users/jinningwang/Documents/work/psal/src/pflow_benchmark\"\n",
      "> Loaded generated Python code in \"/Users/jinningwang/.andes/pycode\".\n",
      "Parsing input file \"case_ACTIVSg10k.xlsx\"...\n",
      "Input file parsed in 3.2606 seconds.\n",
      "System internal structure set up in 0.2249 seconds.\n"
     ]
    }
   ],
   "source": [
    "case_xlsx = 'case_ACTIVSg10k.xlsx'\n",
    "sa = andes.load(case_xlsx,\n",
    "                setup=True, no_output=True, default_config=True,)"
   ]
  },
  {
   "cell_type": "code",
   "execution_count": 5,
   "metadata": {},
   "outputs": [
    {
     "name": "stderr",
     "output_type": "stream",
     "text": [
      "-> System connectivity check results:\n",
      "  No islanded bus detected.\n",
      "  System is interconnected.\n",
      "  Each island has a slack bus correctly defined and enabled.\n",
      "\n",
      "-> Power flow calculation\n",
      "           Numba: Off\n",
      "   Sparse solver: KLU\n",
      " Solution method: NR method\n",
      "Power flow initialized in 0.0089 seconds.\n",
      "0: |F(x)| = 202.4381598\n",
      "1: |F(x)| = 4.028044858\n",
      "2: |F(x)| = 0.1858979964\n",
      "3: |F(x)| = 0.0002036381987\n",
      "4: |F(x)| = 4.516184815e-09\n",
      "Converged in 5 iterations in 0.1248 seconds.\n"
     ]
    },
    {
     "data": {
      "text/plain": [
       "True"
      ]
     },
     "execution_count": 5,
     "metadata": {},
     "output_type": "execute_result"
    }
   ],
   "source": [
    "sa.PFlow.run(method='NR')"
   ]
  },
  {
   "cell_type": "markdown",
   "metadata": {},
   "source": [
    "## AMS"
   ]
  },
  {
   "cell_type": "code",
   "execution_count": 6,
   "metadata": {},
   "outputs": [],
   "source": [
    "ams.config_logger(stream_level=20)"
   ]
  },
  {
   "cell_type": "code",
   "execution_count": 7,
   "metadata": {},
   "outputs": [
    {
     "name": "stderr",
     "output_type": "stream",
     "text": [
      "Working directory: \"/Users/jinningwang/Documents/work/psal/src/pflow_benchmark\"\n",
      "Parsing input file \"case_ACTIVSg10k.xlsx\"...\n",
      "Input file parsed in 3.4639 seconds.\n",
      "Zero line rates detacted in rate_a, rate_b, rate_c, adjusted to 999.\n",
      "If expect a line outage, please set 'u' to 0.\n",
      "System set up in 0.0225 seconds.\n"
     ]
    }
   ],
   "source": [
    "sp = ams.load(case_xlsx,\n",
    "              setup=True, no_output=True, default_config=True)"
   ]
  },
  {
   "cell_type": "code",
   "execution_count": 8,
   "metadata": {},
   "outputs": [
    {
     "name": "stderr",
     "output_type": "stream",
     "text": [
      "<PFlow> initialized in 0.0955 seconds.\n",
      " 0: |F(x)| = 197.242032\n",
      " 1: |F(x)| = 4.02839116\n",
      " 2: |F(x)| = 0.2552148286\n",
      " 3: |F(x)| = 0.0002035501971\n",
      " 4: |F(x)| = 4.509343579e-09\n",
      "<PFlow> solved in 0.1699 seconds, converged in 4 iterations with PYPOWER-Newton.\n"
     ]
    },
    {
     "data": {
      "text/plain": [
       "True"
      ]
     },
     "execution_count": 8,
     "metadata": {},
     "output_type": "execute_result"
    }
   ],
   "source": [
    "sp.PFlow.run()"
   ]
  },
  {
   "cell_type": "markdown",
   "metadata": {},
   "source": [
    "## PYPOWER"
   ]
  },
  {
   "cell_type": "code",
   "execution_count": 9,
   "metadata": {},
   "outputs": [],
   "source": [
    "ppc = andes.io.matpower.system2mpc(sa)\n",
    "\n",
    "ppopt = pypower.api.ppoption(VERBOSE=0, OUT_ALL=0, PF_ALG=1)\n",
    "ppc_sol, _ = pypower.api.runpf(ppc, ppopt)"
   ]
  },
  {
   "cell_type": "code",
   "execution_count": 10,
   "metadata": {},
   "outputs": [],
   "source": [
    "ppc_bus_cols = ['bus_i', 'type', 'Pd', 'Qd', 'Gs', 'Bs', 'area', 'Vm', 'Va', 'baseKV', 'zone', 'Vmax', 'Vmin']\n",
    "ppc_bus = pd.DataFrame(ppc_sol['bus'], columns=ppc_bus_cols)"
   ]
  },
  {
   "cell_type": "markdown",
   "metadata": {},
   "source": [
    "## pandapower"
   ]
  },
  {
   "cell_type": "code",
   "execution_count": 11,
   "metadata": {},
   "outputs": [
    {
     "name": "stderr",
     "output_type": "stream",
     "text": [
      "/Users/jinningwang/Documents/work/andes/andes/interop/pandapower.py:294: FutureWarning: Series.__getitem__ treating keys as positions is deprecated. In a future version, integer keys will always be treated as labels (consistent with DataFrame behavior). To access a value by position, use `ser.iloc[pos]`\n",
      "  lambda x: x[0] if x[2] >= x[3] else x[1], axis=1)\n",
      "/Users/jinningwang/Documents/work/andes/andes/interop/pandapower.py:296: FutureWarning: Series.__getitem__ treating keys as positions is deprecated. In a future version, integer keys will always be treated as labels (consistent with DataFrame behavior). To access a value by position, use `ser.iloc[pos]`\n",
      "  lambda x: x[0] if x[2] < x[3] else x[1], axis=1)\n",
      "/Users/jinningwang/Documents/work/andes/andes/interop/pandapower.py:299: FutureWarning: Series.__getitem__ treating keys as positions is deprecated. In a future version, integer keys will always be treated as labels (consistent with DataFrame behavior). To access a value by position, use `ser.iloc[pos]`\n",
      "  lambda x: x[2] if x[2] >= x[3] else x[3], axis=1)\n",
      "/Users/jinningwang/Documents/work/andes/andes/interop/pandapower.py:301: FutureWarning: Series.__getitem__ treating keys as positions is deprecated. In a future version, integer keys will always be treated as labels (consistent with DataFrame behavior). To access a value by position, use `ser.iloc[pos]`\n",
      "  lambda x: x[2] if x[2] < x[3] else x[3], axis=1)\n",
      "/Users/jinningwang/Documents/work/andes/andes/interop/pandapower.py:302: FutureWarning: Series.__getitem__ treating keys as positions is deprecated. In a future version, integer keys will always be treated as labels (consistent with DataFrame behavior). To access a value by position, use `ser.iloc[pos]`\n",
      "  tf_df['tap_side'] = tf_df[['Vn1', 'Vn2']].apply(lambda x: 'hv' if x[0] >= x[1] else 'lv', axis=1)\n",
      "/Users/jinningwang/Documents/work/andes/andes/interop/pandapower.py:59: FutureWarning: The behavior of DataFrame concatenation with empty or all-NA entries is deprecated. In a future version, this will no longer exclude empty or all-NA columns when determining the result dtypes. To retain the old behavior, exclude the relevant entries before the concat operation.\n",
      "  group_df = pd.concat([group_df, mdl.as_df()[columns]], axis=0)\n",
      "/Users/jinningwang/Documents/work/andes/andes/interop/pandapower.py:59: FutureWarning: The behavior of DataFrame concatenation with empty or all-NA entries is deprecated. In a future version, this will no longer exclude empty or all-NA columns when determining the result dtypes. To retain the old behavior, exclude the relevant entries before the concat operation.\n",
      "  group_df = pd.concat([group_df, mdl.as_df()[columns]], axis=0)\n",
      "numba cannot be imported and numba functions are disabled.\n",
      "Probably the execution is slow.\n",
      "Please install numba to gain a massive speedup.\n",
      "(or if you prefer slow execution, set the flag numba=False to avoid this warning!)\n",
      "\n"
     ]
    }
   ],
   "source": [
    "ppn = andes.interop.pandapower.to_pandapower(sa, verify=False)\n",
    "\n",
    "pdp.runpp(ppn, algorithm='nr')"
   ]
  },
  {
   "cell_type": "markdown",
   "metadata": {},
   "source": [
    "## Comparasion"
   ]
  },
  {
   "cell_type": "code",
   "execution_count": 12,
   "metadata": {},
   "outputs": [],
   "source": [
    "compdf = pd.DataFrame()\n",
    "\n",
    "# voltage amplitude\n",
    "bus_idx = sa.Bus.idx.v\n",
    "compdf['bus'] = bus_idx\n",
    "\n",
    "compdf['v_andes'] = sa.Bus.get(src='v', attr='v', idx=bus_idx)\n",
    "compdf['v_ams'] = sp.Bus.get(src='v', attr='v', idx=bus_idx)\n",
    "compdf['v_pyp'] = ppc_sol['bus'][:, 7]\n",
    "compdf['v_pdp'] = ppn.res_bus['vm_pu']\n",
    "\n",
    "# voltage angle\n",
    "compdf['a_andes'] = sa.Bus.get(src='a', attr='v', idx=bus_idx) * andes.shared.rad2deg\n",
    "compdf['a_ams'] = sp.Bus.get(src='a', attr='v', idx=bus_idx) * andes.shared.rad2deg\n",
    "compdf['a_pyp'] = ppc_sol['bus'][:, 8]\n",
    "compdf['a_pdp'] = ppn.res_bus['va_degree']\n",
    "\n",
    "# calibrate using slack bus\n",
    "bus_uid = sa.Bus.idx2uid(sa.Slack.bus.v)[0]\n",
    "a_cols = ['a_andes', 'a_ams', 'a_pyp', 'a_pdp']\n",
    "compdf[a_cols] = compdf[a_cols] - compdf[a_cols].iloc[bus_uid]"
   ]
  },
  {
   "cell_type": "code",
   "execution_count": 13,
   "metadata": {},
   "outputs": [
    {
     "data": {
      "text/html": [
       "<div>\n",
       "<style scoped>\n",
       "    .dataframe tbody tr th:only-of-type {\n",
       "        vertical-align: middle;\n",
       "    }\n",
       "\n",
       "    .dataframe tbody tr th {\n",
       "        vertical-align: top;\n",
       "    }\n",
       "\n",
       "    .dataframe thead th {\n",
       "        text-align: right;\n",
       "    }\n",
       "</style>\n",
       "<table border=\"1\" class=\"dataframe\">\n",
       "  <thead>\n",
       "    <tr style=\"text-align: right;\">\n",
       "      <th></th>\n",
       "      <th>bus</th>\n",
       "      <th>v_andes</th>\n",
       "      <th>v_ams</th>\n",
       "      <th>v_pyp</th>\n",
       "      <th>v_pdp</th>\n",
       "      <th>a_andes</th>\n",
       "      <th>a_ams</th>\n",
       "      <th>a_pyp</th>\n",
       "      <th>a_pdp</th>\n",
       "    </tr>\n",
       "  </thead>\n",
       "  <tbody>\n",
       "    <tr>\n",
       "      <th>0</th>\n",
       "      <td>10001</td>\n",
       "      <td>1.009725</td>\n",
       "      <td>1.009725</td>\n",
       "      <td>1.009725</td>\n",
       "      <td>1.009725</td>\n",
       "      <td>7.900361</td>\n",
       "      <td>7.900997</td>\n",
       "      <td>7.900997</td>\n",
       "      <td>7.900997</td>\n",
       "    </tr>\n",
       "    <tr>\n",
       "      <th>1</th>\n",
       "      <td>10002</td>\n",
       "      <td>1.015283</td>\n",
       "      <td>1.015283</td>\n",
       "      <td>1.015283</td>\n",
       "      <td>1.015283</td>\n",
       "      <td>10.704401</td>\n",
       "      <td>10.705036</td>\n",
       "      <td>10.705036</td>\n",
       "      <td>10.705036</td>\n",
       "    </tr>\n",
       "    <tr>\n",
       "      <th>2</th>\n",
       "      <td>10003</td>\n",
       "      <td>1.030120</td>\n",
       "      <td>1.030120</td>\n",
       "      <td>1.030120</td>\n",
       "      <td>1.030120</td>\n",
       "      <td>13.711965</td>\n",
       "      <td>13.712598</td>\n",
       "      <td>13.712598</td>\n",
       "      <td>13.712598</td>\n",
       "    </tr>\n",
       "    <tr>\n",
       "      <th>3</th>\n",
       "      <td>10004</td>\n",
       "      <td>1.031171</td>\n",
       "      <td>1.031171</td>\n",
       "      <td>1.031171</td>\n",
       "      <td>1.031171</td>\n",
       "      <td>13.824762</td>\n",
       "      <td>13.825394</td>\n",
       "      <td>13.825394</td>\n",
       "      <td>13.825394</td>\n",
       "    </tr>\n",
       "    <tr>\n",
       "      <th>4</th>\n",
       "      <td>10005</td>\n",
       "      <td>1.031119</td>\n",
       "      <td>1.031119</td>\n",
       "      <td>1.031119</td>\n",
       "      <td>1.031119</td>\n",
       "      <td>13.818454</td>\n",
       "      <td>13.819087</td>\n",
       "      <td>13.819087</td>\n",
       "      <td>13.819087</td>\n",
       "    </tr>\n",
       "  </tbody>\n",
       "</table>\n",
       "</div>"
      ],
      "text/plain": [
       "     bus   v_andes     v_ams     v_pyp     v_pdp    a_andes      a_ams  \\\n",
       "0  10001  1.009725  1.009725  1.009725  1.009725   7.900361   7.900997   \n",
       "1  10002  1.015283  1.015283  1.015283  1.015283  10.704401  10.705036   \n",
       "2  10003  1.030120  1.030120  1.030120  1.030120  13.711965  13.712598   \n",
       "3  10004  1.031171  1.031171  1.031171  1.031171  13.824762  13.825394   \n",
       "4  10005  1.031119  1.031119  1.031119  1.031119  13.818454  13.819087   \n",
       "\n",
       "       a_pyp      a_pdp  \n",
       "0   7.900997   7.900997  \n",
       "1  10.705036  10.705036  \n",
       "2  13.712598  13.712598  \n",
       "3  13.825394  13.825394  \n",
       "4  13.819087  13.819087  "
      ]
     },
     "execution_count": 13,
     "metadata": {},
     "output_type": "execute_result"
    }
   ],
   "source": [
    "compdf.head()"
   ]
  },
  {
   "cell_type": "markdown",
   "metadata": {},
   "source": [
    "Export comparasion to CSV."
   ]
  },
  {
   "cell_type": "code",
   "execution_count": 14,
   "metadata": {},
   "outputs": [],
   "source": [
    "compdf.to_csv('comp.csv', index=False)"
   ]
  }
 ],
 "metadata": {
  "kernelspec": {
   "display_name": "ams",
   "language": "python",
   "name": "python3"
  },
  "language_info": {
   "codemirror_mode": {
    "name": "ipython",
    "version": 3
   },
   "file_extension": ".py",
   "mimetype": "text/x-python",
   "name": "python",
   "nbconvert_exporter": "python",
   "pygments_lexer": "ipython3",
   "version": "3.9.18"
  },
  "orig_nbformat": 4,
  "vscode": {
   "interpreter": {
    "hash": "d2b3bf80176349caa68dc4a3c77bd06eaade8abc678330f7d1c813c53380e5d2"
   }
  }
 },
 "nbformat": 4,
 "nbformat_minor": 2
}

{
 "cells": [
  {
   "attachments": {},
   "cell_type": "markdown",
   "metadata": {},
   "source": [
    "# AMS Benchmark"
   ]
  },
  {
   "cell_type": "markdown",
   "metadata": {},
   "source": [
    "Reference:\n",
    "\n",
    "1. Power Grid Lib - Optimal Power Flow, https://github.com/power-grid-lib/pglib-opf"
   ]
  },
  {
   "cell_type": "code",
   "execution_count": 1,
   "metadata": {},
   "outputs": [],
   "source": [
    "import os\n",
    "from tqdm import tqdm\n",
    "\n",
    "import numpy as np\n",
    "\n",
    "import andes\n",
    "import ams\n",
    "\n",
    "import pypower.api as pyp\n",
    "\n",
    "import datetime"
   ]
  },
  {
   "cell_type": "code",
   "execution_count": 2,
   "metadata": {},
   "outputs": [
    {
     "name": "stdout",
     "output_type": "stream",
     "text": [
      "Last run time: 2024-03-25 23:46:05\n",
      "andes:1.9.1.post24+g7a87ad5d\n",
      "ams:0.9.5.post1+g114d11e\n"
     ]
    }
   ],
   "source": [
    "print(\"Last run time:\", datetime.datetime.now().strftime(\"%Y-%m-%d %H:%M:%S\"))\n",
    "\n",
    "print(f'andes:{andes.__version__}')\n",
    "print(f'ams:{ams.__version__}')"
   ]
  },
  {
   "cell_type": "code",
   "execution_count": 3,
   "metadata": {},
   "outputs": [],
   "source": [
    "andes.config_logger(stream_level=50)\n",
    "ams.config_logger(stream_level=50)"
   ]
  },
  {
   "cell_type": "code",
   "execution_count": 4,
   "metadata": {},
   "outputs": [
    {
     "name": "stdout",
     "output_type": "stream",
     "text": [
      "The directory \"pglib-opf\" already exists, skipping clone.\n"
     ]
    }
   ],
   "source": [
    "if not os.path.exists('pglib-opf'):\n",
    "    !git clone https://github.com/power-grid-lib/pglib-opf.git\n",
    "else:\n",
    "    print('The directory \"pglib-opf\" already exists, skipping clone.')"
   ]
  },
  {
   "cell_type": "code",
   "execution_count": 5,
   "metadata": {},
   "outputs": [],
   "source": [
    "directory = './pglib-opf/api/'\n",
    "\n",
    "# List all files and directories within the specified directory\n",
    "entries = os.listdir(directory)\n",
    "\n",
    "# Get a list of files in the directory along with their sizes\n",
    "files_with_sizes = [(file, os.path.getsize(os.path.join(directory, file))) for file in os.listdir(directory) if os.path.isfile(os.path.join(directory, file))]\n",
    "\n",
    "# Sort the list of files by size (the second element of the tuple)\n",
    "sorted_files_with_sizes = sorted(files_with_sizes, key=lambda x: x[1])\n",
    "\n",
    "# If you just want a list of filenames sorted by size\n",
    "sorted_files = [file for file, size in sorted_files_with_sizes]"
   ]
  },
  {
   "cell_type": "code",
   "execution_count": 6,
   "metadata": {},
   "outputs": [
    {
     "name": "stderr",
     "output_type": "stream",
     "text": [
      "100%|██████████| 20/20 [00:04<00:00,  4.26it/s]\n"
     ]
    }
   ],
   "source": [
    "failed_cases = []\n",
    "non_optimal_cases = []\n",
    "non_identical_cases = []\n",
    "\n",
    "n_cases = len(sorted_files)\n",
    "n_cases = 20 # test partial cases\n",
    "for case_i in tqdm(range(n_cases)):\n",
    "    opf_case = sorted_files[case_i]\n",
    "    sp = ams.load(directory + opf_case,\n",
    "                  setup=True, no_output=True, default_config=True)\n",
    "    # --- PYPOWER ---\n",
    "    ppc = ams.io.pypower.system2ppc(sp)\n",
    "    ppopt = pyp.ppoption(VERBOSE=0, OUT_ALL=0, PF_ALG=1, OPF_ALG_DC=200)\n",
    "    try:\n",
    "        sp.DCOPF.run(solver='MOSEK')\n",
    "        ppc_sol = pyp.rundcopf(ppc, ppopt)\n",
    "        aBus_check = np.allclose(a=sp.DCOPF.aBus.v * andes.shared.rad2deg,\n",
    "                                b=ppc_sol['bus'][:, 8],\n",
    "                                atol=1e-3)\n",
    "        if not aBus_check:\n",
    "            non_identical_cases.append(opf_case)\n",
    "            continue\n",
    "        if sp.DCOPF.exit_code != 0:\n",
    "            non_optimal_cases.append(opf_case)\n",
    "            continue\n",
    "    except Exception as e:\n",
    "        failed_cases.append(opf_case)\n",
    "        continue"
   ]
  },
  {
   "cell_type": "code",
   "execution_count": 7,
   "metadata": {},
   "outputs": [
    {
     "name": "stdout",
     "output_type": "stream",
     "text": [
      "['pglib_opf_case60_c__api.m', 'pglib_opf_case197_snem__api.m', 'pglib_opf_case500_goc__api.m']\n"
     ]
    }
   ],
   "source": [
    "print(non_identical_cases)"
   ]
  },
  {
   "cell_type": "code",
   "execution_count": 8,
   "metadata": {},
   "outputs": [
    {
     "name": "stdout",
     "output_type": "stream",
     "text": [
      "[]\n"
     ]
    }
   ],
   "source": [
    "print(failed_cases)"
   ]
  },
  {
   "cell_type": "code",
   "execution_count": 9,
   "metadata": {},
   "outputs": [
    {
     "name": "stdout",
     "output_type": "stream",
     "text": [
      "[]\n"
     ]
    }
   ],
   "source": [
    "print(non_optimal_cases)"
   ]
  }
 ],
 "metadata": {
  "kernelspec": {
   "display_name": "ams",
   "language": "python",
   "name": "python3"
  },
  "language_info": {
   "codemirror_mode": {
    "name": "ipython",
    "version": 3
   },
   "file_extension": ".py",
   "mimetype": "text/x-python",
   "name": "python",
   "nbconvert_exporter": "python",
   "pygments_lexer": "ipython3",
   "version": "3.9.18"
  },
  "orig_nbformat": 4,
  "vscode": {
   "interpreter": {
    "hash": "d2b3bf80176349caa68dc4a3c77bd06eaade8abc678330f7d1c813c53380e5d2"
   }
  }
 },
 "nbformat": 4,
 "nbformat_minor": 2
}

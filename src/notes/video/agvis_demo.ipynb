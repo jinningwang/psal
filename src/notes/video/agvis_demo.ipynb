{
 "cells": [
  {
   "cell_type": "code",
   "execution_count": 1,
   "metadata": {},
   "outputs": [],
   "source": [
    "from moviepy.editor import VideoFileClip, CompositeVideoClip, TextClip"
   ]
  },
  {
   "cell_type": "code",
   "execution_count": 2,
   "metadata": {},
   "outputs": [],
   "source": [
    "# recording = VideoFileClip(\"./data/agvis_recording.mov\").resize(width=1920, height=1080, method='bicubic').subclip(0, 1)"
   ]
  },
  {
   "cell_type": "code",
   "execution_count": 3,
   "metadata": {},
   "outputs": [
    {
     "name": "stdout",
     "output_type": "stream",
     "text": [
      "Moviepy - Building video agvis_demo.mp4.\n",
      "Moviepy - Writing video agvis_demo.mp4\n",
      "\n"
     ]
    },
    {
     "name": "stderr",
     "output_type": "stream",
     "text": [
      "                                                                \r"
     ]
    },
    {
     "name": "stdout",
     "output_type": "stream",
     "text": [
      "Moviepy - Done !\n",
      "Moviepy - video ready agvis_demo.mp4\n"
     ]
    }
   ],
   "source": [
    "video_clip = VideoFileClip(\"./data/agvis_recording.mov\")\n",
    "\n",
    "txt_config = {\"position\": (120, 'top')}\n",
    "\n",
    "annotations = [\n",
    "    {\"text\": \"Access the web app in a browser\",\n",
    "     \"start_time\": 0, \"end_time\": 2, **txt_config},\n",
    "    {\"text\": \"WECC case is running at backend\",\n",
    "     \"start_time\": 2, \"end_time\": 6, **txt_config},\n",
    "    {\"text\": \"WECC Frequency map\",\n",
    "     \"start_time\": 6, \"end_time\": 35, **txt_config},\n",
    "    {\"text\": \"Switch to NPCC case\",\n",
    "     \"start_time\": 35, \"end_time\": 45, **txt_config},\n",
    "    {\"text\": \"NPCC case is running at backend\",\n",
    "     \"start_time\": 45, \"end_time\": 47, **txt_config},\n",
    "    {\"text\": \"NPCC Frequency map\",\n",
    "     \"start_time\": 47, \"end_time\": 67, **txt_config},\n",
    "    # Add more annotations as needed\n",
    "]\n",
    "\n",
    "# Create text clips for each annotation\n",
    "text_clips = []\n",
    "for annotation in annotations:\n",
    "    text_clip = TextClip(\n",
    "        annotation[\"text\"], font=\"Arial-Bold\", fontsize=72, color='white', bg_color='black')\n",
    "    text_clip = text_clip.set_position(annotation[\"position\"]).set_start(\n",
    "        annotation[\"start_time\"]).set_end(annotation[\"end_time\"])\n",
    "    text_clips.append(text_clip)\n",
    "\n",
    "# Add the text label to the final clip\n",
    "final_composite = CompositeVideoClip(\n",
    "    [video_clip] + text_clips).set_duration(67)\n",
    "\n",
    "# Write the result to a file\n",
    "final_composite.write_videofile(\"agvis_demo.mp4\", codec=\"libx264\", fps=30)"
   ]
  }
 ],
 "metadata": {
  "kernelspec": {
   "display_name": "psal",
   "language": "python",
   "name": "python3"
  },
  "language_info": {
   "codemirror_mode": {
    "name": "ipython",
    "version": 3
   },
   "file_extension": ".py",
   "mimetype": "text/x-python",
   "name": "python",
   "nbconvert_exporter": "python",
   "pygments_lexer": "ipython3",
   "version": "3.9.18"
  }
 },
 "nbformat": 4,
 "nbformat_minor": 2
}

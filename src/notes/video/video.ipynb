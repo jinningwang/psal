{
 "cells": [
  {
   "cell_type": "code",
   "execution_count": 1,
   "metadata": {},
   "outputs": [],
   "source": [
    "from moviepy.editor import VideoFileClip, clips_array, CompositeVideoClip, TextClip"
   ]
  },
  {
   "cell_type": "code",
   "execution_count": 2,
   "metadata": {},
   "outputs": [
    {
     "name": "stdout",
     "output_type": "stream",
     "text": [
      "Moviepy - Building video npcc3.mp4.\n",
      "Moviepy - Writing video npcc3.mp4\n",
      "\n"
     ]
    },
    {
     "name": "stderr",
     "output_type": "stream",
     "text": [
      "                                                              \r"
     ]
    },
    {
     "name": "stdout",
     "output_type": "stream",
     "text": [
      "Moviepy - Done !\n",
      "Moviepy - video ready npcc3.mp4\n"
     ]
    }
   ],
   "source": [
    "# Function to resize and trim clips\n",
    "def process_clip(path, width, start_time=0, end_time=15):\n",
    "    return VideoFileClip(path).resize(width=width).subclip(start_time, end_time)\n",
    "\n",
    "# Assuming you want the final video to be 1920x1080 (Full HD)\n",
    "clip_width = 960  # Half the final video's width\n",
    "clip_height = 540  # Half the final video's height\n",
    "\n",
    "# Process the video clips\n",
    "clip_tl = process_clip(\"npcc_base_h.mov\", width=clip_width, start_time=0, end_time=19)\n",
    "clip_tr = process_clip(\"npcc_base_l.mov\", width=clip_width, start_time=0.07, end_time=19)\n",
    "clip_bl = process_clip(\"npcc_ibr_h.mov\", width=clip_width, start_time=0, end_time=19)\n",
    "clip_br = process_clip(\"npcc_ibr_l.mov\", width=clip_width, start_time=0, end_time=19)\n",
    "\n",
    "# Arrange clips in a grid\n",
    "video_matrix = [[clip_tl, clip_tr], [clip_bl, clip_br]]\n",
    "final_clip = clips_array(video_matrix, bg_color=(255,255,255))\n",
    "\n",
    "# Create text labels\n",
    "font, fontsize, color = \"Calibri-Bold\", 36, 'black'\n",
    "txt_clip1 = TextClip(\"NPCC - SynGen\\nHeavy load\", font=font, fontsize=fontsize, color=color).set_pos((40.5, 50.5)).set_duration(20).set_start(0)\n",
    "txt_clip2 = TextClip(\"NPCC - IBR\\nHeavy load\",  font=font, fontsize=fontsize, color=color).set_pos((40.5, 600.5)).set_duration(20).set_start(0)\n",
    "txt_clip3 = TextClip(\"NPCC - SynGen\\nLight load\", font=font, fontsize=fontsize, color=color).set_pos((1000.5, 50.5)).set_duration(20).set_start(0)\n",
    "txt_clip4 = TextClip(\"NPCC - IBR\\nLight load\",  font=font, fontsize=fontsize, color=color).set_pos((1000.5, 600.5)).set_duration(20).set_start(0)\n",
    "\n",
    "# Add the text label to the final clip\n",
    "final_composite = CompositeVideoClip([final_clip, txt_clip1, txt_clip2, txt_clip3, txt_clip4], size=(1920,1080)).set_duration(15 .02)\n",
    "\n",
    "# Write the result to a file\n",
    "final_composite.write_videofile(\"npcc_out.mp4\", codec=\"libx264\", fps=30)"
   ]
  }
 ],
 "metadata": {
  "kernelspec": {
   "display_name": "psal",
   "language": "python",
   "name": "python3"
  },
  "language_info": {
   "codemirror_mode": {
    "name": "ipython",
    "version": 3
   },
   "file_extension": ".py",
   "mimetype": "text/x-python",
   "name": "python",
   "nbconvert_exporter": "python",
   "pygments_lexer": "ipython3",
   "version": "3.9.7"
  }
 },
 "nbformat": 4,
 "nbformat_minor": 2
}

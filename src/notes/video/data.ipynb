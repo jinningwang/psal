{
 "cells": [
  {
   "cell_type": "code",
   "execution_count": 1,
   "metadata": {},
   "outputs": [],
   "source": [
    "import numpy as np\n",
    "import pandas as pd"
   ]
  },
  {
   "cell_type": "code",
   "execution_count": 4,
   "metadata": {},
   "outputs": [],
   "source": [
    "npcc_base_l = pd.read_csv('./npcc_base_l_out.csv')\n",
    "row_keep = np.where(npcc_base_l['Time [s]'] <= 20.01)[0]\n",
    "npcc_base_l_out = npcc_base_l.iloc[row_keep].copy()\n",
    "npcc_base_l_out.to_csv('./npcc_base_l_out_cut.csv', index=False)"
   ]
  },
  {
   "cell_type": "code",
   "execution_count": 5,
   "metadata": {},
   "outputs": [],
   "source": [
    "npcc_base_h = pd.read_csv('./npcc_base_h_out.csv')\n",
    "row_keep = np.where(npcc_base_h['Time [s]'] <= 20.01)[0]\n",
    "npcc_base_h_out = npcc_base_h.iloc[row_keep].copy()\n",
    "npcc_base_h_out.to_csv('./npcc_base_h_out_cut.csv', index=False)"
   ]
  },
  {
   "cell_type": "code",
   "execution_count": 6,
   "metadata": {},
   "outputs": [],
   "source": [
    "npcc_ibr_l = pd.read_csv('./npcc_ibr_l_out.csv')\n",
    "row_keep = np.where(npcc_ibr_l['Time [s]'] <= 20.01)[0]\n",
    "npcc_ibr_l_out = npcc_ibr_l.iloc[row_keep].copy()\n",
    "npcc_ibr_l_out.to_csv('./npcc_ibr_l_out_cut.csv', index=False)"
   ]
  },
  {
   "cell_type": "code",
   "execution_count": 7,
   "metadata": {},
   "outputs": [],
   "source": [
    "npcc_ibr_h = pd.read_csv('./npcc_ibr_h_out.csv')\n",
    "row_keep = np.where(npcc_ibr_h['Time [s]'] <= 20.01)[0]\n",
    "npcc_ibr_h_out = npcc_ibr_h.iloc[row_keep].copy()\n",
    "npcc_ibr_h_out.to_csv('./npcc_ibr_h_out_cut.csv', index=False)"
   ]
  }
 ],
 "metadata": {
  "kernelspec": {
   "display_name": "psal",
   "language": "python",
   "name": "python3"
  },
  "language_info": {
   "codemirror_mode": {
    "name": "ipython",
    "version": 3
   },
   "file_extension": ".py",
   "mimetype": "text/x-python",
   "name": "python",
   "nbconvert_exporter": "python",
   "pygments_lexer": "ipython3",
   "version": "3.9.7"
  }
 },
 "nbformat": 4,
 "nbformat_minor": 2
}

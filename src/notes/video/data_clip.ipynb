{
 "cells": [
  {
   "cell_type": "code",
   "execution_count": 1,
   "metadata": {},
   "outputs": [],
   "source": [
    "import numpy as np\n",
    "import pandas as pd"
   ]
  },
  {
   "cell_type": "code",
   "execution_count": 2,
   "metadata": {},
   "outputs": [],
   "source": [
    "tf = 20.05\n",
    "\n",
    "base97 = pd.read_csv('./data/npcc_base_97_out.csv')\n",
    "row_keep = np.where(base97['Time [s]'] <= tf)[0]\n",
    "base97_out = base97.iloc[row_keep].copy()\n",
    "base97_out.to_csv('./data/npcc_base_97_cut_out.csv', index=False)\n",
    "\n",
    "base105 = pd.read_csv('./data/npcc_base_105_out.csv')\n",
    "row_keep = np.where(base105['Time [s]'] <= tf)[0]\n",
    "base105_out = base105.iloc[row_keep].copy()\n",
    "base105_out.to_csv('./data/npcc_base_105_cut_out.csv', index=False)\n",
    "\n",
    "ibr97 = pd.read_csv('./data/npcc_ibr_97_out.csv')\n",
    "row_keep = np.where(ibr97['Time [s]'] <= tf)[0]\n",
    "ibr97_out = ibr97.iloc[row_keep].copy()\n",
    "ibr97_out.to_csv('./data/npcc_ibr_97_cut_out.csv', index=False)\n",
    "\n",
    "ibr105 = pd.read_csv('./data/npcc_ibr_105_out.csv')\n",
    "row_keep = np.where(ibr105['Time [s]'] <= tf)[0]\n",
    "ibr105_out = ibr105.iloc[row_keep].copy()\n",
    "ibr105_out.to_csv('./data/npcc_ibr_105_cut_out.csv', index=False)\n",
    "\n",
    "ibri97 = pd.read_csv('./data/npcc_ibri_97_out.csv')\n",
    "row_keep = np.where(ibri97['Time [s]'] <= tf)[0]\n",
    "ibri97_out = ibri97.iloc[row_keep].copy()\n",
    "ibri97_out.to_csv('./data/npcc_ibri_97_cut_out.csv', index=False)\n",
    "\n",
    "ibri105 = pd.read_csv('./data/npcc_ibri_105_out.csv')\n",
    "row_keep = np.where(ibri105['Time [s]'] <= tf)[0]\n",
    "ibri105_out = ibri105.iloc[row_keep].copy()\n",
    "ibri105_out.to_csv('./data/npcc_ibri_105_cut_out.csv', index=False)"
   ]
  }
 ],
 "metadata": {
  "kernelspec": {
   "display_name": "psal",
   "language": "python",
   "name": "python3"
  },
  "language_info": {
   "codemirror_mode": {
    "name": "ipython",
    "version": 3
   },
   "file_extension": ".py",
   "mimetype": "text/x-python",
   "name": "python",
   "nbconvert_exporter": "python",
   "pygments_lexer": "ipython3",
   "version": "3.9.18"
  }
 },
 "nbformat": 4,
 "nbformat_minor": 2
}

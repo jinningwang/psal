{
 "cells": [
  {
   "cell_type": "code",
   "execution_count": 1,
   "metadata": {},
   "outputs": [],
   "source": [
    "from moviepy.editor import VideoFileClip, clips_array, CompositeVideoClip, TextClip"
   ]
  },
  {
   "cell_type": "code",
   "execution_count": 2,
   "metadata": {},
   "outputs": [
    {
     "name": "stdout",
     "output_type": "stream",
     "text": [
      "Moviepy - Building video npcc_out.mp4.\n",
      "Moviepy - Writing video npcc_out.mp4\n",
      "\n"
     ]
    },
    {
     "name": "stderr",
     "output_type": "stream",
     "text": [
      "                                                              \r"
     ]
    },
    {
     "name": "stdout",
     "output_type": "stream",
     "text": [
      "Moviepy - Done !\n",
      "Moviepy - video ready npcc_out.mp4\n"
     ]
    }
   ],
   "source": [
    "# Function to resize and trim clips\n",
    "def process_clip(path, width, height, start_time=0, end_time=15):\n",
    "    return VideoFileClip(path).resize(width=width, height=height).subclip(start_time, end_time)\n",
    "\n",
    "# Assuming you want the final video to be 1960*1080 (Full HD)\n",
    "k=1.12\n",
    "clip_width, clip_height = k*480, k*320\n",
    "\n",
    "# Process the video clips\n",
    "config = dict(width=clip_width, height=clip_height, start_time=0, end_time=19)\n",
    "\n",
    "base97 = process_clip(\"./data/base97.mov\", **config)\n",
    "base105 = process_clip(\"./data/base105.mov\", **config)\n",
    "ibri97 = process_clip(\"./data/ibri97.mov\", **config)\n",
    "ibri105 = process_clip(\"./data/ibri105.mov\", **config)\n",
    "ibr97 = process_clip(\"./data/ibr97.mov\", **config)\n",
    "ibr105 = process_clip(\"./data/ibr105.mov\", **config)\n",
    "\n",
    "# Arrange clips in a grid\n",
    "video_matrix = [[base97, ibri97, ibr97],\n",
    "                [base105, ibri105, ibr105]]\n",
    "final_clip = clips_array(video_matrix, bg_color=(255,255,255)).set_pos(('center', 'center'))\n",
    "\n",
    "# Create text labels\n",
    "font, fontsize, color = \"Arial-Bold\", 40, 'white'\n",
    "load1 = 'Load: 29,439.27 MW'\n",
    "load2 = 'Load: 31,867.25 MW'\n",
    "x1, x2, x3 = 70.5, 720.5, 1380.5\n",
    "y1, y2 = 120.5, 920.5\n",
    "\n",
    "txt_base97 = TextClip(f\"Case 1; {load1}\", font=font, fontsize=fontsize, color=color).set_pos((x1, y1)).set_duration(19).set_start(0)\n",
    "txt_base105 = TextClip(f\"Case 1; {load2}\", font=font, fontsize=fontsize, color=color).set_pos((x1, y2)).set_duration(19).set_start(0)\n",
    "txt_ibri97 = TextClip(f\"Case 2; {load1}\", font=font, fontsize=fontsize, color=color).set_pos((x2, y1)).set_duration(19).set_start(0)\n",
    "txt_ibri105 = TextClip(f\"Case 2; {load2}\", font=font, fontsize=fontsize, color=color).set_pos((x2, y2)).set_duration(19).set_start(0)\n",
    "txt_ibr97 = TextClip(f\"Case 3; {load1}\", font=font, fontsize=fontsize, color=color).set_pos((x3, y1)).set_duration(19).set_start(0)\n",
    "txt_ibr105 = TextClip(f\"Case 3; {load2}\", font=font, fontsize=fontsize, color=color).set_pos((x3, y2)).set_duration(19).set_start(0)\n",
    "\n",
    "txt_clips = [txt_base97, txt_base105, txt_ibri97, txt_ibri105, txt_ibr97, txt_ibr105]\n",
    "\n",
    "# Add the text label to the final clip\n",
    "final_composite = CompositeVideoClip([final_clip] + txt_clips, size=(1960,1080)).set_duration(10)\n",
    "\n",
    "# Write the result to a file\n",
    "final_composite.write_videofile(\"npcc_out.mp4\", codec=\"libx264\", fps=30)"
   ]
  }
 ],
 "metadata": {
  "kernelspec": {
   "display_name": "psal",
   "language": "python",
   "name": "python3"
  },
  "language_info": {
   "codemirror_mode": {
    "name": "ipython",
    "version": 3
   },
   "file_extension": ".py",
   "mimetype": "text/x-python",
   "name": "python",
   "nbconvert_exporter": "python",
   "pygments_lexer": "ipython3",
   "version": "3.9.7"
  }
 },
 "nbformat": 4,
 "nbformat_minor": 2
}

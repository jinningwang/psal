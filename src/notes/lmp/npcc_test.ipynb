{
 "cells": [
  {
   "attachments": {},
   "cell_type": "markdown",
   "metadata": {},
   "source": [
    "# NPCC Contingency Generation"
   ]
  },
  {
   "cell_type": "markdown",
   "metadata": {},
   "source": [
    "This file is used to generate the Gen Trip figures."
   ]
  },
  {
   "cell_type": "code",
   "execution_count": 1,
   "metadata": {},
   "outputs": [],
   "source": [
    "import numpy as np\n",
    "import pandas as pd\n",
    "\n",
    "import andes\n",
    "import ams\n",
    "\n",
    "import datetime\n",
    "\n",
    "import matplotlib\n",
    "import matplotlib.pyplot as plt"
   ]
  },
  {
   "cell_type": "code",
   "execution_count": 2,
   "metadata": {},
   "outputs": [],
   "source": [
    "matplotlib.rcdefaults()"
   ]
  },
  {
   "cell_type": "code",
   "execution_count": 3,
   "metadata": {},
   "outputs": [],
   "source": [
    "%matplotlib inline"
   ]
  },
  {
   "cell_type": "code",
   "execution_count": 4,
   "metadata": {},
   "outputs": [
    {
     "name": "stdout",
     "output_type": "stream",
     "text": [
      "Last run time: 2024-04-26 14:32:24\n",
      "andes:1.9.1.post47+g6e178a22\n",
      "ams:0.9.6.post5+gef1d8a0\n"
     ]
    }
   ],
   "source": [
    "print(\"Last run time:\", datetime.datetime.now().strftime(\"%Y-%m-%d %H:%M:%S\"))\n",
    "\n",
    "print(f'andes:{andes.__version__}')\n",
    "print(f'ams:{ams.__version__}')"
   ]
  },
  {
   "cell_type": "code",
   "execution_count": 5,
   "metadata": {},
   "outputs": [],
   "source": [
    "andes.config_logger(stream_level=50)\n",
    "ams.config_logger(stream_level=50)"
   ]
  },
  {
   "cell_type": "code",
   "execution_count": 6,
   "metadata": {},
   "outputs": [],
   "source": [
    "ams_file = './data/npcc_uced_base.xlsx' # npcc_uced_base\n",
    "andes_file = './data/npcc_ibr.xlsx' # npcc_base, npcc_ibr\n",
    "\n",
    "k_load = 1.05 # load factor, 0.97, 1.05\n",
    "\n",
    "out_file = './res/npcc_ibr_105_out.csv' # npcc_base_h_out.csv, npcc_ibr_h_out.csv, npcc_ibri_h_out\n",
    "# base: SynGen with regular cost curve\n",
    "# ibr: IBR with zero cost curve, \n",
    "# ibri: IBR with same cost curve as base case\n",
    "\n",
    "ad_case = out_file.split('/')[-1].split('.')[0].split('_')[1]"
   ]
  },
  {
   "cell_type": "code",
   "execution_count": 7,
   "metadata": {},
   "outputs": [],
   "source": [
    "sp = ams.load(ams_file,\n",
    "              setup=True,\n",
    "              no_output=True,\n",
    "              default_config=True,)\n",
    "\n",
    "idx_pq = sp.PQ.idx.v\n",
    "p0_pq = sp.PQ.p0.v.copy()\n",
    "q0_pq = sp.PQ.q0.v.copy()\n",
    "\n",
    "sp.PQ.alter(src='p0', idx=idx_pq, value=p0_pq * k_load)\n",
    "sp.PQ.alter(src='q0', idx=idx_pq, value=q0_pq * k_load)"
   ]
  },
  {
   "cell_type": "code",
   "execution_count": 8,
   "metadata": {},
   "outputs": [],
   "source": [
    "sa = sp.to_andes(addfile=andes_file,\n",
    "                 setup=True, no_output=True, default_config=True)"
   ]
  },
  {
   "cell_type": "code",
   "execution_count": 9,
   "metadata": {},
   "outputs": [],
   "source": [
    "def test_andes(gen_idx):\n",
    "    \"\"\"\n",
    "    gen_idx: str\n",
    "        Tripped generator idx\n",
    "    \"\"\"\n",
    "    sa = sp.to_andes(addfile=andes_file,\n",
    "                    setup=True, no_output=True, default_config=True)\n",
    "\n",
    "    # set the tripped gen\n",
    "    sa.Toggle.set(src='dev', attr='v', idx='Toggler_1', value=gen_idx)\n",
    "\n",
    "    tg_idx = sa.TGOV1NDB.idx.v\n",
    "    sa.TGOV1NDB.alter(src='VMAX', idx=tg_idx, value=999*np.ones(sa.TGOV1NDB.n))\n",
    "    sa.TGOV1NDB.alter(src='VMIN', idx=tg_idx, value=np.zeros(sa.TGOV1NDB.n))\n",
    "\n",
    "    iex_idx = sa.IEEEX1.idx.v\n",
    "    vrmax = sa.IEEEX1.VRMAX.v.copy()\n",
    "    vrmin = sa.IEEEX1.VRMIN.v.copy()\n",
    "    k_iex = 500\n",
    "    sa.IEEEX1.alter(src='VRMAX', idx=iex_idx, value=k_iex * vrmax)\n",
    "    sa.IEEEX1.alter(src='VRMIN', idx=iex_idx, value=k_iex * vrmin)\n",
    "\n",
    "    ist_idx = sa.IEEEST.idx.v\n",
    "    lsmax = sa.IEEEST.LSMAX.v.copy()\n",
    "    lsmin = sa.IEEEST.LSMIN.v.copy()\n",
    "    k_ist = 500\n",
    "    sa.IEEEST.alter(src='LSMAX', idx=ist_idx, value=k_ist * lsmax)\n",
    "    sa.IEEEST.alter(src='LSMIN', idx=ist_idx, value=k_ist * lsmin)\n",
    "\n",
    "    # for ibri, do not change the cost curve of VSG\n",
    "    if ad_case == 'ibr':\n",
    "        vsg_idx = sa.REGCV1.gen.v\n",
    "        gcost_vsg_idx = sp.GCost.find_idx(keys='gen', values=vsg_idx)\n",
    "        sp.GCost.set(src='c2', attr='v', idx=gcost_vsg_idx, value=np.zeros(sa.REGCV1.n))\n",
    "        sp.GCost.set(src='c1', attr='v', idx=gcost_vsg_idx, value=np.zeros(sa.REGCV1.n))\n",
    "        sp.GCost.set(src='c0', attr='v', idx=gcost_vsg_idx, value=np.zeros(sa.REGCV1.n))\n",
    "    \n",
    "    sp.RTED.init()\n",
    "    sp.RTED.run(solver='MOSEK')\n",
    "    sp.RTED.dc2ac()\n",
    "\n",
    "    sp.dyn.send(routine='RTED', adsys=sa)\n",
    "\n",
    "    sa.PFlow.run()\n",
    "\n",
    "    _ = sa.TDS.init()\n",
    "\n",
    "    sa.TDS.config.criteria = True\n",
    "    sa.TDS.config.no_tqdm = True\n",
    "\n",
    "    sa.TDS.config.tf = 50\n",
    "    sa.TDS.run()\n",
    "\n",
    "    stg_idx = sp.dyn.link['stg_idx'].tolist()\n",
    "    stg_bus = sa.StaticGen.get(src='bus', attr='v', idx=stg_idx)\n",
    "    stg_bus_uid = sa.Bus.idx2uid(stg_bus)\n",
    "\n",
    "    busfreq_bus = sa.BusFreq.find_idx(keys='bus', values=stg_bus)\n",
    "    busfreq_bus_uid = sa.Bus.idx2uid(stg_bus)\n",
    "\n",
    "    Tf = sa.BusFreq.Tf.v.mean().round(3)\n",
    "    Tw = sa.BusFreq.Tw.v.mean().round(3)\n",
    "\n",
    "    fig, ax = plt.subplots(1, 2, figsize=(10, 5), dpi=80)\n",
    "\n",
    "    fmin, fmax=59.9, 60.1\n",
    "    vmin, vmax=0.8, 1.4\n",
    "    trip_gen = sa.Toggle.dev.v[0]\n",
    "\n",
    "    sa.TDS.plt.plot(sa.GENCLS.omega,\n",
    "                    ax=ax[0], fig=fig,\n",
    "                    grid=True, show=False, legend=False,\n",
    "                    ytimes=sa.config.freq, ymin=fmin, ymax=fmax,\n",
    "                    title=f'{ad_case}, k_load={k_load}')\n",
    "    sa.TDS.plt.plot(sa.GENROU.omega,\n",
    "                    ax=ax[0], fig=fig,\n",
    "                    grid=True, show=False, legend=False,\n",
    "                    ytimes=sa.config.freq,)\n",
    "    sa.TDS.plt.plot(sa.REGCV1.omega,\n",
    "                    ax=ax[0], fig=fig,\n",
    "                    grid=True, show=False, legend=False,\n",
    "                    ytimes=sa.config.freq,)\n",
    "\n",
    "    sa.TDS.plt.plot(sa.Bus.v,\n",
    "                    a=stg_bus_uid,\n",
    "                    ax=ax[1], fig=fig,\n",
    "                    grid=True, show=False,\n",
    "                    ymin=vmin, ymax=vmax,\n",
    "                    title=f'Trip {trip_gen}')\n",
    "    sa.TDS.plt.export_csv(out_file)\n",
    "    plt.close(fig)\n",
    "    fig.savefig(f'./res/{ad_case}_{int(k_load*100)}_{trip_gen}.png', format='png')\n",
    "    return sa"
   ]
  },
  {
   "cell_type": "code",
   "execution_count": 10,
   "metadata": {},
   "outputs": [
    {
     "name": "stdout",
     "output_type": "stream",
     "text": [
      "<Toggle Toggler_1>: SynGen.GENROU_57 status changed to 0 at t=1.0 sec.\n"
     ]
    }
   ],
   "source": [
    "syg_idx = sa.GENROU.idx.v + sa.GENCLS.idx.v\n",
    "syg_idx = ['GENROU_57']\n",
    "for syg in syg_idx:\n",
    "    sa = test_andes(syg)"
   ]
  }
 ],
 "metadata": {
  "kernelspec": {
   "display_name": "ams",
   "language": "python",
   "name": "python3"
  },
  "language_info": {
   "codemirror_mode": {
    "name": "ipython",
    "version": 3
   },
   "file_extension": ".py",
   "mimetype": "text/x-python",
   "name": "python",
   "nbconvert_exporter": "python",
   "pygments_lexer": "ipython3",
   "version": "3.9.18"
  },
  "orig_nbformat": 4,
  "vscode": {
   "interpreter": {
    "hash": "d2b3bf80176349caa68dc4a3c77bd06eaade8abc678330f7d1c813c53380e5d2"
   }
  }
 },
 "nbformat": 4,
 "nbformat_minor": 2
}

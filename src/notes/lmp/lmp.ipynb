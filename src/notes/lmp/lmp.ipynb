{
 "cells": [
  {
   "attachments": {},
   "cell_type": "markdown",
   "metadata": {},
   "source": [
    "# Locational Marginal Price Map"
   ]
  },
  {
   "cell_type": "markdown",
   "metadata": {},
   "source": [
    "Reference:\n",
    "\n",
    "1. Zhang, Q., Li, F. A Dataset for Electricity Market Studies on Western and Northeastern Power Grids in the United States. Sci Data 10, 646 (2023). https://doi.org/10.1038/s41597-023-02448-w\n",
    "1. https://github.com/enliten/ENLITEN-Grid-Econ-Data/"
   ]
  },
  {
   "cell_type": "code",
   "execution_count": 1,
   "metadata": {},
   "outputs": [],
   "source": [
    "from tqdm import tqdm\n",
    "\n",
    "import numpy as np\n",
    "import pandas as pd\n",
    "import scipy\n",
    "\n",
    "import andes\n",
    "import ams\n",
    "\n",
    "import pypower.api as pyp\n",
    "\n",
    "import datetime\n",
    "\n",
    "import matplotlib\n",
    "import matplotlib.pyplot as plt"
   ]
  },
  {
   "cell_type": "code",
   "execution_count": 2,
   "metadata": {},
   "outputs": [],
   "source": [
    "matplotlib.rcdefaults()"
   ]
  },
  {
   "cell_type": "code",
   "execution_count": 3,
   "metadata": {},
   "outputs": [],
   "source": [
    "%matplotlib inline"
   ]
  },
  {
   "cell_type": "code",
   "execution_count": 4,
   "metadata": {},
   "outputs": [
    {
     "name": "stdout",
     "output_type": "stream",
     "text": [
      "Last run time: 2024-03-25 23:04:15\n",
      "andes:1.9.1.post24+g7a87ad5d\n",
      "ams:0.9.5.post1+g114d11e\n"
     ]
    }
   ],
   "source": [
    "print(\"Last run time:\", datetime.datetime.now().strftime(\"%Y-%m-%d %H:%M:%S\"))\n",
    "\n",
    "print(f'andes:{andes.__version__}')\n",
    "print(f'ams:{ams.__version__}')"
   ]
  },
  {
   "cell_type": "code",
   "execution_count": 5,
   "metadata": {},
   "outputs": [],
   "source": [
    "ams.config_logger(stream_level=40)"
   ]
  },
  {
   "cell_type": "code",
   "execution_count": 6,
   "metadata": {},
   "outputs": [],
   "source": [
    "npcc_lmp_src = scipy.io.loadmat('./data/NPCC_LMP.mat')\n",
    "npcc_lmp = npcc_lmp_src['LMP_c']\n",
    "npcc_load_src = scipy.io.loadmat('./data/NPCC_Load.mat')\n",
    "npcc_load = npcc_load_src['load_dis']\n",
    "\n",
    "wecc_lmp_src = scipy.io.loadmat('./data/WECC_LMP.mat')\n",
    "wecc_lmp = wecc_lmp_src['LMP_c']\n",
    "wecc_load_src = scipy.io.loadmat('./data/WECC_Load.mat')\n",
    "wecc_load = wecc_load_src['load_dis']"
   ]
  },
  {
   "cell_type": "code",
   "execution_count": 7,
   "metadata": {},
   "outputs": [],
   "source": [
    "sp_npcc = ams.load('./data/NPCC.m',\n",
    "                   setup=True,\n",
    "                   no_output=True,\n",
    "                   default_config=True,)"
   ]
  },
  {
   "cell_type": "code",
   "execution_count": 8,
   "metadata": {},
   "outputs": [
    {
     "name": "stderr",
     "output_type": "stream",
     "text": [
      "100%|██████████| 100/100 [00:14<00:00,  6.98it/s]\n"
     ]
    }
   ],
   "source": [
    "total_hour = 24 * 366  # 2020 is a leap year\n",
    "\n",
    "npcc_mpc = ams.io.matpower.m2mpc('./data/NPCC.m')  # base MPC\n",
    "\n",
    "total_hour = 100  # check partial hours\n",
    "for i_hour in tqdm(range(total_hour)):\n",
    "    npcc_mpc['bus'][:, 2] = npcc_load[:, i_hour]  # update load\n",
    "    sp = ams.system.System(setup=False, no_output=True, default_config=True)\n",
    "    ams.io.matpower.mpc2system(npcc_mpc, sp)\n",
    "    sp.setup()\n",
    "    sp.DCOPF.run(solver='PIQP')\n",
    "    if sp.DCOPF.exit_code != 0:\n",
    "        print(f'Hour {i_hour} DCOPF failed')\n",
    "    # --- LMP check ---\n",
    "    lmp_check = np.allclose(a=sp.DCOPF.pi.v/sp.config.mva,\n",
    "                            b=npcc_lmp[:, i_hour],\n",
    "                            atol=1e-3)\n",
    "    if not lmp_check:\n",
    "        print(f'Hour {i_hour} LMP check failed')\n",
    "    # --- aBus check ---\n",
    "    ppc = ams.io.pypower.system2ppc(sp)\n",
    "    ppopt = pyp.ppoption(VERBOSE=0, OUT_ALL=0, PF_ALG=1, OPF_ALG_DC=200)\n",
    "    ppc_sol = pyp.rundcopf(ppc, ppopt)\n",
    "    aBus_check = np.allclose(a=sp.DCOPF.aBus.v * andes.shared.rad2deg,\n",
    "                             b=ppc_sol['bus'][:, 8],\n",
    "                             atol=1e-3)\n",
    "    if not aBus_check:\n",
    "        print(f'Hour {i_hour} aBus check failed')"
   ]
  }
 ],
 "metadata": {
  "kernelspec": {
   "display_name": "ams",
   "language": "python",
   "name": "python3"
  },
  "language_info": {
   "codemirror_mode": {
    "name": "ipython",
    "version": 3
   },
   "file_extension": ".py",
   "mimetype": "text/x-python",
   "name": "python",
   "nbconvert_exporter": "python",
   "pygments_lexer": "ipython3",
   "version": "3.9.18"
  },
  "orig_nbformat": 4,
  "vscode": {
   "interpreter": {
    "hash": "d2b3bf80176349caa68dc4a3c77bd06eaade8abc678330f7d1c813c53380e5d2"
   }
  }
 },
 "nbformat": 4,
 "nbformat_minor": 2
}

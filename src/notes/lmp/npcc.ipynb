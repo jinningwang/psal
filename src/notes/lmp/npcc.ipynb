{
 "cells": [
  {
   "attachments": {},
   "cell_type": "markdown",
   "metadata": {},
   "source": [
    "# NPCC Contingency Analysis"
   ]
  },
  {
   "cell_type": "markdown",
   "metadata": {},
   "source": [
    "Reference:\n",
    "\n",
    "1. Zhang, Q., Li, F. A Dataset for Electricity Market Studies on Western and Northeastern Power Grids in the United States. Sci Data 10, 646 (2023). https://doi.org/10.1038/s41597-023-02448-w\n",
    "1. https://github.com/enliten/ENLITEN-Grid-Econ-Data/"
   ]
  },
  {
   "cell_type": "code",
   "execution_count": 1,
   "metadata": {},
   "outputs": [],
   "source": [
    "from tqdm import tqdm\n",
    "\n",
    "import numpy as np\n",
    "import pandas as pd\n",
    "\n",
    "import andes\n",
    "import ams\n",
    "\n",
    "import datetime\n",
    "\n",
    "import matplotlib\n",
    "import matplotlib.pyplot as plt"
   ]
  },
  {
   "cell_type": "code",
   "execution_count": 2,
   "metadata": {},
   "outputs": [],
   "source": [
    "matplotlib.rcdefaults()"
   ]
  },
  {
   "cell_type": "code",
   "execution_count": 3,
   "metadata": {},
   "outputs": [],
   "source": [
    "%matplotlib inline"
   ]
  },
  {
   "cell_type": "code",
   "execution_count": 4,
   "metadata": {},
   "outputs": [
    {
     "name": "stdout",
     "output_type": "stream",
     "text": [
      "Last run time: 2024-04-10 16:16:16\n",
      "andes:1.9.2\n",
      "ams:0.9.5.post25+g738d558\n"
     ]
    }
   ],
   "source": [
    "print(\"Last run time:\", datetime.datetime.now().strftime(\"%Y-%m-%d %H:%M:%S\"))\n",
    "\n",
    "print(f'andes:{andes.__version__}')\n",
    "print(f'ams:{ams.__version__}')"
   ]
  },
  {
   "cell_type": "code",
   "execution_count": 5,
   "metadata": {},
   "outputs": [],
   "source": [
    "andes.config_logger(stream_level=20)\n",
    "ams.config_logger(stream_level=20)"
   ]
  },
  {
   "cell_type": "code",
   "execution_count": 6,
   "metadata": {},
   "outputs": [],
   "source": [
    "ams_file = './data/npcc_uced_base.xlsx' # npcc_uced_base\n",
    "andes_file = './data/npcc_ibr.xlsx' # npcc_ibr.xlsx, npcc_base.xlsx,\n",
    "\n",
    "# 0.95, 1.1\n",
    "k_load = 0.97  # load factor\n",
    "\n",
    "out_file = './data/npcc_ibr_97_out.csv' # npcc_base_h_out.csv, npcc_ibr_h_out.csv\n",
    "# ibr refers IBR with zero cost curve, while ibri refers IBR with same cost curve as base case\n",
    "\n",
    "ad_case = out_file.split('/')[-1].split('.')[0].split('_')[1]"
   ]
  },
  {
   "cell_type": "code",
   "execution_count": 7,
   "metadata": {},
   "outputs": [
    {
     "name": "stderr",
     "output_type": "stream",
     "text": [
      "Working directory: \"/Users/jinningwang/Documents/work/psal/src/notes/lmp\"\n",
      "Parsing input file \"./data/npcc_uced_base.xlsx\"...\n",
      "Input file parsed in 0.2949 seconds.\n",
      "Zero line rates detacted in rate_b, rate_c, adjusted to 999.\n",
      "System set up in 0.0032 seconds.\n",
      "> Loaded generated Python code in \"/Users/jinningwang/.andes/pycode\".\n",
      "Parsing additional file \"./data/npcc_ibr.xlsx\"...\n",
      "Following PFlow models in addfile will be overwritten: <Bus>, <PQ>, <PV>, <Slack>, <Line>, <Area>\n",
      "Addfile parsed in 0.1714 seconds.\n",
      "System converted to ANDES in 0.1680 seconds.\n",
      "AMS system 0x105a95040 is linked to the ANDES system 0x16be413a0.\n",
      "System internal structure set up in 0.0281 seconds.\n",
      "<PFlow> initialized in 0.0053 seconds.\n",
      " 0: |F(x)| = 1.393355502\n",
      " 1: |F(x)| = 1.353411895\n",
      " 2: |F(x)| = 0.02500957521\n",
      " 3: |F(x)| = 1.385231783e-05\n",
      " 4: |F(x)| = 8.849762214e-12\n",
      "<PFlow> solved in 0.0177 seconds, converged in 4 iterations with PYPOWER-Newton.\n",
      "-> System connectivity check results:\n",
      "  No islanded bus detected.\n",
      "  System is interconnected.\n",
      "  Each island has a slack bus correctly defined and enabled.\n",
      "\n",
      "-> Power flow calculation\n",
      "           Numba: Off\n",
      "   Sparse solver: KLU\n",
      " Solution method: NR method\n",
      "Power flow initialized in 0.0049 seconds.\n",
      "0: |F(x)| = 2.424674304\n",
      "1: |F(x)| = 1.353414241\n",
      "2: |F(x)| = 0.02500969244\n",
      "3: |F(x)| = 1.385302162e-05\n",
      "4: |F(x)| = 8.835598919e-12\n",
      "Converged in 5 iterations in 0.0074 seconds.\n",
      "Power flow results are consistent.\n"
     ]
    }
   ],
   "source": [
    "sp = ams.load(ams_file,\n",
    "              setup=True,\n",
    "              no_output=True,\n",
    "              default_config=True,)\n",
    "\n",
    "idx_pq = sp.PQ.idx.v\n",
    "p0_pq = sp.PQ.p0.v.copy()\n",
    "q0_pq = sp.PQ.q0.v.copy()\n",
    "\n",
    "sp.PQ.alter(src='p0', idx=idx_pq, value=p0_pq * k_load)\n",
    "sp.PQ.alter(src='q0', idx=idx_pq, value=q0_pq * k_load)\n",
    "\n",
    "sa = sp.to_andes(addfile=andes_file,\n",
    "                 setup=True, no_output=True, default_config=True)\n",
    "\n",
    "tg_idx = sa.TGOV1NDB.idx.v\n",
    "sa.TGOV1NDB.alter(src='VMAX', idx=tg_idx, value=999*np.ones(sa.TGOV1NDB.n))\n",
    "sa.TGOV1NDB.alter(src='VMIN', idx=tg_idx, value=np.zeros(sa.TGOV1NDB.n))\n",
    "\n",
    "iex_idx = sa.IEEEX1.idx.v\n",
    "vrmax = sa.IEEEX1.VRMAX.v.copy()\n",
    "vrmin = sa.IEEEX1.VRMIN.v.copy()\n",
    "k_iex = 500\n",
    "sa.IEEEX1.alter(src='VRMAX', idx=iex_idx, value=k_iex * vrmax)\n",
    "sa.IEEEX1.alter(src='VRMIN', idx=iex_idx, value=k_iex * vrmin)\n",
    "\n",
    "ist_idx = sa.IEEEST.idx.v\n",
    "lsmax = sa.IEEEST.LSMAX.v.copy()\n",
    "lsmin = sa.IEEEST.LSMIN.v.copy()\n",
    "k_ist = 500\n",
    "sa.IEEEST.alter(src='LSMAX', idx=ist_idx, value=k_ist * lsmax)\n",
    "sa.IEEEST.alter(src='LSMIN', idx=ist_idx, value=k_ist * lsmin)"
   ]
  },
  {
   "cell_type": "code",
   "execution_count": 8,
   "metadata": {},
   "outputs": [],
   "source": [
    "# for ibri, do not change the cost curve of VSG\n",
    "if ad_case == 'ibr':\n",
    "    vsg_idx = sa.REGCV1.gen.v\n",
    "    gcost_vsg_idx = sp.GCost.find_idx(keys='gen', values=vsg_idx)\n",
    "    sp.GCost.set(src='c2', attr='v', idx=gcost_vsg_idx, value=np.zeros(sa.REGCV1.n))\n",
    "    sp.GCost.set(src='c1', attr='v', idx=gcost_vsg_idx, value=np.zeros(sa.REGCV1.n))\n",
    "    sp.GCost.set(src='c0', attr='v', idx=gcost_vsg_idx, value=np.zeros(sa.REGCV1.n))"
   ]
  },
  {
   "cell_type": "code",
   "execution_count": 9,
   "metadata": {},
   "outputs": [
    {
     "name": "stderr",
     "output_type": "stream",
     "text": [
      "<RTED> initialized in 0.0280 seconds.\n",
      "<RTED> solved as optimal in 0.0640 seconds, converged in 12 iterations with MOSEK.\n",
      "<ACOPF> initialized in 0.0053 seconds.\n",
      "<ACOPF> solved in 0.8771 seconds, converged in 26 iterations with PYPOWER-PIPS.\n",
      "<RTED> converted to AC.\n",
      "Send <RTED> results to ANDES <0x16be413a0>...\n",
      "*Send <vBus> to StaticGen.v0\n",
      "Send <vBus> to Bus.v0\n",
      "Send <ug> to StaticGen.u\n",
      "Send <pg> to StaticGen.p0\n"
     ]
    },
    {
     "data": {
      "text/plain": [
       "True"
      ]
     },
     "execution_count": 9,
     "metadata": {},
     "output_type": "execute_result"
    }
   ],
   "source": [
    "sp.RTED.init()\n",
    "\n",
    "sp.RTED.run(solver='MOSEK')\n",
    "\n",
    "sp.RTED.dc2ac()\n",
    "\n",
    "sp.dyn.send(routine='RTED', adsys=sa)"
   ]
  },
  {
   "cell_type": "code",
   "execution_count": 10,
   "metadata": {},
   "outputs": [
    {
     "name": "stderr",
     "output_type": "stream",
     "text": [
      "-> System connectivity check results:\n",
      "  No islanded bus detected.\n",
      "  System is interconnected.\n",
      "  Each island has a slack bus correctly defined and enabled.\n",
      "\n",
      "-> Power flow calculation\n",
      "           Numba: Off\n",
      "   Sparse solver: KLU\n",
      " Solution method: NR method\n",
      "Power flow initialized in 0.0049 seconds.\n",
      "0: |F(x)| = 19.76901258\n",
      "1: |F(x)| = 4.63446606\n",
      "2: |F(x)| = 0.4163645428\n",
      "3: |F(x)| = 0.005446445729\n",
      "4: |F(x)| = 2.233931362e-06\n",
      "5: |F(x)| = 4.956035582e-13\n",
      "Converged in 6 iterations in 0.0126 seconds.\n"
     ]
    },
    {
     "data": {
      "text/plain": [
       "True"
      ]
     },
     "execution_count": 10,
     "metadata": {},
     "output_type": "execute_result"
    }
   ],
   "source": [
    "sa.PQ.config.p2p = 0.999\n",
    "sa.PQ.config.p2i = 0.0005\n",
    "sa.PQ.config.p2z = 0.0005\n",
    "\n",
    "sa.PQ.config.q2q = 0.999\n",
    "sa.PQ.config.q2i = 0.0005\n",
    "sa.PQ.config.q2z = 0.0005\n",
    "\n",
    "sa.PQ.pq2z = 0\n",
    "\n",
    "sa.PFlow.run()"
   ]
  },
  {
   "cell_type": "code",
   "execution_count": 11,
   "metadata": {},
   "outputs": [
    {
     "name": "stderr",
     "output_type": "stream",
     "text": [
      "GENROU (vf range) out of typical lower limit.\n",
      "\n",
      "   idx     | values | limit\n",
      "-----------+--------+------\n",
      " GENROU_61 | 0.860  | 1    \n",
      "\n",
      "\n",
      "GENROU (vf range) out of typical upper limit.\n",
      "\n",
      "   idx     | values | limit\n",
      "-----------+--------+------\n",
      " GENROU_56 | 7.159  | 5    \n",
      "\n",
      "\n",
      "Initialization for dynamics completed in 0.0620 seconds.\n",
      "Initialization was successful.\n"
     ]
    }
   ],
   "source": [
    "_ = sa.TDS.init()"
   ]
  },
  {
   "cell_type": "code",
   "execution_count": 12,
   "metadata": {},
   "outputs": [
    {
     "data": {
      "text/plain": [
       "array([17.94,  1.8 ,  3.34,  2.81])"
      ]
     },
     "execution_count": 12,
     "metadata": {},
     "output_type": "execute_result"
    }
   ],
   "source": [
    "sa.REGCV1.Pe.v.round(2)"
   ]
  },
  {
   "cell_type": "code",
   "execution_count": 13,
   "metadata": {},
   "outputs": [
    {
     "data": {
      "text/plain": [
       "{'GENCLS_78': 0.3,\n",
       " 'GENROU_98': 1.025,\n",
       " 'GENCLS_97': 8.0,\n",
       " 'GENCLS_92': 8.0,\n",
       " 'GENCLS_91': 8.0,\n",
       " 'GENROU_86': 0.05,\n",
       " 'GENROU_82': 0.05,\n",
       " 'GENROU_80': 5.849,\n",
       " 'GENROU_79': 0.05,\n",
       " 'GENCLS_72': 0.05,\n",
       " 'GENCLS_71': 10.398,\n",
       " 'GENCLS_68': 0.05,\n",
       " 'GENCLS_65': 0.05,\n",
       " 'GENROU_61': 0.05,\n",
       " 'GENROU_60': 0.05,\n",
       " 'GENROU_57': 0.581,\n",
       " 'GENROU_56': 20.086,\n",
       " 'GENROU_55': 8.0,\n",
       " 'GENROU_54_2': 8.0,\n",
       " 'GENROU_54': 8.0,\n",
       " 'GENCLS_53': 12.468,\n",
       " 'GENROU_51': 0.05,\n",
       " 'GENROU_50': 17.855,\n",
       " 'GENROU_48': 0.401,\n",
       " 'GENROU_47': 9.449,\n",
       " 'GENROU_42': 0.05,\n",
       " 'GENROU_36': 0.05,\n",
       " 'GENROU_27': 15.359,\n",
       " 'GENROU_24': 2.372,\n",
       " 'GENROU_23_2': 1.815,\n",
       " 'GENROU_22': 4.126,\n",
       " 'GENCLS_139': 0.05,\n",
       " 'GENCLS_137': 0.05,\n",
       " 'GENCLS_135': 15.394,\n",
       " 'GENCLS_134': 29.328,\n",
       " 'GENCLS_133': 31.861,\n",
       " 'GENCLS_130': 11.922,\n",
       " 'GENCLS_123': 0.05,\n",
       " 'GENCLS_122': 11.106,\n",
       " 'GENCLS_121': 14.569,\n",
       " 'GENCLS_120': 0.05,\n",
       " 'GENCLS_119': 0.05,\n",
       " 'GENCLS_115': 8.22,\n",
       " 'GENROU_101': 8.0}"
      ]
     },
     "execution_count": 13,
     "metadata": {},
     "output_type": "execute_result"
    }
   ],
   "source": [
    "{syg: sa.SynGen.get(src='Pe', attr='v', idx=syg, allow_none=True).round(3)\n",
    " for syg in sp.dyn.link['syg_idx'].dropna().tolist()}"
   ]
  },
  {
   "cell_type": "code",
   "execution_count": 14,
   "metadata": {},
   "outputs": [
    {
     "name": "stderr",
     "output_type": "stream",
     "text": [
      "\n",
      "-> Time Domain Simulation Summary:\n",
      "Sparse Solver: KLU\n",
      "Simulation time: 0.0-50 s.\n",
      "Fixed step size: h=33.33 ms. Shrink if not converged.\n"
     ]
    },
    {
     "data": {
      "application/vnd.jupyter.widget-view+json": {
       "model_id": "64ece030fff54c6285ab10df747212dc",
       "version_major": 2,
       "version_minor": 0
      },
      "text/plain": [
       "  0%|          | 0/100 [00:00<?, ?%/s]"
      ]
     },
     "metadata": {},
     "output_type": "display_data"
    },
    {
     "name": "stdout",
     "output_type": "stream",
     "text": [
      "<Toggle Toggler_1>: SynGen.GENCLS_68 status changed to 0 at t=1.0 sec.\n"
     ]
    },
    {
     "name": "stderr",
     "output_type": "stream",
     "text": [
      "Time step reduced to zero. Convergence is not likely.\n",
      "Simulation terminated at t=3.2396 s.\n",
      "Simulation to t=50.00 sec completed in 2.6500 seconds.\n"
     ]
    },
    {
     "data": {
      "text/plain": [
       "False"
      ]
     },
     "execution_count": 14,
     "metadata": {},
     "output_type": "execute_result"
    }
   ],
   "source": [
    "sa.TDS.config.criteria = True\n",
    "sa.TDS.config.no_tqdm = False\n",
    "\n",
    "sa.TDS.config.tf = 50\n",
    "sa.TDS.run()"
   ]
  },
  {
   "cell_type": "code",
   "execution_count": 15,
   "metadata": {},
   "outputs": [
    {
     "name": "stderr",
     "output_type": "stream",
     "text": [
      "GENROU (vf range) out of typical lower limit.\n",
      "\n",
      "   idx     | values | limit\n",
      "-----------+--------+------\n",
      " GENROU_61 | 0.860  | 1    \n",
      "\n",
      "\n",
      "GENROU (vf range) out of typical upper limit.\n",
      "\n",
      "   idx     | values | limit\n",
      "-----------+--------+------\n",
      " GENROU_56 | 7.159  | 5    \n",
      "\n",
      "\n",
      "Suspect initialization issue! Simulation may crash!\n",
      "\n",
      "     Name      | Var. Value | Eqn. Mismatch\n",
      "---------------+------------+--------------\n",
      " a Bus 3       | 0.008      | 0.052        \n",
      " a Bus 6       | -0.269     | 2.064        \n",
      " a Bus 7       | -0.306     | 2.464        \n",
      " a Bus 9       | -0.218     | 0.968        \n",
      " a Bus 16      | 0.085      | 1.232        \n",
      " a Bus 17      | -0.200     | 1.019        \n",
      " a Bus 18      | -0.253     | 1.915        \n",
      " a Bus 19      | -0.286     | 1.867        \n",
      " a Bus 20      | -0.279     | 2.736        \n",
      " a Bus 30      | -0.121     | 1.748        \n",
      " a Bus 31      | -0.121     | 2.753        \n",
      " a Bus 34      | -0.079     | 1.354        \n",
      " a Bus 35      | -0.079     | 2.946        \n",
      " a Bus 126     | 0.258      | 1.547        \n",
      " v Bus 3       | 0.972      | 0.406        \n",
      " v Bus 6       | 0.991      | 0.795        \n",
      " v Bus 7       | 1.019      | 0.193        \n",
      " v Bus 9       | 0.983      | 0.148        \n",
      " v Bus 16      | 1.001      | 0.259        \n",
      " v Bus 17      | 1.015      | 0.100        \n",
      " v Bus 18      | 1.001      | 0.417        \n",
      " v Bus 19      | 1.059      | 0.204        \n",
      " v Bus 20      | 1.073      | 0.209        \n",
      " v Bus 30      | 0.963      | 0.009        \n",
      " v Bus 31      | 0.966      | 0.816        \n",
      " v Bus 34      | 0.973      | 0.391        \n",
      " v Bus 35      | 0.969      | 0.804        \n",
      " v IEEEX1 2    | 2.137      | -1.037       \n",
      " v IEEEX1 4    | 2.209      | -1.109       \n",
      " v IEEEX1 5    | 2.112      | -1.012       \n",
      " v IEEEX1 8    | 1.745      | -0.645       \n",
      " v IEEEX1 9    | 2.022      | -0.922       \n",
      " v IEEEX1 10   | 2.040      | -0.940       \n",
      " v IEEEX1 11   | 2.139      | -1.039       \n",
      " v IEEEX1 12   | 2.138      | -1.038       \n",
      " v IEEEX1 13   | 2.100      | -1.000       \n",
      " v IEEEX1 14   | 2.108      | -1.024       \n",
      " v IEEEX1 15   | 2.085      | -1.035       \n",
      " v IEEEX1 16   | 2.085      | -1.035       \n",
      " v IEEEX1 17   | 2.134      | -1.061       \n",
      " v IEEEX1 18   | 2.183      | -1.083       \n",
      " v IEEEX1 19   | 2.154      | -1.072       \n",
      " v IEEEX1 20   | 2.185      | -1.086       \n",
      " v IEEEX1 21   | 2.088      | -1.039       \n",
      " v IEEEX1 22   | 2.141      | -1.041       \n",
      " v IEEEX1 23   | 2.152      | -1.052       \n",
      " v IEEEX1 24   | 2.149      | -1.049       \n",
      " vi IEEEX1 2   | 0.005      | 0.072        \n",
      " vi IEEEX1 4   | -0.002     | 0.079        \n",
      " vi IEEEX1 5   | -0.001     | 0.070        \n",
      " vi IEEEX1 8   | 0.744      | -0.163       \n",
      " vi IEEEX1 9   | 0.013      | 0.047        \n",
      " vi IEEEX1 10  | 0.237      | 0.040        \n",
      " vi IEEEX1 11  | 0.132      | -0.007       \n",
      " vi IEEEX1 12  | -0.003     | 0.000        \n",
      " vi IEEEX1 13  | 0.465      | -0.026       \n",
      " vi IEEEX1 14  | -0.003     | -0.031       \n",
      " vi IEEEX1 15  | 0.026      | -0.006       \n",
      " vi IEEEX1 16  | 0.026      | -0.013       \n",
      " vi IEEEX1 17  | -0.003     | -0.004       \n",
      " vi IEEEX1 18  | 5.094      | -0.007       \n",
      " vi IEEEX1 19  | -0.003     | -0.004       \n",
      " vi IEEEX1 20  | -0.004     | -0.003       \n",
      " vi IEEEX1 21  | -0.002     | -0.002       \n",
      " vi IEEEX1 22  | -0.001     | 0.020        \n",
      " vi IEEEX1 23  | -0.004     | 0.016        \n",
      " vi IEEEX1 24  | -0.001     | 0.057        \n",
      " Vss IEEEST 2  | 0.072      | -0.072       \n",
      " Vss IEEEST 4  | 0.079      | -0.079       \n",
      " Vss IEEEST 5  | 0.070      | -0.070       \n",
      " Vss IEEEST 8  | -0.163     | 0.163        \n",
      " Vss IEEEST 9  | 0.047      | -0.047       \n",
      " Vss IEEEST 10 | 0.040      | -0.040       \n",
      " Vss IEEEST 11 | -0.007     | 0.007        \n",
      " Vss IEEEST 12 | 0.000      | -0.000       \n",
      " Vss IEEEST 13 | -0.026     | 0.026        \n",
      " Vss IEEEST 14 | -0.031     | 0.031        \n",
      " Vss IEEEST 15 | -0.006     | 0.006        \n",
      " Vss IEEEST 16 | -0.013     | 0.013        \n",
      " Vss IEEEST 17 | -0.004     | 0.004        \n",
      " Vss IEEEST 18 | -0.007     | 0.007        \n",
      " Vss IEEEST 19 | -0.004     | 0.004        \n",
      " Vss IEEEST 20 | -0.003     | 0.003        \n",
      " Vss IEEEST 21 | -0.002     | 0.002        \n",
      " Vss IEEEST 22 | 0.020      | -0.020       \n",
      " Vss IEEEST 23 | 0.016      | -0.016       \n",
      " Vss IEEEST 24 | 0.057      | -0.057       \n",
      "\n",
      "\n",
      "Initialization for dynamics completed in 0.0519 seconds.\n",
      "Initialization failed!!\n",
      "If you are developing a new model, check the initialization with\n",
      "   andes -v 10 run -r tds --init ./data/npcc_uced_base.xlsx\n",
      "Otherwise, check the variables that are initialized out of limits.\n",
      "\n",
      "-> Time Domain Simulation Summary:\n",
      "Sparse Solver: KLU\n",
      "Simulation time: 0.0-50 s.\n",
      "Fixed step size: h=33.33 ms. Shrink if not converged.\n"
     ]
    },
    {
     "data": {
      "application/vnd.jupyter.widget-view+json": {
       "model_id": "02b6a1e67a3549edaf2464ef27df1a2b",
       "version_major": 2,
       "version_minor": 0
      },
      "text/plain": [
       "  0%|          | 0/100 [00:00<?, ?%/s]"
      ]
     },
     "metadata": {},
     "output_type": "display_data"
    },
    {
     "name": "stderr",
     "output_type": "stream",
     "text": [
      "Time step reduced to zero. Convergence is not likely.\n",
      "Simulation terminated at t=0.0000 s.\n",
      "Simulation to t=50.00 sec completed in 1.8119 seconds.\n"
     ]
    },
    {
     "data": {
      "text/plain": [
       "False"
      ]
     },
     "execution_count": 15,
     "metadata": {},
     "output_type": "execute_result"
    }
   ],
   "source": [
    "sa.TDS.reset()\n",
    "sa.TDS.init()\n",
    "sa.TDS.run()"
   ]
  },
  {
   "cell_type": "code",
   "execution_count": 16,
   "metadata": {},
   "outputs": [
    {
     "ename": "TypeError",
     "evalue": "list indices must be integers or slices, not tuple",
     "output_type": "error",
     "traceback": [
      "\u001b[0;31m---------------------------------------------------------------------------\u001b[0m",
      "\u001b[0;31mTypeError\u001b[0m                                 Traceback (most recent call last)",
      "Cell \u001b[0;32mIn[16], line 17\u001b[0m\n\u001b[1;32m     14\u001b[0m vmin, vmax\u001b[38;5;241m=\u001b[39m\u001b[38;5;241m0.8\u001b[39m, \u001b[38;5;241m1.4\u001b[39m\n\u001b[1;32m     15\u001b[0m trip_gen \u001b[38;5;241m=\u001b[39m sa\u001b[38;5;241m.\u001b[39mToggle\u001b[38;5;241m.\u001b[39mdev\u001b[38;5;241m.\u001b[39mv[\u001b[38;5;241m0\u001b[39m]\n\u001b[0;32m---> 17\u001b[0m \u001b[43msa\u001b[49m\u001b[38;5;241;43m.\u001b[39;49m\u001b[43mTDS\u001b[49m\u001b[38;5;241;43m.\u001b[39;49m\u001b[43mplt\u001b[49m\u001b[38;5;241;43m.\u001b[39;49m\u001b[43mplot\u001b[49m\u001b[43m(\u001b[49m\u001b[43msa\u001b[49m\u001b[38;5;241;43m.\u001b[39;49m\u001b[43mGENCLS\u001b[49m\u001b[38;5;241;43m.\u001b[39;49m\u001b[43momega\u001b[49m\u001b[43m,\u001b[49m\n\u001b[1;32m     18\u001b[0m \u001b[43m                \u001b[49m\u001b[43max\u001b[49m\u001b[38;5;241;43m=\u001b[39;49m\u001b[43max\u001b[49m\u001b[43m[\u001b[49m\u001b[38;5;241;43m0\u001b[39;49m\u001b[43m]\u001b[49m\u001b[43m,\u001b[49m\u001b[43m \u001b[49m\u001b[43mfig\u001b[49m\u001b[38;5;241;43m=\u001b[39;49m\u001b[43mfig\u001b[49m\u001b[43m,\u001b[49m\n\u001b[1;32m     19\u001b[0m \u001b[43m                \u001b[49m\u001b[43mgrid\u001b[49m\u001b[38;5;241;43m=\u001b[39;49m\u001b[38;5;28;43;01mTrue\u001b[39;49;00m\u001b[43m,\u001b[49m\u001b[43m \u001b[49m\u001b[43mshow\u001b[49m\u001b[38;5;241;43m=\u001b[39;49m\u001b[38;5;28;43;01mFalse\u001b[39;49;00m\u001b[43m,\u001b[49m\u001b[43m \u001b[49m\u001b[43mlegend\u001b[49m\u001b[38;5;241;43m=\u001b[39;49m\u001b[38;5;28;43;01mFalse\u001b[39;49;00m\u001b[43m,\u001b[49m\n\u001b[1;32m     20\u001b[0m \u001b[43m                \u001b[49m\u001b[43mytimes\u001b[49m\u001b[38;5;241;43m=\u001b[39;49m\u001b[43msa\u001b[49m\u001b[38;5;241;43m.\u001b[39;49m\u001b[43mconfig\u001b[49m\u001b[38;5;241;43m.\u001b[39;49m\u001b[43mfreq\u001b[49m\u001b[43m,\u001b[49m\u001b[43m \u001b[49m\u001b[43mymin\u001b[49m\u001b[38;5;241;43m=\u001b[39;49m\u001b[43mfmin\u001b[49m\u001b[43m,\u001b[49m\u001b[43m \u001b[49m\u001b[43mymax\u001b[49m\u001b[38;5;241;43m=\u001b[39;49m\u001b[43mfmax\u001b[49m\u001b[43m,\u001b[49m\n\u001b[1;32m     21\u001b[0m \u001b[43m                \u001b[49m\u001b[43mtitle\u001b[49m\u001b[38;5;241;43m=\u001b[39;49m\u001b[38;5;124;43mf\u001b[39;49m\u001b[38;5;124;43m'\u001b[39;49m\u001b[38;5;132;43;01m{\u001b[39;49;00m\u001b[43mad_case\u001b[49m\u001b[38;5;132;43;01m}\u001b[39;49;00m\u001b[38;5;124;43m, k_load=\u001b[39;49m\u001b[38;5;132;43;01m{\u001b[39;49;00m\u001b[43mk_load\u001b[49m\u001b[38;5;132;43;01m}\u001b[39;49;00m\u001b[38;5;124;43m'\u001b[39;49m\u001b[43m)\u001b[49m\n\u001b[1;32m     22\u001b[0m sa\u001b[38;5;241m.\u001b[39mTDS\u001b[38;5;241m.\u001b[39mplt\u001b[38;5;241m.\u001b[39mplot(sa\u001b[38;5;241m.\u001b[39mGENROU\u001b[38;5;241m.\u001b[39momega,\n\u001b[1;32m     23\u001b[0m                 ax\u001b[38;5;241m=\u001b[39max[\u001b[38;5;241m0\u001b[39m], fig\u001b[38;5;241m=\u001b[39mfig,\n\u001b[1;32m     24\u001b[0m                 grid\u001b[38;5;241m=\u001b[39m\u001b[38;5;28;01mTrue\u001b[39;00m, show\u001b[38;5;241m=\u001b[39m\u001b[38;5;28;01mFalse\u001b[39;00m, legend\u001b[38;5;241m=\u001b[39m\u001b[38;5;28;01mFalse\u001b[39;00m,\n\u001b[1;32m     25\u001b[0m                 ytimes\u001b[38;5;241m=\u001b[39msa\u001b[38;5;241m.\u001b[39mconfig\u001b[38;5;241m.\u001b[39mfreq,)\n\u001b[1;32m     26\u001b[0m sa\u001b[38;5;241m.\u001b[39mTDS\u001b[38;5;241m.\u001b[39mplt\u001b[38;5;241m.\u001b[39mplot(sa\u001b[38;5;241m.\u001b[39mREGCV1\u001b[38;5;241m.\u001b[39momega,\n\u001b[1;32m     27\u001b[0m                 ax\u001b[38;5;241m=\u001b[39max[\u001b[38;5;241m0\u001b[39m], fig\u001b[38;5;241m=\u001b[39mfig,\n\u001b[1;32m     28\u001b[0m                 grid\u001b[38;5;241m=\u001b[39m\u001b[38;5;28;01mTrue\u001b[39;00m, show\u001b[38;5;241m=\u001b[39m\u001b[38;5;28;01mFalse\u001b[39;00m, legend\u001b[38;5;241m=\u001b[39m\u001b[38;5;28;01mFalse\u001b[39;00m,\n\u001b[1;32m     29\u001b[0m                 ytimes\u001b[38;5;241m=\u001b[39msa\u001b[38;5;241m.\u001b[39mconfig\u001b[38;5;241m.\u001b[39mfreq,)\n",
      "File \u001b[0;32m~/Documents/work/andes/andes/plot.py:539\u001b[0m, in \u001b[0;36mTDSData.plot\u001b[0;34m(self, yidx, xidx, a, ytimes, ycalc, left, right, ymin, ymax, xlabel, ylabel, xheader, yheader, legend, grid, greyscale, latex, dpi, line_width, font_size, savefig, save_format, show, title, linestyles, use_bqplot, hline1, hline2, vline1, vline2, hline, vline, fig, ax, backend, set_xlim, set_ylim, autoscale, legend_bbox, legend_loc, legend_ncol, figsize, color, **kwargs)\u001b[0m\n\u001b[1;32m    536\u001b[0m     logger\u001b[38;5;241m.\u001b[39merror(\u001b[38;5;124m\"\u001b[39m\u001b[38;5;124mNo variables to plot.\u001b[39m\u001b[38;5;124m\"\u001b[39m)\n\u001b[1;32m    537\u001b[0m     \u001b[38;5;28;01mreturn\u001b[39;00m\n\u001b[0;32m--> 539\u001b[0m xvalue \u001b[38;5;241m=\u001b[39m \u001b[38;5;28;43mself\u001b[39;49m\u001b[38;5;241;43m.\u001b[39;49m\u001b[43mget_values\u001b[49m\u001b[43m(\u001b[49m\u001b[43mxidx\u001b[49m\u001b[43m)\u001b[49m\n\u001b[1;32m    540\u001b[0m yvalue \u001b[38;5;241m=\u001b[39m \u001b[38;5;28mself\u001b[39m\u001b[38;5;241m.\u001b[39mget_values(yidx)\n\u001b[1;32m    542\u001b[0m \u001b[38;5;66;03m# header: names for variables\u001b[39;00m\n\u001b[1;32m    543\u001b[0m \u001b[38;5;66;03m# axis labels: the texts next to axes\u001b[39;00m\n",
      "File \u001b[0;32m~/Documents/work/andes/andes/plot.py:292\u001b[0m, in \u001b[0;36mTDSData.get_values\u001b[0;34m(self, idx)\u001b[0m\n\u001b[1;32m    278\u001b[0m \u001b[38;5;28;01mdef\u001b[39;00m \u001b[38;5;21mget_values\u001b[39m(\u001b[38;5;28mself\u001b[39m, idx):\n\u001b[1;32m    279\u001b[0m \u001b[38;5;250m    \u001b[39m\u001b[38;5;124;03m\"\"\"\u001b[39;00m\n\u001b[1;32m    280\u001b[0m \u001b[38;5;124;03m    Return the variable values at the given indices.\u001b[39;00m\n\u001b[1;32m    281\u001b[0m \n\u001b[0;32m   (...)\u001b[0m\n\u001b[1;32m    290\u001b[0m \u001b[38;5;124;03m        Variable data\u001b[39;00m\n\u001b[1;32m    291\u001b[0m \u001b[38;5;124;03m    \"\"\"\u001b[39;00m\n\u001b[0;32m--> 292\u001b[0m     \u001b[38;5;28;01mreturn\u001b[39;00m \u001b[38;5;28;43mself\u001b[39;49m\u001b[38;5;241;43m.\u001b[39;49m\u001b[43m_data\u001b[49m\u001b[43m[\u001b[49m\u001b[43m:\u001b[49m\u001b[43m,\u001b[49m\u001b[43m \u001b[49m\u001b[43midx\u001b[49m\u001b[43m]\u001b[49m\n",
      "\u001b[0;31mTypeError\u001b[0m: list indices must be integers or slices, not tuple"
     ]
    },
    {
     "data": {
      "image/png": "[encoded data removed]",
      "text/plain": [
       "<Figure size 1500x750 with 2 Axes>"
      ]
     },
     "metadata": {},
     "output_type": "display_data"
    }
   ],
   "source": [
    "stg_idx = sp.dyn.link['stg_idx'].tolist()\n",
    "stg_bus = sa.StaticGen.get(src='bus', attr='v', idx=stg_idx)\n",
    "stg_bus_uid = sa.Bus.idx2uid(stg_bus)\n",
    "\n",
    "busfreq_bus = sa.BusFreq.find_idx(keys='bus', values=stg_bus)\n",
    "busfreq_bus_uid = sa.Bus.idx2uid(stg_bus)\n",
    "\n",
    "Tf = sa.BusFreq.Tf.v.mean().round(3)\n",
    "Tw = sa.BusFreq.Tw.v.mean().round(3)\n",
    "\n",
    "fig, ax = plt.subplots(1, 2, figsize=(10, 5), dpi=150)\n",
    "\n",
    "fmin, fmax=59.95, 60.05\n",
    "vmin, vmax=0.8, 1.4\n",
    "trip_gen = sa.Toggle.dev.v[0]\n",
    "\n",
    "sa.TDS.plt.plot(sa.GENCLS.omega,\n",
    "                ax=ax[0], fig=fig,\n",
    "                grid=True, show=False, legend=False,\n",
    "                ytimes=sa.config.freq, ymin=fmin, ymax=fmax,\n",
    "                title=f'{ad_case}, k_load={k_load}')\n",
    "sa.TDS.plt.plot(sa.GENROU.omega,\n",
    "                ax=ax[0], fig=fig,\n",
    "                grid=True, show=False, legend=False,\n",
    "                ytimes=sa.config.freq,)\n",
    "sa.TDS.plt.plot(sa.REGCV1.omega,\n",
    "                ax=ax[0], fig=fig,\n",
    "                grid=True, show=False, legend=False,\n",
    "                ytimes=sa.config.freq,)\n",
    "\n",
    "sa.TDS.plt.plot(sa.Bus.v,\n",
    "                a=stg_bus_uid,\n",
    "                ax=ax[1], fig=fig,\n",
    "                grid=True, show=False,\n",
    "                ymin=vmin, ymax=vmax,\n",
    "                title=f'Trip {trip_gen}')"
   ]
  },
  {
   "cell_type": "code",
   "execution_count": null,
   "metadata": {},
   "outputs": [],
   "source": [
    "# sa.TDS.plt.export_csv(out_file)"
   ]
  }
 ],
 "metadata": {
  "kernelspec": {
   "display_name": "ams",
   "language": "python",
   "name": "python3"
  },
  "language_info": {
   "codemirror_mode": {
    "name": "ipython",
    "version": 3
   },
   "file_extension": ".py",
   "mimetype": "text/x-python",
   "name": "python",
   "nbconvert_exporter": "python",
   "pygments_lexer": "ipython3",
   "version": "3.9.18"
  },
  "orig_nbformat": 4,
  "vscode": {
   "interpreter": {
    "hash": "d2b3bf80176349caa68dc4a3c77bd06eaade8abc678330f7d1c813c53380e5d2"
   }
  }
 },
 "nbformat": 4,
 "nbformat_minor": 2
}

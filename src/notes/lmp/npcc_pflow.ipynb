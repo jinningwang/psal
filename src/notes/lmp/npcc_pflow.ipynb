{
 "cells": [
  {
   "attachments": {},
   "cell_type": "markdown",
   "metadata": {},
   "source": [
    "# NPCC Power Flow Tunning"
   ]
  },
  {
   "cell_type": "markdown",
   "metadata": {},
   "source": [
    "Reference:\n",
    "\n",
    "1. [Power Grid Lib - Optimal Power Flow, https://github.com/power-grid-lib/pglib-opf](https://ltb.readthedocs.io/projects/ams/en/latest/getting_started/formats/matpower.html)\n",
    "1. [WECC-and-NPCC-Electricity-Economic-Data](https://github.com/enliten/ENLITEN-Grid-Econ-Data)"
   ]
  },
  {
   "cell_type": "code",
   "execution_count": 1,
   "metadata": {},
   "outputs": [],
   "source": [
    "import numpy as np\n",
    "import pandas as pd\n",
    "import scipy\n",
    "\n",
    "import andes\n",
    "import ams\n",
    "\n",
    "import datetime"
   ]
  },
  {
   "cell_type": "code",
   "execution_count": 2,
   "metadata": {},
   "outputs": [
    {
     "name": "stdout",
     "output_type": "stream",
     "text": [
      "Last run time: 2024-04-08 22:59:23\n",
      "andes:1.9.2\n",
      "ams:0.9.5.post25+g738d558\n"
     ]
    }
   ],
   "source": [
    "print(\"Last run time:\", datetime.datetime.now().strftime(\"%Y-%m-%d %H:%M:%S\"))\n",
    "\n",
    "print(f'andes:{andes.__version__}')\n",
    "print(f'ams:{ams.__version__}')"
   ]
  },
  {
   "cell_type": "code",
   "execution_count": 3,
   "metadata": {},
   "outputs": [],
   "source": [
    "andes.config_logger(stream_level=30)\n",
    "ams.config_logger(stream_level=20)"
   ]
  },
  {
   "cell_type": "code",
   "execution_count": 4,
   "metadata": {},
   "outputs": [],
   "source": [
    "npcc_load_src = scipy.io.loadmat('./data/NPCC_load.mat')\n",
    "npcc_load_data = npcc_load_src['load_dis']"
   ]
  },
  {
   "cell_type": "code",
   "execution_count": 5,
   "metadata": {},
   "outputs": [
    {
     "name": "stdout",
     "output_type": "stream",
     "text": [
      "Hour 0: P=298.9270, Q=40.6650; PFlow converged: True; V out of range: False\n",
      "Hour 1: P=292.3349, Q=40.6650; PFlow converged: True; V out of range: False\n",
      "Hour 2: P=285.8032, Q=40.6650; PFlow converged: True; V out of range: False\n",
      "Hour 3: P=279.3979, Q=40.6650; PFlow converged: True; V out of range: False\n",
      "Hour 4: P=272.7098, Q=40.6650; PFlow converged: True; V out of range: False\n",
      "Hour 5: P=266.5994, Q=40.6650; PFlow converged: True; V out of range: False\n",
      "Hour 6: P=261.2480, Q=40.6650; PFlow converged: True; V out of range: False\n",
      "Hour 7: P=256.7017, Q=40.6650; PFlow converged: True; V out of range: False\n",
      "Hour 8: P=253.4065, Q=40.6650; PFlow converged: True; V out of range: False\n",
      "Hour 9: P=252.2642, Q=40.6650; PFlow converged: True; V out of range: False\n",
      "Hour 10: P=252.6824, Q=40.6650; PFlow converged: True; V out of range: False\n",
      "Hour 11: P=254.9175, Q=40.6650; PFlow converged: True; V out of range: False\n",
      "Hour 12: P=257.8131, Q=40.6650; PFlow converged: True; V out of range: False\n",
      "Hour 13: P=260.9853, Q=40.6650; PFlow converged: True; V out of range: False\n",
      "Hour 14: P=263.6713, Q=40.6650; PFlow converged: True; V out of range: False\n",
      "Hour 15: P=266.6853, Q=40.6650; PFlow converged: True; V out of range: False\n",
      "Hour 16: P=269.1508, Q=40.6650; PFlow converged: True; V out of range: False\n",
      "Hour 17: P=272.2160, Q=40.6650; PFlow converged: True; V out of range: False\n",
      "Hour 18: P=275.7307, Q=40.6650; PFlow converged: True; V out of range: False\n",
      "Hour 19: P=277.1896, Q=40.6650; PFlow converged: True; V out of range: False\n",
      "Hour 20: P=278.6582, Q=40.6650; PFlow converged: True; V out of range: False\n",
      "Hour 21: P=281.3773, Q=40.6650; PFlow converged: True; V out of range: False\n",
      "Hour 22: P=289.3786, Q=40.6650; PFlow converged: True; V out of range: False\n",
      "Hour 23: P=298.0149, Q=40.6650; PFlow converged: True; V out of range: False\n",
      "Hour 24: P=296.9148, Q=40.6650; PFlow converged: True; V out of range: False\n",
      "Hour 25: P=293.6606, Q=40.6650; PFlow converged: True; V out of range: False\n",
      "Hour 26: P=289.1613, Q=40.6650; PFlow converged: True; V out of range: False\n",
      "Hour 27: P=282.6594, Q=40.6650; PFlow converged: True; V out of range: False\n",
      "Hour 28: P=273.6841, Q=40.6650; PFlow converged: True; V out of range: False\n",
      "Hour 29: P=265.6627, Q=40.6650; PFlow converged: True; V out of range: False\n"
     ]
    }
   ],
   "source": [
    "# read m file to mpc\n",
    "mpc = andes.io.matpower.m2mpc('./data/NPCC.m')\n",
    "\n",
    "for n in range(30):\n",
    "    # adjust the load\n",
    "    mpc['bus'][:, 2] = npcc_load_data[:, n]\n",
    "\n",
    "    # initialize an empty system\n",
    "    sa = andes.system.System(setup=False, no_output=True, default_config=True)\n",
    "\n",
    "    # read into an ANDES system\n",
    "    andes.io.matpower.mpc2system(mpc, sa)\n",
    "\n",
    "    sa.setup()\n",
    "\n",
    "    pflow_res = sa.PFlow.run()\n",
    "\n",
    "    underV = sa.Bus.v.v < sa.Bus.vmin.v\n",
    "    overV = sa.Bus.v.v > sa.Bus.vmax.v\n",
    "    outV = underV | overV\n",
    "\n",
    "    p0 = sa.PQ.p0.v.sum()\n",
    "    q0 = sa.PQ.q0.v.sum()\n",
    "    print(f'Hour {n}: P={p0:.4f}, Q={q0:.4f}; PFlow converged: {sa.PFlow.converged}; V out of range: {outV.any()}')"
   ]
  }
 ],
 "metadata": {
  "kernelspec": {
   "display_name": "ams",
   "language": "python",
   "name": "python3"
  },
  "language_info": {
   "codemirror_mode": {
    "name": "ipython",
    "version": 3
   },
   "file_extension": ".py",
   "mimetype": "text/x-python",
   "name": "python",
   "nbconvert_exporter": "python",
   "pygments_lexer": "ipython3",
   "version": "3.9.18"
  },
  "orig_nbformat": 4,
  "vscode": {
   "interpreter": {
    "hash": "d2b3bf80176349caa68dc4a3c77bd06eaade8abc678330f7d1c813c53380e5d2"
   }
  }
 },
 "nbformat": 4,
 "nbformat_minor": 2
}

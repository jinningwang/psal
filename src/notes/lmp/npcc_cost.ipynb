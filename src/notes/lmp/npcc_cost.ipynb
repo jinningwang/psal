{
 "cells": [
  {
   "attachments": {},
   "cell_type": "markdown",
   "metadata": {},
   "source": [
    "# NPCC Cost"
   ]
  },
  {
   "cell_type": "code",
   "execution_count": 1,
   "metadata": {},
   "outputs": [],
   "source": [
    "from tqdm import tqdm\n",
    "\n",
    "import numpy as np\n",
    "import pandas as pd\n",
    "\n",
    "import andes\n",
    "import ams\n",
    "\n",
    "import datetime\n",
    "\n",
    "import matplotlib\n",
    "import matplotlib.pyplot as plt\n",
    "import scienceplots"
   ]
  },
  {
   "cell_type": "code",
   "execution_count": 2,
   "metadata": {},
   "outputs": [],
   "source": [
    "matplotlib.rcdefaults()"
   ]
  },
  {
   "cell_type": "code",
   "execution_count": 3,
   "metadata": {},
   "outputs": [],
   "source": [
    "%matplotlib inline"
   ]
  },
  {
   "cell_type": "code",
   "execution_count": 4,
   "metadata": {},
   "outputs": [
    {
     "name": "stdout",
     "output_type": "stream",
     "text": [
      "Last run time: 2024-04-12 21:13:14\n",
      "andes:1.9.1.post37+g35b2a678\n",
      "ams:0.9.5.post25+g738d558\n"
     ]
    }
   ],
   "source": [
    "print(\"Last run time:\", datetime.datetime.now().strftime(\"%Y-%m-%d %H:%M:%S\"))\n",
    "\n",
    "print(f'andes:{andes.__version__}')\n",
    "print(f'ams:{ams.__version__}')"
   ]
  },
  {
   "cell_type": "code",
   "execution_count": 5,
   "metadata": {},
   "outputs": [],
   "source": [
    "andes.config_logger(stream_level=20)\n",
    "ams.config_logger(stream_level=20)"
   ]
  },
  {
   "cell_type": "code",
   "execution_count": 6,
   "metadata": {},
   "outputs": [
    {
     "name": "stderr",
     "output_type": "stream",
     "text": [
      "Working directory: \"/Users/jinningwang/Documents/work/psal/src/notes/lmp\"\n",
      "Parsing input file \"./data/npcc_uced_base.xlsx\"...\n",
      "Input file parsed in 0.2174 seconds.\n",
      "Zero line rates detacted in rate_b, rate_c, adjusted to 999.\n",
      "System set up in 0.0030 seconds.\n",
      "Working directory: \"/Users/jinningwang/Documents/work/psal/src/notes/lmp\"\n",
      "Parsing input file \"./data/npcc_uced_base.xlsx\"...\n",
      "Input file parsed in 0.1721 seconds.\n",
      "Zero line rates detacted in rate_b, rate_c, adjusted to 999.\n",
      "System set up in 0.0028 seconds.\n"
     ]
    }
   ],
   "source": [
    "ams_file = './data/npcc_uced_base.xlsx'\n",
    "\n",
    "sp = ams.load(ams_file,\n",
    "              setup=True, no_output=True, default_config=True,)\n",
    "sp0 = ams.load(ams_file,\n",
    "               setup=True, no_output=True, default_config=True,)\n",
    "\n",
    "idx_pq = sp.PQ.idx.v\n",
    "p0_pq = sp.PQ.p0.v.copy()\n",
    "q0_pq = sp.PQ.q0.v.copy()"
   ]
  },
  {
   "cell_type": "code",
   "execution_count": 7,
   "metadata": {},
   "outputs": [],
   "source": [
    "gen_idx = sp.RTED.pg.get_idx()\n",
    "cols = ['97IBR', '97IBRI', '105IBR', '105IBRI']\n",
    "\n",
    "pgc = pd.DataFrame(data=-1*np.ones((len(gen_idx), len(cols))),\n",
    "                   columns=cols, index=gen_idx)"
   ]
  },
  {
   "cell_type": "code",
   "execution_count": 8,
   "metadata": {},
   "outputs": [
    {
     "name": "stderr",
     "output_type": "stream",
     "text": [
      "<RTED> initialized in 0.0249 seconds.\n",
      "<RTED> solved as optimal in 0.0420 seconds, converged in 13 iterations with MOSEK.\n",
      "<RTED> initialized in 0.0173 seconds.\n",
      "<RTED> solved as optimal in 0.0387 seconds, converged in 16 iterations with MOSEK.\n"
     ]
    }
   ],
   "source": [
    "# alter the load level for both systems\n",
    "# 0.0.97, 1.05\n",
    "k_load = 1.05 # load factor\n",
    "sp.PQ.alter(src='p0', idx=idx_pq, value=p0_pq * k_load)\n",
    "sp.PQ.alter(src='q0', idx=idx_pq, value=q0_pq * k_load)\n",
    "sp0.PQ.alter(src='p0', idx=idx_pq, value=p0_pq * k_load)\n",
    "sp0.PQ.alter(src='q0', idx=idx_pq, value=q0_pq * k_load)\n",
    "\n",
    "# hard coded\n",
    "gen_vsg = ['PV_21', 'PV_23', 'PV_25', 'PV_26']\n",
    "gcost_vsg = sp.GCost.find_idx(keys='gen', values=gen_vsg)\n",
    "n_vsg = len(gen_vsg)\n",
    "\n",
    "# alter the cost for only IBR\n",
    "sp.GCost.set(src='c2', attr='v', idx=gcost_vsg, value=np.zeros(n_vsg))\n",
    "sp.GCost.set(src='c1', attr='v', idx=gcost_vsg, value=np.zeros(n_vsg))\n",
    "sp.GCost.set(src='c0', attr='v', idx=gcost_vsg, value=np.zeros(n_vsg))\n",
    "\n",
    "sp.RTED.init()\n",
    "sp.RTED.run(solver='MOSEK')\n",
    "\n",
    "sp0.RTED.init()\n",
    "sp0.RTED.run(solver='MOSEK')\n",
    "\n",
    "# pgc['97IBR'] = sp.RTED.get(src='pg', attr='v', idx=gen_idx)\n",
    "# pgc['97IBRI'] = sp0.RTED.get(src='pg', attr='v', idx=gen_idx)\n",
    "\n",
    "pgc['105IBR'] = sp.RTED.get(src='pg', attr='v', idx=gen_idx)\n",
    "pgc['105IBRI'] = sp0.RTED.get(src='pg', attr='v', idx=gen_idx)"
   ]
  },
  {
   "cell_type": "code",
   "execution_count": 9,
   "metadata": {},
   "outputs": [],
   "source": [
    "# save to csv file\n",
    "# pgc.to_csv('./res/pg.csv')"
   ]
  }
 ],
 "metadata": {
  "kernelspec": {
   "display_name": "ams",
   "language": "python",
   "name": "python3"
  },
  "language_info": {
   "codemirror_mode": {
    "name": "ipython",
    "version": 3
   },
   "file_extension": ".py",
   "mimetype": "text/x-python",
   "name": "python",
   "nbconvert_exporter": "python",
   "pygments_lexer": "ipython3",
   "version": "3.9.18"
  },
  "orig_nbformat": 4,
  "vscode": {
   "interpreter": {
    "hash": "d2b3bf80176349caa68dc4a3c77bd06eaade8abc678330f7d1c813c53380e5d2"
   }
  }
 },
 "nbformat": 4,
 "nbformat_minor": 2
}

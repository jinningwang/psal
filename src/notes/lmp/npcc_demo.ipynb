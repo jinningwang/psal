{
 "cells": [
  {
   "attachments": {},
   "cell_type": "markdown",
   "metadata": {},
   "source": [
    "# NPCC Demo"
   ]
  },
  {
   "cell_type": "markdown",
   "metadata": {},
   "source": [
    "This file is used to generate the Gen Trip figures."
   ]
  },
  {
   "cell_type": "code",
   "execution_count": 1,
   "metadata": {},
   "outputs": [],
   "source": [
    "import numpy as np\n",
    "import pandas as pd\n",
    "import logging\n",
    "import sys\n",
    "\n",
    "import andes\n",
    "import ams\n",
    "\n",
    "import datetime\n",
    "\n",
    "import matplotlib\n",
    "import matplotlib.pyplot as plt"
   ]
  },
  {
   "cell_type": "code",
   "execution_count": 2,
   "metadata": {},
   "outputs": [],
   "source": [
    "pd.set_option('future.no_silent_downcasting', True)"
   ]
  },
  {
   "cell_type": "code",
   "execution_count": 3,
   "metadata": {},
   "outputs": [
    {
     "name": "stdout",
     "output_type": "stream",
     "text": [
      "Last run time: 2024-04-21 23:00:01\n",
      "andes:1.9.1.post47+g6e178a22\n",
      "ams:0.9.5\n"
     ]
    }
   ],
   "source": [
    "print(\"Last run time:\", datetime.datetime.now().strftime(\"%Y-%m-%d %H:%M:%S\"))\n",
    "\n",
    "print(f'andes:{andes.__version__}')\n",
    "print(f'ams:{ams.__version__}')"
   ]
  },
  {
   "cell_type": "code",
   "execution_count": 4,
   "metadata": {},
   "outputs": [],
   "source": [
    "andes.config_logger(stream_level=20)\n",
    "ams.config_logger(stream_level=20)"
   ]
  },
  {
   "cell_type": "code",
   "execution_count": 5,
   "metadata": {},
   "outputs": [
    {
     "name": "stderr",
     "output_type": "stream",
     "text": [
      "Working directory: \"/Users/jinningwang/Documents/work/psal/src/notes/lmp\"\n",
      "Parsing input file \"./data/npcc_uced_base.xlsx\"...\n",
      "Input file parsed in 0.2141 seconds.\n",
      "Zero line rates detacted in rate_b, rate_c, adjusted to 999.\n",
      "System set up in 0.0036 seconds.\n"
     ]
    }
   ],
   "source": [
    "sp = ams.load('./data/npcc_uced_base.xlsx',\n",
    "              setup=True, no_output=True)"
   ]
  },
  {
   "cell_type": "code",
   "execution_count": 6,
   "metadata": {},
   "outputs": [
    {
     "name": "stderr",
     "output_type": "stream",
     "text": [
      "> Loaded config from file \"andes.rc\"\n",
      "> Loaded generated Python code in \"/Users/jinningwang/.andes/pycode\".\n",
      "Parsing additional file \"./data/npcc_demo.xlsx\"...\n",
      "Following PFlow models in addfile will be overwritten: <Bus>, <PQ>, <PV>, <Slack>, <Line>, <Area>\n",
      "Addfile parsed in 0.1301 seconds.\n",
      "System converted to ANDES in 0.1903 seconds.\n",
      "AMS system 0x10618b880 is linked to the ANDES system 0x16bc83940.\n",
      "System internal structure set up in 0.0277 seconds.\n"
     ]
    }
   ],
   "source": [
    "sa = sp.to_andes(addfile='./data/npcc_demo.xlsx',\n",
    "                 setup=True, no_output=True, default_config=True)"
   ]
  },
  {
   "cell_type": "code",
   "execution_count": 7,
   "metadata": {},
   "outputs": [
    {
     "name": "stderr",
     "output_type": "stream",
     "text": [
      "<RTED> initialized in 0.0288 seconds.\n",
      "<RTED> solved as optimal in 0.0369 seconds, converged in 16 iterations with ECOS.\n"
     ]
    },
    {
     "data": {
      "text/plain": [
       "True"
      ]
     },
     "execution_count": 7,
     "metadata": {},
     "output_type": "execute_result"
    }
   ],
   "source": [
    "sp.RTED.run(solver='ECOS')"
   ]
  },
  {
   "cell_type": "code",
   "execution_count": 8,
   "metadata": {},
   "outputs": [
    {
     "name": "stderr",
     "output_type": "stream",
     "text": [
      "<ACOPF> initialized in 0.0060 seconds.\n",
      "<ACOPF> solved in 0.6899 seconds, converged in 24 iterations with PYPOWER-PIPS.\n",
      "<RTED> converted to AC.\n"
     ]
    },
    {
     "data": {
      "text/plain": [
       "True"
      ]
     },
     "execution_count": 8,
     "metadata": {},
     "output_type": "execute_result"
    }
   ],
   "source": [
    "sp.RTED.dc2ac()"
   ]
  },
  {
   "cell_type": "code",
   "execution_count": 9,
   "metadata": {},
   "outputs": [
    {
     "name": "stderr",
     "output_type": "stream",
     "text": [
      "Send <RTED> results to ANDES <0x16bc83940>...\n",
      "Send <vBus> to Bus.v0\n",
      "Send <ug> to StaticGen.u\n",
      "Send <pg> to StaticGen.p0\n"
     ]
    },
    {
     "data": {
      "text/plain": [
       "True"
      ]
     },
     "execution_count": 9,
     "metadata": {},
     "output_type": "execute_result"
    }
   ],
   "source": [
    "sp.dyn.send(routine='RTED', adsys=sa)"
   ]
  },
  {
   "cell_type": "code",
   "execution_count": 10,
   "metadata": {},
   "outputs": [
    {
     "name": "stderr",
     "output_type": "stream",
     "text": [
      "-> System connectivity check results:\n",
      "  No islanded bus detected.\n",
      "  System is interconnected.\n",
      "  Each island has a slack bus correctly defined and enabled.\n",
      "\n",
      "-> Power flow calculation\n",
      "           Numba: On\n",
      "   Sparse solver: KLU\n",
      " Solution method: NR method\n",
      "Numba compilation initiated with caching.\n",
      "Power flow initialized in 0.2743 seconds.\n",
      "Numba compilation for power flow finished in 0.1722 seconds.\n",
      "0: |F(x)| = 50.51303774\n",
      "1: |F(x)| = 4.480977614\n",
      "2: |F(x)| = 0.4299432131\n",
      "3: |F(x)| = 0.02957349081\n",
      "4: |F(x)| = 0.0005341851961\n",
      "5: |F(x)| = 1.435825148e-07\n",
      "Converged in 6 iterations in 0.0080 seconds.\n"
     ]
    },
    {
     "data": {
      "text/plain": [
       "True"
      ]
     },
     "execution_count": 10,
     "metadata": {},
     "output_type": "execute_result"
    }
   ],
   "source": [
    "sa.PFlow.run()"
   ]
  },
  {
   "cell_type": "code",
   "execution_count": 11,
   "metadata": {},
   "outputs": [
    {
     "name": "stderr",
     "output_type": "stream",
     "text": [
      "Numba compilation initiated with caching.\n",
      "Initialization for dynamics completed in 0.0356 seconds.\n",
      "Initialization was successful.\n"
     ]
    },
    {
     "data": {
      "application/vnd.jupyter.widget-view+json": {
       "model_id": "959c95065fa041e990e4458ff2d85030",
       "version_major": 2,
       "version_minor": 0
      },
      "text/plain": [
       "  0%|          | 0/100 [00:00<?, ?%/s]"
      ]
     },
     "metadata": {},
     "output_type": "display_data"
    },
    {
     "name": "stderr",
     "output_type": "stream",
     "text": [
      "Simulation to t=20.00 sec completed in 0.2845 seconds.\n"
     ]
    },
    {
     "data": {
      "text/plain": [
       "True"
      ]
     },
     "execution_count": 11,
     "metadata": {},
     "output_type": "execute_result"
    }
   ],
   "source": [
    "sa.TDS.run()"
   ]
  }
 ],
 "metadata": {
  "kernelspec": {
   "display_name": "ams",
   "language": "python",
   "name": "python3"
  },
  "language_info": {
   "codemirror_mode": {
    "name": "ipython",
    "version": 3
   },
   "file_extension": ".py",
   "mimetype": "text/x-python",
   "name": "python",
   "nbconvert_exporter": "python",
   "pygments_lexer": "ipython3",
   "version": "3.9.7"
  },
  "orig_nbformat": 4,
  "vscode": {
   "interpreter": {
    "hash": "d2b3bf80176349caa68dc4a3c77bd06eaade8abc678330f7d1c813c53380e5d2"
   }
  }
 },
 "nbformat": 4,
 "nbformat_minor": 2
}

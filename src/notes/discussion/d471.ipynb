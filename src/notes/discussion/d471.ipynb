{
 "cells": [
  {
   "cell_type": "markdown",
   "metadata": {},
   "source": [
    "# Power Injection"
   ]
  },
  {
   "cell_type": "markdown",
   "metadata": {},
   "source": [
    "This example is to elaborate how to get the bus injected power in ANDES,\n",
    "and how to inspect them during the simulation,\n",
    "as an answer for [Discussion #471](https://github.com/CURENT/andes/discussions/471)."
   ]
  },
  {
   "cell_type": "markdown",
   "metadata": {},
   "source": [
    "## Variables of Interest"
   ]
  },
  {
   "cell_type": "code",
   "execution_count": 1,
   "metadata": {},
   "outputs": [],
   "source": [
    "import numpy as np\n",
    "import pandas as pd\n",
    "\n",
    "import andes\n",
    "\n",
    "import datetime"
   ]
  },
  {
   "cell_type": "code",
   "execution_count": 2,
   "metadata": {},
   "outputs": [
    {
     "name": "stdout",
     "output_type": "stream",
     "text": [
      "Last run: 2024-03-26 17:59:11.599337\n",
      "ANDES version: 1.9.1.post24+g7a87ad5d\n"
     ]
    }
   ],
   "source": [
    "print(f\"Last run: {datetime.datetime.now()}\\nANDES version: {andes.__version__}\")"
   ]
  },
  {
   "cell_type": "code",
   "execution_count": 3,
   "metadata": {},
   "outputs": [],
   "source": [
    "andes.config_logger(stream_level=20)"
   ]
  },
  {
   "cell_type": "markdown",
   "metadata": {},
   "source": [
    "Here we use IEEE 14-bus case as an example.\n",
    "\n",
    "Load the case, run power flow, and initializ the TDS."
   ]
  },
  {
   "cell_type": "code",
   "execution_count": 4,
   "metadata": {},
   "outputs": [
    {
     "name": "stderr",
     "output_type": "stream",
     "text": [
      "Working directory: \"/Users/jinningwang/Documents/work/psal/src/notes/discussion\"\n",
      "> Loaded config from file \"/Users/jinningwang/.andes/andes.rc\"\n",
      "> Loaded generated Python code in \"/Users/jinningwang/.andes/pycode\".\n",
      "Parsing input file \"/Users/jinningwang/Documents/work/andes/andes/cases/ieee14/ieee14_full.xlsx\"...\n",
      "Input file parsed in 0.1705 seconds.\n",
      "System internal structure set up in 0.0226 seconds.\n",
      "-> System connectivity check results:\n",
      "  No islanded bus detected.\n",
      "  System is interconnected.\n",
      "  Each island has a slack bus correctly defined and enabled.\n",
      "\n",
      "-> Power flow calculation\n",
      "           Numba: Off\n",
      "   Sparse solver: KLU\n",
      " Solution method: NR method\n",
      "Power flow initialized in 0.0035 seconds.\n",
      "0: |F(x)| = 0.5605182134\n",
      "1: |F(x)| = 0.006202200332\n",
      "2: |F(x)| = 5.819382825e-06\n",
      "3: |F(x)| = 6.957087684e-12\n",
      "Converged in 4 iterations in 0.0043 seconds.\n",
      "Initialization for dynamics completed in 0.0208 seconds.\n",
      "Initialization was successful.\n"
     ]
    }
   ],
   "source": [
    "sa = andes.load(andes.get_case(\"ieee14/ieee14_full.xlsx\"),\n",
    "                no_output=True, setup=True)\n",
    "\n",
    "sa.PFlow.run()\n",
    "\n",
    "_ = sa.TDS.init()"
   ]
  },
  {
   "cell_type": "markdown",
   "metadata": {},
   "source": [
    "Initialize variables to store bus injected power from\n",
    "``Line``, ``SynGen``, and ``Load``, respectively."
   ]
  },
  {
   "cell_type": "code",
   "execution_count": 5,
   "metadata": {},
   "outputs": [],
   "source": [
    "p_inj_line = np.zeros(sa.Bus.n)\n",
    "p_inj_syg = np.zeros(sa.Bus.n)\n",
    "p_inj_load = np.zeros(sa.Bus.n)"
   ]
  },
  {
   "cell_type": "markdown",
   "metadata": {},
   "source": [
    "In this case we only have ``SynGen`` in dynamic generators.\n",
    "If ``RenGen`` occurs, similar method can be applied to include it.\n"
   ]
  },
  {
   "cell_type": "code",
   "execution_count": 6,
   "metadata": {},
   "outputs": [],
   "source": [
    "syg_idx = []\n",
    "for mdl in sa.SynGen.models.values():\n",
    "    syg_idx += mdl.idx.v\n",
    "\n",
    "syg_bus = sa.SynGen.get(src='bus', attr='v', idx=syg_idx)\n",
    "\n",
    "load_idx = []\n",
    "for mdl in sa.StaticLoad.models.values():\n",
    "    load_idx += mdl.idx.v\n",
    "\n",
    "load_bus = sa.StaticLoad.get(src='bus', attr='v', idx=load_idx)"
   ]
  },
  {
   "cell_type": "markdown",
   "metadata": {},
   "source": [
    "Here, a for loop is used to iterate through all buses in the system.\n",
    "\n",
    "Note that this is only for demonstration purpose, and can be inefficient\n",
    "for large cases.\n",
    "\n",
    "In model ``Line``, attribute ``a1`` and ``a2`` are ``ExtAlgeb`` objects that\n",
    "will be summed to target ``Bus`` variable ``a`` for active power calculation.\n",
    "The attribute ``e`` of ``ExtAlgeb`` is the injected value.\n",
    "\n",
    "Similarly, for a model connected to a bus such as ``SynGen`` or ``Load``,\n",
    "there is usually an ``ExtAlgeb`` named ``a`` that is connected to the bus variable ``a``."
   ]
  },
  {
   "cell_type": "code",
   "execution_count": 7,
   "metadata": {},
   "outputs": [],
   "source": [
    "for bus_idx in sa.Bus.idx.v:\n",
    "    # get the location of bus device\n",
    "    bus_loc = sa.Bus.idx2uid(bus_idx)\n",
    "\n",
    "    # find the Line idx given \"from bus\"\n",
    "    # NOTE: method `find_idx` returns incomplete idx if multiple matches occur\n",
    "    inj_line_idx = []\n",
    "    for line_idx in sa.Line.idx.v:\n",
    "        if sa.Line.get(src='bus1', attr='v', idx=line_idx) == bus_idx:\n",
    "            inj_line_idx.append(line_idx)\n",
    "    line_loc = sa.Line.idx2uid(inj_line_idx)\n",
    "    line_e = sa.Line.get(src='a1', attr='e', idx=inj_line_idx)\n",
    "    p_inj_line[bus_loc] += line_e.sum()\n",
    "\n",
    "    # similar, find the Line idx given \"to bus\"\n",
    "    inj_line_idx = []\n",
    "    for line_idx in sa.Line.idx.v:\n",
    "        if sa.Line.get(src='bus2', attr='v', idx=line_idx) == bus_idx:\n",
    "            inj_line_idx.append(line_idx)\n",
    "    line_loc = sa.Line.idx2uid(inj_line_idx)\n",
    "    line_e = sa.Line.get(src='a2', attr='e', idx=inj_line_idx)\n",
    "    p_inj_line[bus_loc] += line_e.sum()\n",
    "\n",
    "    # get Dynamic Generator idx given \"bus\"\n",
    "    inj_syg_idx = []\n",
    "    for syg in syg_idx:\n",
    "        if sa.SynGen.get(src='bus', attr='v', idx=syg) == bus_idx:\n",
    "            inj_syg_idx.append(syg)\n",
    "    syg_e = sa.SynGen.get(src='a', attr='e', idx=inj_syg_idx)\n",
    "    p_inj_syg[bus_loc] += syg_e.sum()\n",
    "\n",
    "    # NOTE: If DynLoad occurs, similar method can be used\n",
    "    inj_load_idx = []\n",
    "    for load in load_idx:\n",
    "        if sa.StaticLoad.get(src='bus', attr='v', idx=load) == bus_idx:\n",
    "            inj_load_idx.append(load)\n",
    "    load_e = sa.StaticLoad.get(src='a', attr='e', idx=inj_load_idx)\n",
    "    p_inj_load[bus_loc] += load_e.sum()"
   ]
  },
  {
   "cell_type": "markdown",
   "metadata": {},
   "source": [
    "In the last, the total bus injected power can be summed up from the three components.\n",
    "\n",
    "Note that the positive direction is defined \"out from the bus\"."
   ]
  },
  {
   "cell_type": "code",
   "execution_count": 8,
   "metadata": {},
   "outputs": [
    {
     "data": {
      "text/html": [
       "<div>\n",
       "<style scoped>\n",
       "    .dataframe tbody tr th:only-of-type {\n",
       "        vertical-align: middle;\n",
       "    }\n",
       "\n",
       "    .dataframe tbody tr th {\n",
       "        vertical-align: top;\n",
       "    }\n",
       "\n",
       "    .dataframe thead th {\n",
       "        text-align: right;\n",
       "    }\n",
       "</style>\n",
       "<table border=\"1\" class=\"dataframe\">\n",
       "  <thead>\n",
       "    <tr style=\"text-align: right;\">\n",
       "      <th></th>\n",
       "      <th>Bus</th>\n",
       "      <th>Line</th>\n",
       "      <th>SynGen</th>\n",
       "      <th>Load</th>\n",
       "      <th>Total</th>\n",
       "    </tr>\n",
       "  </thead>\n",
       "  <tbody>\n",
       "    <tr>\n",
       "      <th>0</th>\n",
       "      <td>1</td>\n",
       "      <td>0.8143</td>\n",
       "      <td>-0.8143</td>\n",
       "      <td>0.000</td>\n",
       "      <td>-0.0</td>\n",
       "    </tr>\n",
       "    <tr>\n",
       "      <th>1</th>\n",
       "      <td>2</td>\n",
       "      <td>0.1830</td>\n",
       "      <td>-0.4000</td>\n",
       "      <td>0.217</td>\n",
       "      <td>0.0</td>\n",
       "    </tr>\n",
       "    <tr>\n",
       "      <th>2</th>\n",
       "      <td>3</td>\n",
       "      <td>-0.1000</td>\n",
       "      <td>-0.4000</td>\n",
       "      <td>0.500</td>\n",
       "      <td>-0.0</td>\n",
       "    </tr>\n",
       "    <tr>\n",
       "      <th>3</th>\n",
       "      <td>4</td>\n",
       "      <td>-0.4780</td>\n",
       "      <td>0.0000</td>\n",
       "      <td>0.478</td>\n",
       "      <td>-0.0</td>\n",
       "    </tr>\n",
       "    <tr>\n",
       "      <th>4</th>\n",
       "      <td>5</td>\n",
       "      <td>-0.0760</td>\n",
       "      <td>0.0000</td>\n",
       "      <td>0.076</td>\n",
       "      <td>0.0</td>\n",
       "    </tr>\n",
       "    <tr>\n",
       "      <th>5</th>\n",
       "      <td>6</td>\n",
       "      <td>0.1500</td>\n",
       "      <td>-0.3000</td>\n",
       "      <td>0.150</td>\n",
       "      <td>-0.0</td>\n",
       "    </tr>\n",
       "    <tr>\n",
       "      <th>6</th>\n",
       "      <td>7</td>\n",
       "      <td>-0.0000</td>\n",
       "      <td>0.0000</td>\n",
       "      <td>0.000</td>\n",
       "      <td>-0.0</td>\n",
       "    </tr>\n",
       "    <tr>\n",
       "      <th>7</th>\n",
       "      <td>8</td>\n",
       "      <td>0.3500</td>\n",
       "      <td>-0.3500</td>\n",
       "      <td>0.000</td>\n",
       "      <td>0.0</td>\n",
       "    </tr>\n",
       "    <tr>\n",
       "      <th>8</th>\n",
       "      <td>9</td>\n",
       "      <td>-0.2950</td>\n",
       "      <td>0.0000</td>\n",
       "      <td>0.295</td>\n",
       "      <td>0.0</td>\n",
       "    </tr>\n",
       "    <tr>\n",
       "      <th>9</th>\n",
       "      <td>10</td>\n",
       "      <td>-0.0900</td>\n",
       "      <td>0.0000</td>\n",
       "      <td>0.090</td>\n",
       "      <td>-0.0</td>\n",
       "    </tr>\n",
       "    <tr>\n",
       "      <th>10</th>\n",
       "      <td>11</td>\n",
       "      <td>-0.0350</td>\n",
       "      <td>0.0000</td>\n",
       "      <td>0.035</td>\n",
       "      <td>0.0</td>\n",
       "    </tr>\n",
       "    <tr>\n",
       "      <th>11</th>\n",
       "      <td>12</td>\n",
       "      <td>-0.0610</td>\n",
       "      <td>0.0000</td>\n",
       "      <td>0.061</td>\n",
       "      <td>-0.0</td>\n",
       "    </tr>\n",
       "    <tr>\n",
       "      <th>12</th>\n",
       "      <td>13</td>\n",
       "      <td>-0.1350</td>\n",
       "      <td>0.0000</td>\n",
       "      <td>0.135</td>\n",
       "      <td>-0.0</td>\n",
       "    </tr>\n",
       "    <tr>\n",
       "      <th>13</th>\n",
       "      <td>14</td>\n",
       "      <td>-0.2000</td>\n",
       "      <td>0.0000</td>\n",
       "      <td>0.200</td>\n",
       "      <td>-0.0</td>\n",
       "    </tr>\n",
       "  </tbody>\n",
       "</table>\n",
       "</div>"
      ],
      "text/plain": [
       "    Bus    Line  SynGen   Load  Total\n",
       "0     1  0.8143 -0.8143  0.000   -0.0\n",
       "1     2  0.1830 -0.4000  0.217    0.0\n",
       "2     3 -0.1000 -0.4000  0.500   -0.0\n",
       "3     4 -0.4780  0.0000  0.478   -0.0\n",
       "4     5 -0.0760  0.0000  0.076    0.0\n",
       "5     6  0.1500 -0.3000  0.150   -0.0\n",
       "6     7 -0.0000  0.0000  0.000   -0.0\n",
       "7     8  0.3500 -0.3500  0.000    0.0\n",
       "8     9 -0.2950  0.0000  0.295    0.0\n",
       "9    10 -0.0900  0.0000  0.090   -0.0\n",
       "10   11 -0.0350  0.0000  0.035    0.0\n",
       "11   12 -0.0610  0.0000  0.061   -0.0\n",
       "12   13 -0.1350  0.0000  0.135   -0.0\n",
       "13   14 -0.2000  0.0000  0.200   -0.0"
      ]
     },
     "execution_count": 8,
     "metadata": {},
     "output_type": "execute_result"
    }
   ],
   "source": [
    "p_inj_bus = p_inj_line + p_inj_syg + p_inj_load\n",
    "\n",
    "p_inj = pd.DataFrame({'Bus': sa.Bus.idx.v,\n",
    "                      'Line': p_inj_line, 'SynGen': p_inj_syg,\n",
    "                      'Load': p_inj_load, 'Total': p_inj_bus})\n",
    "\n",
    "p_inj.round(4)"
   ]
  },
  {
   "cell_type": "markdown",
   "metadata": {},
   "source": [
    "## Inspect the bus injected power during simulation"
   ]
  },
  {
   "cell_type": "code",
   "execution_count": 9,
   "metadata": {},
   "outputs": [
    {
     "name": "stderr",
     "output_type": "stream",
     "text": [
      "Working directory: \"/Users/jinningwang/Documents/work/psal/src/notes/discussion\"\n",
      "> Loaded config from file \"/Users/jinningwang/.andes/andes.rc\"\n",
      "> Reloaded generated Python code of module \"pycode\".\n",
      "Parsing input file \"/Users/jinningwang/Documents/work/andes/andes/cases/ieee14/ieee14_full.xlsx\"...\n",
      "Input file parsed in 0.0405 seconds.\n",
      "System internal structure set up in 0.0279 seconds.\n"
     ]
    },
    {
     "data": {
      "text/plain": [
       "True"
      ]
     },
     "execution_count": 9,
     "metadata": {},
     "output_type": "execute_result"
    }
   ],
   "source": [
    "sa = andes.load(andes.get_case(\"ieee14/ieee14_full.xlsx\"),\n",
    "               pert='pert.py',\n",
    "               no_output=True, setup=False)\n",
    "\n",
    "sa.add('Toggle', dict(model='Line', dev='Line_9', t=1))\n",
    "sa.setup()\n"
   ]
  },
  {
   "cell_type": "code",
   "execution_count": 10,
   "metadata": {},
   "outputs": [
    {
     "name": "stderr",
     "output_type": "stream",
     "text": [
      "-> System connectivity check results:\n",
      "  No islanded bus detected.\n",
      "  System is interconnected.\n",
      "  Each island has a slack bus correctly defined and enabled.\n",
      "\n",
      "-> Power flow calculation\n",
      "           Numba: Off\n",
      "   Sparse solver: KLU\n",
      " Solution method: NR method\n",
      "Power flow initialized in 0.0038 seconds.\n",
      "0: |F(x)| = 0.5605182134\n",
      "1: |F(x)| = 0.006202200332\n",
      "2: |F(x)| = 5.819382825e-06\n",
      "3: |F(x)| = 6.957087684e-12\n",
      "Converged in 4 iterations in 0.0052 seconds.\n",
      "Perturbation file \"pert.py\" loaded.\n",
      "Initialization for dynamics completed in 0.0816 seconds.\n",
      "Initialization was successful.\n"
     ]
    }
   ],
   "source": [
    "sa.PFlow.run()\n",
    "\n",
    "sa.TDS.config.no_tqdm = True  # disable progress bar\n",
    "sa.TDS.config.tf = 5  # set simulation time to 5 seconds\n",
    "\n",
    "_ = sa.TDS.init()"
   ]
  },
  {
   "cell_type": "code",
   "execution_count": 11,
   "metadata": {},
   "outputs": [
    {
     "name": "stderr",
     "output_type": "stream",
     "text": [
      "\n",
      "-> Time Domain Simulation Summary:\n",
      "Sparse Solver: KLU\n",
      "Simulation time: 0.0-5 s.\n",
      "Fixed step size: h=33.33 ms. Shrink if not converged.\n"
     ]
    },
    {
     "name": "stdout",
     "output_type": "stream",
     "text": [
      "t=0.03333, pinj_line=0.81427\n",
      "t=0.06667, pinj_line=0.81427\n",
      "t=0.10000, pinj_line=0.81427\n",
      "t=0.13333, pinj_line=0.81427\n",
      "t=0.16667, pinj_line=0.81427\n",
      "t=0.20000, pinj_line=0.81427\n",
      "t=0.23333, pinj_line=0.81427\n",
      "t=0.26667, pinj_line=0.81427\n",
      "t=0.30000, pinj_line=0.81427\n",
      "t=0.33333, pinj_line=0.81427\n",
      "t=0.36667, pinj_line=0.81427\n",
      "t=0.40000, pinj_line=0.81427\n",
      "t=0.43333, pinj_line=0.81427\n",
      "t=0.46667, pinj_line=0.81427\n",
      "t=0.50000, pinj_line=0.81427\n",
      "t=0.53333, pinj_line=0.81427\n",
      "t=0.56667, pinj_line=0.81427\n",
      "t=0.60000, pinj_line=0.81427\n",
      "t=0.63333, pinj_line=0.81427\n",
      "t=0.66667, pinj_line=0.81427\n",
      "t=0.70000, pinj_line=0.81427\n",
      "t=0.73333, pinj_line=0.81427\n",
      "t=0.76667, pinj_line=0.81427\n",
      "t=0.80000, pinj_line=0.81427\n",
      "t=0.83333, pinj_line=0.81427\n",
      "t=0.86667, pinj_line=0.81427\n",
      "t=0.90000, pinj_line=0.81427\n",
      "t=0.93333, pinj_line=0.81427\n",
      "t=0.96667, pinj_line=0.81427\n",
      "t=0.99990, pinj_line=0.81427\n",
      "t=1.00000, pinj_line=0.81427\n",
      "<Toggle Toggle_1>: Line.Line_9 status changed to 0 at t=1.0 sec.\n",
      "t=1.00010, pinj_line=0.81427\n",
      "t=1.03343, pinj_line=0.81396\n",
      "t=1.06677, pinj_line=0.81355\n",
      "t=1.10010, pinj_line=0.81345\n",
      "t=1.13343, pinj_line=0.81342\n",
      "t=1.16677, pinj_line=0.81341\n",
      "t=1.20010, pinj_line=0.81341\n",
      "t=1.23343, pinj_line=0.81342\n",
      "t=1.26677, pinj_line=0.81343\n",
      "t=1.30010, pinj_line=0.81344\n",
      "t=1.33343, pinj_line=0.81346\n",
      "t=1.36677, pinj_line=0.81347\n",
      "t=1.40010, pinj_line=0.81348\n",
      "t=1.43343, pinj_line=0.81349\n",
      "t=1.46677, pinj_line=0.81350\n",
      "t=1.50010, pinj_line=0.81350\n",
      "t=1.53343, pinj_line=0.81350\n",
      "t=1.56677, pinj_line=0.81349\n",
      "t=1.60010, pinj_line=0.81349\n",
      "t=1.63343, pinj_line=0.81348\n",
      "t=1.66677, pinj_line=0.81347\n",
      "t=1.70010, pinj_line=0.81346\n",
      "t=1.73343, pinj_line=0.81345\n",
      "t=1.76677, pinj_line=0.81344\n",
      "t=1.80010, pinj_line=0.81343\n",
      "t=1.83343, pinj_line=0.81342\n",
      "t=1.86677, pinj_line=0.81341\n",
      "t=1.90010, pinj_line=0.81341\n",
      "t=1.93343, pinj_line=0.81340\n",
      "t=1.96677, pinj_line=0.81339\n",
      "t=2.00010, pinj_line=0.81339\n",
      "t=2.03343, pinj_line=0.81339\n",
      "t=2.06677, pinj_line=0.81338\n",
      "t=2.10010, pinj_line=0.81338\n",
      "t=2.13343, pinj_line=0.81337\n",
      "t=2.16677, pinj_line=0.81337\n",
      "t=2.20010, pinj_line=0.81337\n",
      "t=2.23343, pinj_line=0.81336\n",
      "t=2.26677, pinj_line=0.81336\n",
      "t=2.30010, pinj_line=0.81336\n",
      "t=2.33343, pinj_line=0.81335\n",
      "t=2.36677, pinj_line=0.81335\n",
      "t=2.40010, pinj_line=0.81334\n",
      "t=2.43343, pinj_line=0.81334\n",
      "t=2.46677, pinj_line=0.81334\n",
      "t=2.50010, pinj_line=0.81334\n",
      "t=2.53343, pinj_line=0.81333\n",
      "t=2.56677, pinj_line=0.81333\n",
      "t=2.60010, pinj_line=0.81333\n",
      "t=2.63343, pinj_line=0.81333\n",
      "t=2.66677, pinj_line=0.81333\n",
      "t=2.70010, pinj_line=0.81333\n",
      "t=2.73343, pinj_line=0.81333\n",
      "t=2.76677, pinj_line=0.81332\n",
      "t=2.80010, pinj_line=0.81332\n",
      "t=2.83343, pinj_line=0.81332\n",
      "t=2.86677, pinj_line=0.81332\n",
      "t=2.90010, pinj_line=0.81332\n",
      "t=2.93343, pinj_line=0.81332\n",
      "t=2.96677, pinj_line=0.81331\n",
      "t=3.00010, pinj_line=0.81331\n",
      "t=3.03343, pinj_line=0.81331\n",
      "t=3.06677, pinj_line=0.81330\n",
      "t=3.10010, pinj_line=0.81330\n",
      "t=3.13343, pinj_line=0.81330\n",
      "t=3.16677, pinj_line=0.81330\n",
      "t=3.20010, pinj_line=0.81329\n",
      "t=3.23343, pinj_line=0.81329\n",
      "t=3.26677, pinj_line=0.81329\n",
      "t=3.30010, pinj_line=0.81329\n",
      "t=3.33343, pinj_line=0.81328\n",
      "t=3.36677, pinj_line=0.81328\n",
      "t=3.40010, pinj_line=0.81328\n",
      "t=3.43343, pinj_line=0.81328\n",
      "t=3.46677, pinj_line=0.81328\n",
      "t=3.50010, pinj_line=0.81328\n",
      "t=3.53343, pinj_line=0.81328\n",
      "t=3.56677, pinj_line=0.81328\n",
      "t=3.60010, pinj_line=0.81328\n",
      "t=3.63343, pinj_line=0.81328\n",
      "t=3.66677, pinj_line=0.81328\n",
      "t=3.70010, pinj_line=0.81328\n",
      "t=3.73343, pinj_line=0.81328\n",
      "t=3.76677, pinj_line=0.81328\n",
      "t=3.80010, pinj_line=0.81328\n",
      "t=3.83343, pinj_line=0.81328\n",
      "t=3.86677, pinj_line=0.81328\n",
      "t=3.90010, pinj_line=0.81328\n",
      "t=3.93343, pinj_line=0.81328\n",
      "t=3.96677, pinj_line=0.81328\n",
      "t=4.00010, pinj_line=0.81327\n",
      "t=4.03343, pinj_line=0.81327\n",
      "t=4.06677, pinj_line=0.81327\n",
      "t=4.10010, pinj_line=0.81327\n",
      "t=4.13343, pinj_line=0.81327\n",
      "t=4.16677, pinj_line=0.81327\n",
      "t=4.20010, pinj_line=0.81327\n",
      "t=4.23343, pinj_line=0.81327\n",
      "t=4.26677, pinj_line=0.81327\n",
      "t=4.30010, pinj_line=0.81327\n",
      "t=4.33343, pinj_line=0.81327\n",
      "t=4.36677, pinj_line=0.81327\n",
      "t=4.40010, pinj_line=0.81327\n",
      "t=4.43343, pinj_line=0.81327\n",
      "t=4.46677, pinj_line=0.81327\n",
      "t=4.50010, pinj_line=0.81327\n",
      "t=4.53343, pinj_line=0.81327\n",
      "t=4.56677, pinj_line=0.81327\n",
      "t=4.60010, pinj_line=0.81327\n",
      "t=4.63343, pinj_line=0.81327\n"
     ]
    },
    {
     "name": "stderr",
     "output_type": "stream",
     "text": [
      "Simulation to t=5.00 sec completed in 0.2244 seconds.\n"
     ]
    },
    {
     "name": "stdout",
     "output_type": "stream",
     "text": [
      "t=4.66677, pinj_line=0.81327\n",
      "t=4.70010, pinj_line=0.81327\n",
      "t=4.73343, pinj_line=0.81327\n",
      "t=4.76677, pinj_line=0.81327\n",
      "t=4.80010, pinj_line=0.81327\n",
      "t=4.83343, pinj_line=0.81327\n",
      "t=4.86677, pinj_line=0.81327\n",
      "t=4.90010, pinj_line=0.81327\n",
      "t=4.93343, pinj_line=0.81327\n",
      "t=4.96677, pinj_line=0.81327\n",
      "t=5.00000, pinj_line=0.81327\n"
     ]
    },
    {
     "data": {
      "text/plain": [
       "True"
      ]
     },
     "execution_count": 11,
     "metadata": {},
     "output_type": "execute_result"
    }
   ],
   "source": [
    "sa.TDS.run()"
   ]
  }
 ],
 "metadata": {
  "kernelspec": {
   "display_name": "ams",
   "language": "python",
   "name": "python3"
  },
  "language_info": {
   "codemirror_mode": {
    "name": "ipython",
    "version": 3
   },
   "file_extension": ".py",
   "mimetype": "text/x-python",
   "name": "python",
   "nbconvert_exporter": "python",
   "pygments_lexer": "ipython3",
   "version": "3.9.18"
  },
  "orig_nbformat": 4
 },
 "nbformat": 4,
 "nbformat_minor": 2
}

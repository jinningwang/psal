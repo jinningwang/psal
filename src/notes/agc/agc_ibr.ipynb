{
 "cells": [
  {
   "attachments": {},
   "cell_type": "markdown",
   "metadata": {},
   "source": [
    "# Detailed SFR Study"
   ]
  },
  {
   "cell_type": "markdown",
   "metadata": {},
   "source": [
    "In this case, we will demonstrate how to use AMS and ANDES to mimic the system secondary frequency regulation, where system automatic generation control (AGC) is used to maintain the system frequency at the nominal value.\n",
    "\n",
    "This demo is prepared by [Jinning Wang](https://jinningwang.github.io/).\n",
    "\n",
    "Reference:\n",
    "\n",
    "1. J. Wang et al., \"Electric Vehicles Charging Time Constrained Deliverable Provision of Secondary Frequency Regulation,\" in IEEE Transactions on Smart Grid, doi: [10.1109/TSG.2024.3356948](https://ieeexplore.ieee.org/document/10411057).\n",
    "1. “Standard BAL-001-2 – Real Power Balancing Control Performance.” [Online]. Available: https://www.nerc.com/pa/Stand/Reliability%20Standards/BAL-001-2.pdf\n"
   ]
  },
  {
   "cell_type": "code",
   "execution_count": 1,
   "metadata": {},
   "outputs": [],
   "source": [
    "from itertools import chain\n",
    "\n",
    "import numpy as np\n",
    "import scipy\n",
    "import pandas as pd\n",
    "\n",
    "import ams\n",
    "import andes\n",
    "\n",
    "import datetime\n",
    "\n",
    "import matplotlib\n",
    "import matplotlib.pyplot as plt"
   ]
  },
  {
   "cell_type": "markdown",
   "metadata": {},
   "source": [
    "Reset matplotlib style to default."
   ]
  },
  {
   "cell_type": "code",
   "execution_count": 2,
   "metadata": {},
   "outputs": [],
   "source": [
    "matplotlib.rcdefaults()"
   ]
  },
  {
   "cell_type": "markdown",
   "metadata": {},
   "source": [
    "Ensure in-line plots."
   ]
  },
  {
   "cell_type": "code",
   "execution_count": 3,
   "metadata": {},
   "outputs": [],
   "source": [
    "%matplotlib inline"
   ]
  },
  {
   "cell_type": "code",
   "execution_count": 4,
   "metadata": {},
   "outputs": [
    {
     "name": "stdout",
     "output_type": "stream",
     "text": [
      "Last run time: 2024-03-26 17:36:54\n",
      "andes:1.9.1.post24+g7a87ad5d\n",
      "ams:0.9.5.post1+g114d11e\n"
     ]
    }
   ],
   "source": [
    "print(\"Last run time:\", datetime.datetime.now().strftime(\"%Y-%m-%d %H:%M:%S\"))\n",
    "\n",
    "print(f'andes:{andes.__version__}')\n",
    "print(f'ams:{ams.__version__}')"
   ]
  },
  {
   "cell_type": "code",
   "execution_count": 5,
   "metadata": {},
   "outputs": [],
   "source": [
    "andes.config_logger(stream_level=40)"
   ]
  },
  {
   "cell_type": "code",
   "execution_count": 6,
   "metadata": {},
   "outputs": [],
   "source": [
    "ams.config_logger(stream_level=30)"
   ]
  },
  {
   "cell_type": "markdown",
   "metadata": {},
   "source": [
    "## Dispatch case\n",
    "\n",
    "We use the IEEE 39-bus system as an example."
   ]
  },
  {
   "cell_type": "code",
   "execution_count": 7,
   "metadata": {},
   "outputs": [],
   "source": [
    "sp = ams.load('ieee39_uced_vis2.xlsx',\n",
    "              setup=True,\n",
    "              no_output=True,)"
   ]
  },
  {
   "cell_type": "markdown",
   "metadata": {},
   "source": [
    "In [RTED documentation](https://ltb.readthedocs.io/projects/ams/en/stable/typedoc/DCED.html#id24),\n",
    "we can see that Var ``rgu`` and ``rgd`` are the variables for RegUp/Dn reserve,\n",
    "and Constraint ``rbu`` and ``rbd`` are the equality constraints for RegUp/Dn reserve balance.\n",
    "\n",
    "As for the RegUp/Dn reserve requirements, it is defined by parameter ``du`` and ``dd`` as percentage of the total load,\n",
    "and later ``dud`` and ``ddd`` are the actual reserve requirements."
   ]
  },
  {
   "cell_type": "code",
   "execution_count": 8,
   "metadata": {},
   "outputs": [
    {
     "data": {
      "text/plain": [
       "array([2.34256, 0.     ])"
      ]
     },
     "execution_count": 8,
     "metadata": {},
     "output_type": "execute_result"
    }
   ],
   "source": [
    "sp.RTED.dud.v"
   ]
  },
  {
   "cell_type": "code",
   "execution_count": 9,
   "metadata": {},
   "outputs": [
    {
     "data": {
      "text/plain": [
       "array([0.05, 0.05])"
      ]
     },
     "execution_count": 9,
     "metadata": {},
     "output_type": "execute_result"
    }
   ],
   "source": [
    "sp.RTED.du.v"
   ]
  },
  {
   "cell_type": "markdown",
   "metadata": {},
   "source": [
    "## Dynamic case"
   ]
  },
  {
   "cell_type": "code",
   "execution_count": 10,
   "metadata": {},
   "outputs": [
    {
     "name": "stderr",
     "output_type": "stream",
     "text": [
      "Following PFlow models in addfile will be overwritten: <Bus>, <PQ>, <PV>, <Slack>, <Shunt>, <Line>, <Area>\n",
      "AMS system 0x10a581460 is linked to the ANDES system 0x168f68580.\n"
     ]
    }
   ],
   "source": [
    "sa = sp.to_andes(addfile='ieee39_vis2.xlsx',\n",
    "                 setup=True,\n",
    "                 no_output=True,\n",
    "                 default_config=True,\n",
    "                 )"
   ]
  },
  {
   "cell_type": "markdown",
   "metadata": {},
   "source": [
    "Device `ACEc` is used to calculate the Area Control Error (ACE)."
   ]
  },
  {
   "cell_type": "code",
   "execution_count": 11,
   "metadata": {},
   "outputs": [
    {
     "data": {
      "text/html": [
       "<div>\n",
       "<style scoped>\n",
       "    .dataframe tbody tr th:only-of-type {\n",
       "        vertical-align: middle;\n",
       "    }\n",
       "\n",
       "    .dataframe tbody tr th {\n",
       "        vertical-align: top;\n",
       "    }\n",
       "\n",
       "    .dataframe thead th {\n",
       "        text-align: right;\n",
       "    }\n",
       "</style>\n",
       "<table border=\"1\" class=\"dataframe\">\n",
       "  <thead>\n",
       "    <tr style=\"text-align: right;\">\n",
       "      <th></th>\n",
       "      <th>idx</th>\n",
       "      <th>u</th>\n",
       "      <th>name</th>\n",
       "      <th>bus</th>\n",
       "      <th>bias</th>\n",
       "      <th>busf</th>\n",
       "    </tr>\n",
       "    <tr>\n",
       "      <th>uid</th>\n",
       "      <th></th>\n",
       "      <th></th>\n",
       "      <th></th>\n",
       "      <th></th>\n",
       "      <th></th>\n",
       "      <th></th>\n",
       "    </tr>\n",
       "  </thead>\n",
       "  <tbody>\n",
       "    <tr>\n",
       "      <th>0</th>\n",
       "      <td>1</td>\n",
       "      <td>1.0</td>\n",
       "      <td>ACE_1</td>\n",
       "      <td>1</td>\n",
       "      <td>350.0</td>\n",
       "      <td>BusFreq_2</td>\n",
       "    </tr>\n",
       "  </tbody>\n",
       "</table>\n",
       "</div>"
      ],
      "text/plain": [
       "     idx    u   name  bus   bias       busf\n",
       "uid                                        \n",
       "0      1  1.0  ACE_1    1  350.0  BusFreq_2"
      ]
     },
     "execution_count": 11,
     "metadata": {},
     "output_type": "execute_result"
    }
   ],
   "source": [
    "sa.ACEc.as_df()"
   ]
  },
  {
   "cell_type": "markdown",
   "metadata": {},
   "source": [
    "## Synthetic load\n",
    "\n",
    "ISO-NE provides various grid data, such as [Five-Minute System Demand](https://www.iso-ne.com/isoexpress/web/reports/load-and-demand/-/tree/dmnd-five-minute-sys).\n",
    "In this example, we revise the March 02, 2024, 18 PM data."
   ]
  },
  {
   "cell_type": "code",
   "execution_count": 12,
   "metadata": {},
   "outputs": [
    {
     "data": {
      "text/plain": [
       "<matplotlib.legend.Legend at 0x17da0bac0>"
      ]
     },
     "execution_count": 12,
     "metadata": {},
     "output_type": "execute_result"
    },
    {
     "data": {
      "image/png": "[encoded data removed]",
      "text/plain": [
       "<Figure size 500x300 with 1 Axes>"
      ]
     },
     "metadata": {},
     "output_type": "display_data"
    }
   ],
   "source": [
    "load_isone = np.array([\n",
    "    11920.071, 11980.979, 12000.579, 12145.243, 12211.862, 12220.703,\n",
    "    12191.051, 12241.546, 12285.719, 12312.626, 12364.102, 12336.354\n",
    "])\n",
    "\n",
    "# Normalize the load\n",
    "load_min = load_isone.min()\n",
    "load_max = load_isone.max()\n",
    "load_mid = (load_max + load_min) / 2  # Midpoint of the range\n",
    "# Set to desired range\n",
    "load_range = 0.8 + 0.01 * ((load_isone - load_mid) / (load_max - load_min))\n",
    "\n",
    "load_scale_base = np.repeat(load_range, 300)\n",
    "# smooth load_scale_base\n",
    "load_scale_smooth = scipy.signal.savgol_filter(load_scale_base, 600, 4)\n",
    "\n",
    "np.random.seed(2024)  # Set random seed for reproducibility\n",
    "random_bias = np.random.normal(loc=0, scale=0.0015,\n",
    "                               size=len(load_scale_smooth))\n",
    "random_smooth = scipy.signal.savgol_filter(random_bias, 20, 1)\n",
    "\n",
    "# Add noise to the load as random ACE\n",
    "load_coeff_base = load_scale_smooth + random_smooth\n",
    "# smooth\n",
    "load_coeff = scipy.signal.savgol_filter(load_coeff_base, 10, 2)\n",
    "\n",
    "# NOTE: force the first 2 points to be the same as first interval average\n",
    "load_coeff[0:2] = load_coeff[0:300].mean()\n",
    "\n",
    "# average load every N points, for RTED dispatch\n",
    "load_coeff_avg = load_coeff.reshape(-1, 300).mean(axis=1)\n",
    "load_coeff_avg = np.repeat(load_coeff_avg, 300)\n",
    "\n",
    "fig_load, ax_load = plt.subplots(figsize=(5, 3), dpi=100)\n",
    "\n",
    "ax_load.plot(range(len(load_coeff)), load_coeff,\n",
    "             label='Load Coefficient')\n",
    "ax_load.plot(range(len(load_coeff_avg)), load_coeff_avg,\n",
    "             label='Load Average')\n",
    "\n",
    "ax_load.set_xlim([0, 3600])\n",
    "ax_load.set_xlabel('Time [s]')\n",
    "ax_load.set_ylabel('Ratio')\n",
    "ax_load.set_title('Load Curve')\n",
    "ax_load.grid(True)\n",
    "ax_load.legend()"
   ]
  },
  {
   "cell_type": "markdown",
   "metadata": {},
   "source": [
    "## Co-simulation\n",
    "\n",
    "### Define constants\n",
    "\n",
    "Here we assume the AGC interval is 4 seconds, and RTED interval is 300 seconds.\n",
    "\n",
    "Between the interoperation of AMS and ANDES, there is a AC conversion step to convert the DC-based dispatch resutls to AC-based power flow results.\n",
    "For more details, check the reference paper and [AMS source code - dc2ac](https://github.com/CURENT/ams/blob/master/ams/routines/rted.py#L184).\n",
    "\n",
    "### AGC controller\n",
    "\n",
    "Since there is not an built-in AGC controller in ANDES, we can define a PI controller to calculate the control signal for the AGC:\n",
    "\n",
    "AGC_raw = kp * ACE + ki * integral(ACE)\n",
    "\n",
    "Note that, in the AGC interval, there is a cap operation to limit the AGC signal within procured reserve limits.\n",
    "\n",
    "### ANDES settings\n",
    "\n",
    "ANDES load needs to be set to constant load for effective load change."
   ]
  },
  {
   "cell_type": "code",
   "execution_count": 13,
   "metadata": {},
   "outputs": [],
   "source": [
    "# --- time constants ---\n",
    "total_time = 3600\n",
    "\n",
    "RTED_interval = 300\n",
    "AGC_interval = 4\n",
    "\n",
    "id_rted = -1  # RTED interval counter\n",
    "id_agc = -1  # AGC interval counter\n",
    "\n",
    "# --- AGC controller ---\n",
    "kp = 0.1\n",
    "ki = 0.05\n",
    "\n",
    "ACE_integral = 0\n",
    "ACE_raw = 0\n",
    "\n",
    "# --- initialize output ---\n",
    "# pd_andes: total load in ANDES\n",
    "# pd_ams: total load in AMS; pg_ams: total generation in AMS\n",
    "# pru_ams: total RegUp in AMS; prd_ams: total RegDn in AMS\n",
    "out_cols = ['time', 'freq', 'ACE', 'AGC',\n",
    "            'pd_andes', 'pd_ams', 'pg_ams',\n",
    "            'pru_ams', 'prd_ams']\n",
    "outdf = pd.DataFrame(data=np.zeros((total_time, len(out_cols))),\n",
    "                     columns=out_cols)\n",
    "\n",
    "# --- AMS settings ---\n",
    "sp.SFR.set(src='du', attr='v', idx=sp.SFR.idx.v, value=0.0015*np.ones(sp.SFR.n))\n",
    "sp.SFR.set(src='dd', attr='v', idx=sp.SFR.idx.v, value=0.0015*np.ones(sp.SFR.n))\n",
    "\n",
    "# --- ANDES settings ---\n",
    "sa.TDS.config.no_tqdm = True  # turn off ANDES progress bar\n",
    "sa.TDS.config.criteria = 0  # turn off ANDES criteria check\n",
    "\n",
    "# adjsut ANDES TDS settings to save memory\n",
    "sa.TDS.config.save_every = 0\n",
    "\n",
    "# adjust dynamic parameters\n",
    "# NOTE: might run into error if there exists a TurbineGov model that does not have \"VMAX\"\n",
    "tbgov_src = [mdl.idx.v for mdl in sa.TurbineGov.models.values()]\n",
    "tbgov_idx = list(chain.from_iterable(tbgov_src))\n",
    "sa.TurbineGov.set(src='VMAX', attr='v', idx=tbgov_idx,\n",
    "                  value=9999 * np.ones(sa.TurbineGov.n),)\n",
    "sa.TurbineGov.set(src='VMIN', attr='v', idx=tbgov_idx,\n",
    "                  value=np.zeros(sa.TurbineGov.n),)\n",
    "syg_src = [mdl.idx.v for mdl in sa.SynGen.models.values()]\n",
    "syg_idx = list(chain.from_iterable(syg_src))\n",
    "sa.SynGen.set(src='ra', attr='v', idx=syg_idx,\n",
    "              value=np.zeros(sa.SynGen.n),)\n",
    "\n",
    "# use constant power model for PQ\n",
    "sa.PQ.config.p2p = 1\n",
    "sa.PQ.config.q2q = 1\n",
    "sa.PQ.config.p2z = 0\n",
    "sa.PQ.config.q2z = 0\n",
    "sa.PQ.pq2z = 0\n",
    "\n",
    "# save the initial load values\n",
    "p0_sp = sp.PQ.p0.v.copy()\n",
    "q0_sp = sp.PQ.q0.v.copy()\n",
    "p0_sa = sa.PQ.p0.v.copy()\n",
    "q0_sa = sa.PQ.q0.v.copy()\n",
    "\n",
    "# --- Co-Sim Variables ---\n",
    "# save device index\n",
    "pq_idx = sp.PQ.idx.v  # PQ index\n",
    "\n",
    "# get a copy of link table to calculate AGC power\n",
    "maptab = sp.dyn.link.copy().fillna(False)\n",
    "\n",
    "# existence of each type of generator\n",
    "maptab['has_gov'] = maptab['gov_idx'].fillna(0, inplace=False).astype(bool).astype(int)\n",
    "maptab['has_dg'] = maptab['dg_idx'].fillna(0, inplace=False).astype(bool).astype(int)\n",
    "maptab['has_rg'] = maptab['rg_idx'].fillna(0, inplace=False).astype(bool).astype(int)\n",
    "\n",
    "# initialize columns for power output\n",
    "# pg: StaticGen power reference; pru: RegUp power; prd: RegDn power\n",
    "# pgov: TurbineGov power; prg: RenGen power; pdg: DG power\n",
    "# bu: RegUp participation factor; bd: RegDown participation factor\n",
    "# agov: TurbineGov AGC power; adg: DG AGC power; arg: RenGen AGC power\n",
    "\n",
    "add_cols = ['pg', 'pru', 'prd', 'pgov',\n",
    "            'prg', 'pdg', 'bu', 'bd',\n",
    "            'agov', 'adg', 'arg']\n",
    "maptab[add_cols] = 0\n",
    "\n",
    "# output data of each unit's AGC power\n",
    "# aout: delivered AGC power; aref: AGC reference\n",
    "agc_cols = list(maptab['stg_idx'])\n",
    "agc_ref = pd.DataFrame(data=np.zeros((total_time, len(list(['time']) + agc_cols))),\n",
    "                       columns=list(['time']) + agc_cols)\n",
    "agc_out = pd.DataFrame(data=np.zeros((total_time, len(list(['time']) + agc_cols))),\n",
    "                       columns=list(['time']) + agc_cols)\n",
    "\n",
    "# output data of each dispatch interval's results\n",
    "gen_cols = list(maptab['stg_idx'])\n",
    "n_dispatch = np.ceil(total_time / RTED_interval).astype(int)\n",
    "pg_ref = pd.DataFrame(data=np.zeros((n_dispatch, len(list(['n_rted']) + gen_cols))),\n",
    "                      columns=list(['n_rted']) + gen_cols)\n",
    "pru_ref = pd.DataFrame(data=np.zeros((n_dispatch, len(list(['n_rted']) + gen_cols))),\n",
    "                       columns=list(['n_rted']) + gen_cols)\n",
    "prd_ref = pd.DataFrame(data=np.zeros((n_dispatch, len(list(['n_rted']) + gen_cols))),\n",
    "                       columns=list(['n_rted']) + gen_cols)"
   ]
  },
  {
   "cell_type": "markdown",
   "metadata": {},
   "source": [
    "### Main loop"
   ]
  },
  {
   "cell_type": "code",
   "execution_count": 14,
   "metadata": {},
   "outputs": [
    {
     "name": "stderr",
     "output_type": "stream",
     "text": [
      "<RTED> reinit OModel due to non-parametric change.\n",
      "<RTED> solved as optimal in 0.0175 seconds, converged in 14 iterations with PIQP.\n"
     ]
    },
    {
     "name": "stdout",
     "output_type": "stream",
     "text": [
      "====== RTED Interval <0> ======\n",
      "--AMS: update disaptch load with factor 0.795040.\n"
     ]
    },
    {
     "name": "stderr",
     "output_type": "stream",
     "text": [
      "<RTED> converted to AC.\n"
     ]
    },
    {
     "name": "stdout",
     "output_type": "stream",
     "text": [
      "--AMS: AC conversion successful.\n",
      "--AMS: RTED optimized.\n",
      "--ANDES: update TurbineGov reference.\n",
      "--ANDES: update DG reference.\n",
      "--ANDES: update RenGen reference.\n",
      "--ANDES: TDS initialized.\n",
      "--Watchdog: t=200 sec.\n"
     ]
    },
    {
     "name": "stderr",
     "output_type": "stream",
     "text": [
      "<RTED> reinit OModel due to non-parametric change.\n",
      "<RTED> solved as optimal in 0.0141 seconds, converged in 14 iterations with PIQP.\n"
     ]
    },
    {
     "name": "stdout",
     "output_type": "stream",
     "text": [
      "====== RTED Interval <1> ======\n",
      "--AMS: update disaptch load with factor 0.796370.\n",
      "--AMS: received data from ANDES.\n"
     ]
    },
    {
     "name": "stderr",
     "output_type": "stream",
     "text": [
      "<RTED> converted to AC.\n"
     ]
    },
    {
     "name": "stdout",
     "output_type": "stream",
     "text": [
      "--AMS: AC conversion successful.\n",
      "--AMS: RTED optimized.\n",
      "--ANDES: update TurbineGov reference.\n",
      "--ANDES: update DG reference.\n",
      "--ANDES: update RenGen reference.\n",
      "--Watchdog: t=400 sec.\n"
     ]
    },
    {
     "name": "stderr",
     "output_type": "stream",
     "text": [
      "<RTED> reinit OModel due to non-parametric change.\n",
      "<RTED> solved as optimal in 0.0136 seconds, converged in 14 iterations with PIQP.\n"
     ]
    },
    {
     "name": "stdout",
     "output_type": "stream",
     "text": [
      "--Watchdog: t=600 sec.\n",
      "====== RTED Interval <2> ======\n",
      "--AMS: update disaptch load with factor 0.797038.\n",
      "--AMS: received data from ANDES.\n"
     ]
    },
    {
     "name": "stderr",
     "output_type": "stream",
     "text": [
      "<RTED> converted to AC.\n"
     ]
    },
    {
     "name": "stdout",
     "output_type": "stream",
     "text": [
      "--AMS: AC conversion successful.\n",
      "--AMS: RTED optimized.\n",
      "--ANDES: update TurbineGov reference.\n",
      "--ANDES: update DG reference.\n",
      "--ANDES: update RenGen reference.\n",
      "--Watchdog: t=800 sec.\n"
     ]
    },
    {
     "name": "stderr",
     "output_type": "stream",
     "text": [
      "<RTED> reinit OModel due to non-parametric change.\n",
      "<RTED> solved as optimal in 0.0140 seconds, converged in 14 iterations with PIQP.\n"
     ]
    },
    {
     "name": "stdout",
     "output_type": "stream",
     "text": [
      "====== RTED Interval <3> ======\n",
      "--AMS: update disaptch load with factor 0.799885.\n",
      "--AMS: received data from ANDES.\n"
     ]
    },
    {
     "name": "stderr",
     "output_type": "stream",
     "text": [
      "<RTED> converted to AC.\n"
     ]
    },
    {
     "name": "stdout",
     "output_type": "stream",
     "text": [
      "--AMS: AC conversion successful.\n",
      "--AMS: RTED optimized.\n",
      "--ANDES: update TurbineGov reference.\n",
      "--ANDES: update DG reference.\n",
      "--ANDES: update RenGen reference.\n",
      "--Watchdog: t=1000 sec.\n"
     ]
    },
    {
     "name": "stderr",
     "output_type": "stream",
     "text": [
      "<RTED> reinit OModel due to non-parametric change.\n",
      "<RTED> solved as optimal in 0.0143 seconds, converged in 14 iterations with PIQP.\n"
     ]
    },
    {
     "name": "stdout",
     "output_type": "stream",
     "text": [
      "--Watchdog: t=1200 sec.\n",
      "====== RTED Interval <4> ======\n",
      "--AMS: update disaptch load with factor 0.801533.\n",
      "--AMS: received data from ANDES.\n"
     ]
    },
    {
     "name": "stderr",
     "output_type": "stream",
     "text": [
      "<RTED> converted to AC.\n"
     ]
    },
    {
     "name": "stdout",
     "output_type": "stream",
     "text": [
      "--AMS: AC conversion successful.\n",
      "--AMS: RTED optimized.\n",
      "--ANDES: update TurbineGov reference.\n",
      "--ANDES: update DG reference.\n",
      "--ANDES: update RenGen reference.\n",
      "--Watchdog: t=1400 sec.\n"
     ]
    },
    {
     "name": "stderr",
     "output_type": "stream",
     "text": [
      "<RTED> reinit OModel due to non-parametric change.\n",
      "<RTED> solved as optimal in 0.0136 seconds, converged in 14 iterations with PIQP.\n"
     ]
    },
    {
     "name": "stdout",
     "output_type": "stream",
     "text": [
      "====== RTED Interval <5> ======\n",
      "--AMS: update disaptch load with factor 0.801746.\n",
      "--AMS: received data from ANDES.\n"
     ]
    },
    {
     "name": "stderr",
     "output_type": "stream",
     "text": [
      "<RTED> converted to AC.\n"
     ]
    },
    {
     "name": "stdout",
     "output_type": "stream",
     "text": [
      "--AMS: AC conversion successful.\n",
      "--AMS: RTED optimized.\n",
      "--ANDES: update TurbineGov reference.\n",
      "--ANDES: update DG reference.\n",
      "--ANDES: update RenGen reference.\n",
      "--Watchdog: t=1600 sec.\n"
     ]
    },
    {
     "name": "stderr",
     "output_type": "stream",
     "text": [
      "<RTED> reinit OModel due to non-parametric change.\n",
      "<RTED> solved as optimal in 0.0139 seconds, converged in 14 iterations with PIQP.\n"
     ]
    },
    {
     "name": "stdout",
     "output_type": "stream",
     "text": [
      "--Watchdog: t=1800 sec.\n",
      "====== RTED Interval <6> ======\n",
      "--AMS: update disaptch load with factor 0.801211.\n",
      "--AMS: received data from ANDES.\n"
     ]
    },
    {
     "name": "stderr",
     "output_type": "stream",
     "text": [
      "<RTED> converted to AC.\n"
     ]
    },
    {
     "name": "stdout",
     "output_type": "stream",
     "text": [
      "--AMS: AC conversion successful.\n",
      "--AMS: RTED optimized.\n",
      "--ANDES: update TurbineGov reference.\n",
      "--ANDES: update DG reference.\n",
      "--ANDES: update RenGen reference.\n",
      "--Watchdog: t=2000 sec.\n"
     ]
    },
    {
     "name": "stderr",
     "output_type": "stream",
     "text": [
      "<RTED> reinit OModel due to non-parametric change.\n",
      "<RTED> solved as optimal in 0.0140 seconds, converged in 14 iterations with PIQP.\n"
     ]
    },
    {
     "name": "stdout",
     "output_type": "stream",
     "text": [
      "====== RTED Interval <7> ======\n",
      "--AMS: update disaptch load with factor 0.802259.\n",
      "--AMS: received data from ANDES.\n"
     ]
    },
    {
     "name": "stderr",
     "output_type": "stream",
     "text": [
      "<RTED> converted to AC.\n"
     ]
    },
    {
     "name": "stdout",
     "output_type": "stream",
     "text": [
      "--AMS: AC conversion successful.\n",
      "--AMS: RTED optimized.\n",
      "--ANDES: update TurbineGov reference.\n",
      "--ANDES: update DG reference.\n",
      "--ANDES: update RenGen reference.\n",
      "--Watchdog: t=2200 sec.\n"
     ]
    },
    {
     "name": "stderr",
     "output_type": "stream",
     "text": [
      "<RTED> reinit OModel due to non-parametric change.\n",
      "<RTED> solved as optimal in 0.0139 seconds, converged in 14 iterations with PIQP.\n"
     ]
    },
    {
     "name": "stdout",
     "output_type": "stream",
     "text": [
      "--Watchdog: t=2400 sec.\n",
      "====== RTED Interval <8> ======\n",
      "--AMS: update disaptch load with factor 0.803289.\n",
      "--AMS: received data from ANDES.\n"
     ]
    },
    {
     "name": "stderr",
     "output_type": "stream",
     "text": [
      "<RTED> converted to AC.\n"
     ]
    },
    {
     "name": "stdout",
     "output_type": "stream",
     "text": [
      "--AMS: AC conversion successful.\n",
      "--AMS: RTED optimized.\n",
      "--ANDES: update TurbineGov reference.\n",
      "--ANDES: update DG reference.\n",
      "--ANDES: update RenGen reference.\n",
      "--Watchdog: t=2600 sec.\n"
     ]
    },
    {
     "name": "stderr",
     "output_type": "stream",
     "text": [
      "<RTED> reinit OModel due to non-parametric change.\n",
      "<RTED> solved as optimal in 0.0144 seconds, converged in 14 iterations with PIQP.\n"
     ]
    },
    {
     "name": "stdout",
     "output_type": "stream",
     "text": [
      "====== RTED Interval <9> ======\n",
      "--AMS: update disaptch load with factor 0.803895.\n",
      "--AMS: received data from ANDES.\n"
     ]
    },
    {
     "name": "stderr",
     "output_type": "stream",
     "text": [
      "<RTED> converted to AC.\n"
     ]
    },
    {
     "name": "stdout",
     "output_type": "stream",
     "text": [
      "--AMS: AC conversion successful.\n",
      "--AMS: RTED optimized.\n",
      "--ANDES: update TurbineGov reference.\n",
      "--ANDES: update DG reference.\n",
      "--ANDES: update RenGen reference.\n",
      "--Watchdog: t=2800 sec.\n"
     ]
    },
    {
     "name": "stderr",
     "output_type": "stream",
     "text": [
      "<RTED> reinit OModel due to non-parametric change.\n",
      "<RTED> solved as optimal in 0.0134 seconds, converged in 14 iterations with PIQP.\n"
     ]
    },
    {
     "name": "stdout",
     "output_type": "stream",
     "text": [
      "--Watchdog: t=3000 sec.\n",
      "====== RTED Interval <10> ======\n",
      "--AMS: update disaptch load with factor 0.804958.\n",
      "--AMS: received data from ANDES.\n"
     ]
    },
    {
     "name": "stderr",
     "output_type": "stream",
     "text": [
      "<RTED> converted to AC.\n"
     ]
    },
    {
     "name": "stdout",
     "output_type": "stream",
     "text": [
      "--AMS: AC conversion successful.\n",
      "--AMS: RTED optimized.\n",
      "--ANDES: update TurbineGov reference.\n",
      "--ANDES: update DG reference.\n",
      "--ANDES: update RenGen reference.\n",
      "--Watchdog: t=3200 sec.\n"
     ]
    },
    {
     "name": "stderr",
     "output_type": "stream",
     "text": [
      "<RTED> reinit OModel due to non-parametric change.\n",
      "<RTED> solved as optimal in 0.0166 seconds, converged in 14 iterations with PIQP.\n"
     ]
    },
    {
     "name": "stdout",
     "output_type": "stream",
     "text": [
      "====== RTED Interval <11> ======\n",
      "--AMS: update disaptch load with factor 0.804369.\n",
      "--AMS: received data from ANDES.\n"
     ]
    },
    {
     "name": "stderr",
     "output_type": "stream",
     "text": [
      "<RTED> converted to AC.\n"
     ]
    },
    {
     "name": "stdout",
     "output_type": "stream",
     "text": [
      "--AMS: AC conversion successful.\n",
      "--AMS: RTED optimized.\n",
      "--ANDES: update TurbineGov reference.\n",
      "--ANDES: update DG reference.\n",
      "--ANDES: update RenGen reference.\n",
      "--Watchdog: t=3400 sec.\n"
     ]
    }
   ],
   "source": [
    "for t in range(0, total_time, 1):\n",
    "    # --- Wathdog ---\n",
    "    if (t % 200 == 0) and (t > 0):\n",
    "        print(f\"--Watchdog: t={t} sec.\")\n",
    "\n",
    "    # --- Dispatch interval ---\n",
    "    if t % RTED_interval == 0:\n",
    "        id_rted += 1  # update RTED interval counter\n",
    "        id_agc = -1   # reset AGC interval counter\n",
    "        print(f\"====== RTED Interval <{id_rted}> ======\")\n",
    "        # use 5-min average load in dispatch solution\n",
    "        load_avg = load_coeff[t:t+RTED_interval].mean()\n",
    "        # set load in to AMS\n",
    "        sp.PQ.set(src='p0', attr='v',\n",
    "                  value=load_avg * p0_sp,\n",
    "                  idx=pq_idx)\n",
    "        sp.PQ.set(src='q0', attr='v',\n",
    "                  value=load_avg * q0_sp,\n",
    "                  idx=pq_idx)\n",
    "        print(f\"--AMS: update disaptch load with factor {load_avg:.6f}.\")\n",
    "\n",
    "        # get dynamic generator output from TDS\n",
    "        if t > 0:\n",
    "            _receive = sp.dyn.receive(adsys=sa, routine='RTED', no_update=True)\n",
    "            if _receive:\n",
    "                print(\"--AMS: received data from ANDES.\")\n",
    "\n",
    "        # update RTED parameters\n",
    "        sp.RTED.update()\n",
    "        # run RTED\n",
    "        sp.RTED.run(solver='PIQP')\n",
    "        # convert to AC\n",
    "        flag_2ac = sp.RTED.dc2ac()\n",
    "        if flag_2ac:\n",
    "            print(f\"--AMS: AC conversion successful.\")\n",
    "        else:\n",
    "            print(f\"ERROR! AC conversion failed!\")\n",
    "            break\n",
    "\n",
    "        if sp.RTED.exit_code == 0:\n",
    "            print(f\"--AMS: {sp.recent.class_name} optimized.\")\n",
    "\n",
    "            # update in mapping table\n",
    "            maptab['pg'] = sp.RTED.get(src='pg', attr='v', idx=maptab['stg_idx'])\n",
    "            maptab['pru'] = sp.RTED.get(src='pru', attr='v', idx=maptab['stg_idx'])\n",
    "            maptab['prd'] = sp.RTED.get(src='prd', attr='v', idx=maptab['stg_idx'])\n",
    "            maptab['bu'] = maptab['pru'] / maptab['pru'].sum()\n",
    "            maptab['bd'] = maptab['prd'] / maptab['prd'].sum()\n",
    "\n",
    "            # calculate power reference for dynamic generator\n",
    "            maptab['pgov'] = maptab['pg'] * maptab['has_gov'] * maptab['gammap']\n",
    "            maptab['pdg'] = maptab['pg'] * maptab['has_dg'] * maptab['gammap']\n",
    "            maptab['prg'] = maptab['pg'] * maptab['has_rg'] * maptab['gammap']\n",
    "\n",
    "            # set into governor, Exclude NaN values for governor index\n",
    "            gov_to_set = {gov: pgov for gov, pgov in zip(maptab['gov_idx'], maptab['pgov']) if bool(gov)}\n",
    "            sa.TurbineGov.set(src='pref0', attr='v',\n",
    "                              idx=list(gov_to_set.keys()),\n",
    "                              value=list(gov_to_set.values()))\n",
    "            print(f\"--ANDES: update TurbineGov reference.\")\n",
    "\n",
    "            # set into dg, Exclude NaN values for dg index\n",
    "            dg_to_set = {dg: pdg for dg, pdg in zip(maptab['dg_idx'], maptab['pdg']) if bool(dg)}\n",
    "            sa.DG.set(src='pref0', attr='v',\n",
    "                      idx=list(dg_to_set.keys()),\n",
    "                      value=list(dg_to_set.values()))\n",
    "            print(f\"--ANDES: update DG reference.\")\n",
    "\n",
    "            # set into rg, Exclude NaN values for rg index\n",
    "            rg_to_set = {rg: prg for rg, prg in zip(maptab['rg_idx'], maptab['prg']) if bool(rg)}\n",
    "            sa.RenGen.set(src='Pref', attr='v',\n",
    "                          idx=list(rg_to_set.keys()),\n",
    "                          value=list(rg_to_set.values()))\n",
    "            print(f\"--ANDES: update RenGen reference.\")\n",
    "\n",
    "            # record dispatch data\n",
    "            pg_ref.loc[id_rted, 'n_rted'] = id_rted\n",
    "            pg_ref.loc[id_rted, gen_cols] = maptab['pg'].values\n",
    "            pru_ref.loc[id_rted, 'n_rted'] = id_rted\n",
    "            pru_ref.loc[id_rted, gen_cols] = maptab['pru'].values\n",
    "            prd_ref.loc[id_rted, 'n_rted'] = id_rted\n",
    "            prd_ref.loc[id_rted, gen_cols] = maptab['prd'].values\n",
    "        else:\n",
    "            print(f\"ERROR! {sp.recent.class_name} failed: {sp.RTED.om.prob.status}\")\n",
    "            break\n",
    "\n",
    "    # --- AGC interval ---\n",
    "    if t % AGC_interval == 0:\n",
    "        id_agc += 1  # update AGC interval counter\n",
    "        # cap ACE_raw with procured capacity as AGC response\n",
    "        if ACE_raw >= 0:  # RegUp\n",
    "            ACE_input = min([ACE_raw, maptab['pru'].sum()])\n",
    "            b_factor = maptab['bu']\n",
    "        else:            # RegDn\n",
    "            ACE_input = -min([-ACE_raw, maptab['prd'].sum()])\n",
    "            b_factor = maptab['bd']\n",
    "        outdf.loc[t:t+AGC_interval, 'AGC'] = ACE_input\n",
    "\n",
    "        maptab['agov'] = ACE_input * b_factor * maptab['has_gov'] * maptab['gammap']\n",
    "        maptab['adg'] = ACE_input * b_factor * maptab['has_dg'] * maptab['gammap']\n",
    "        maptab['arg'] = ACE_input * b_factor * maptab['has_rg'] * maptab['gammap']\n",
    "\n",
    "        # set into governor, Exclude NaN values for governor index\n",
    "        agov_to_set = {gov: agov for gov, agov in zip(maptab['gov_idx'], maptab['agov']) if bool(gov)}\n",
    "        sa.TurbineGov.set(src='paux0', attr='v',\n",
    "                          idx=list(agov_to_set.keys()),\n",
    "                          value=list(agov_to_set.values()))\n",
    "\n",
    "        # set into dg, Exclude NaN values for dg index\n",
    "        adg_to_set = {dg: adg for dg, adg in zip(maptab['dg_idx'], maptab['adg']) if bool(dg)}\n",
    "        sa.DG.set(src='Pext0', attr='v',\n",
    "                  idx=list(adg_to_set.keys()),\n",
    "                  value=list(adg_to_set.values()))\n",
    "\n",
    "        # set into rg, Exclude NaN values for rg index\n",
    "        arg_to_set = {rg: arg + prg for rg, arg,\n",
    "                      prg in zip(maptab['rg_idx'], maptab['arg'], maptab['prg']) if bool(rg)}\n",
    "        sa.RenGen.set(src='Pref', attr='v',\n",
    "                      idx=list(arg_to_set.keys()),\n",
    "                      value=list(arg_to_set.values()))\n",
    "\n",
    "    # --- TDS interval ---\n",
    "    if t > 0:  # --- run TDS ---\n",
    "        # set laod into PQ.Ppf and PQ.Qpf\n",
    "        sa.PQ.set(src='Ppf', attr='v', idx=pq_idx,\n",
    "                  value=load_coeff[t] * p0_sa)\n",
    "        sa.PQ.set(src='Qpf', attr='v', idx=pq_idx,\n",
    "                  value=load_coeff[t] * q0_sa)\n",
    "        sa.TDS.config.tf = t\n",
    "        sa.TDS.run()\n",
    "        # Update AGC PI controller\n",
    "        ACE_raw = -(kp * sa.ACEc.ace.v.sum() + ki * ACE_integral)\n",
    "        ACE_integral = ACE_integral + sa.ACEc.ace.v.sum()\n",
    "\n",
    "        # record AGC data\n",
    "        # agc reference\n",
    "        agc_ref.loc[t, 'time'] = t\n",
    "        agc_ref.loc[t, agc_cols] = maptab[['agov', 'adg', 'arg']].sum(axis=1).values\n",
    "        # delivered AGC power\n",
    "        sp.dyn.receive(adsys=sa, routine='RTED', no_update=True)\n",
    "        pout = sp.recent.get(src='pg0', attr='v', idx=maptab['stg_idx'])\n",
    "        pref = sp.recent.get(src='pg', attr='v', idx=maptab['stg_idx'])\n",
    "        # agc output is the difference between output power and scheduled power\n",
    "        agc_out.loc[t, 'time'] = t\n",
    "        agc_out.loc[t, agc_cols] = pout - pref\n",
    "\n",
    "        # check if to continue\n",
    "        if sa.exit_code != 0:\n",
    "            print(f\"ERROR! t={t}, TDS error: {sa.exit_code}\")\n",
    "            break\n",
    "    else:  # --- init TDS ---\n",
    "        # set pg to StaticGen.p0\n",
    "        sa.StaticGen.set(src='p0', attr='v', value=sp.RTED.pg.v,\n",
    "                         idx=sp.RTED.pg.get_idx())\n",
    "        # set Bus.v to StaticGen.v\n",
    "        bus_stg = sp.StaticGen.get(src='bus', attr='v', idx=sp.StaticGen.get_idx())\n",
    "        v_stg = sp.Bus.get(src='v', attr='v', idx=bus_stg)\n",
    "        sa.StaticGen.set(src='v0', attr='v', value=v_stg,\n",
    "                         idx=sp.StaticGen.get_idx())\n",
    "        # set vBus to Bus\n",
    "        sa.Bus.set(src='v0', attr='v',\n",
    "                   value=sp.RTED.vBus.v,\n",
    "                   idx=sp.RTED.vBus.get_idx())\n",
    "        # set load into PQ.p0 and PQ.q0\n",
    "        sa.PQ.set(src='p0', attr='v', idx=pq_idx,\n",
    "                  value=load_coeff[t] * p0_sa)\n",
    "        sa.PQ.set(src='q0', attr='v', idx=pq_idx,\n",
    "                  value=load_coeff[t] * q0_sa)\n",
    "        sa.PFlow.run()  # run power flow\n",
    "        sa.TDS.init()  # initialize TDS\n",
    "\n",
    "        if sa.exit_code != 0:\n",
    "            print(f\"ERROR! t={t}, TDS init error: {sa.exit_code}\")\n",
    "            break\n",
    "        print(f\"--ANDES: TDS initialized.\")\n",
    "\n",
    "    # --- record output ---\n",
    "    outdf.loc[t, 'time'] = t\n",
    "    outdf.loc[t, 'freq'] = sa.BusFreq.f.v[1]\n",
    "    outdf.loc[t, 'ACE'] = sa.ACEc.ace.v.sum()\n",
    "    outdf.loc[t, 'pd_andes'] = sa.PQ.Ppf.v.sum()\n",
    "    outdf.loc[t, 'pd_ams'] = sp.RTED.pd.v.sum()\n",
    "    outdf.loc[t, 'pg_ams'] = sp.RTED.pg.v.sum()\n",
    "    outdf.loc[t, 'pru_ams'] = sp.RTED.pru.v.sum()\n",
    "    outdf.loc[t, 'prd_ams'] = sp.RTED.prd.v.sum()\n",
    "\n",
    "# crop the output with valid time\n",
    "if t < total_time - 1:  # end early, means some error happened\n",
    "    outdf = outdf[0:t-1]"
   ]
  },
  {
   "cell_type": "markdown",
   "metadata": {},
   "source": [
    "## Results"
   ]
  },
  {
   "cell_type": "markdown",
   "metadata": {},
   "source": [
    "### Data processing"
   ]
  },
  {
   "cell_type": "markdown",
   "metadata": {},
   "source": [
    "Scale to nominal value"
   ]
  },
  {
   "cell_type": "code",
   "execution_count": 15,
   "metadata": {},
   "outputs": [],
   "source": [
    "outdf_plt = outdf.copy()\n",
    "agc_out_plt = agc_out.copy()\n",
    "agc_ref_plt = agc_ref.copy()\n",
    "\n",
    "pg_ref_plt = pg_ref.copy()\n",
    "pru_ref_plt = pru_ref.copy()\n",
    "prd_ref_plt = prd_ref.copy()\n",
    "\n",
    "# scale to nominal values\n",
    "outdf_plt['freq'] *= sa.config.freq\n",
    "mva_cols = ['pd_andes', 'pd_ams', 'pg_ams',\n",
    "            'pru_ams', 'prd_ams',\n",
    "            'ACE', 'AGC']\n",
    "outdf_plt['prd_ams'] *= -1\n",
    "outdf_plt[mva_cols] *= sa.config.mva\n",
    "\n",
    "agc_out_plt[agc_cols] *= sa.config.mva\n",
    "agc_ref_plt[agc_cols] *= sa.config.mva\n",
    "\n",
    "pg_ref_plt[gen_cols] *= sa.config.mva\n",
    "pru_ref_plt[gen_cols] *= sa.config.mva\n",
    "prd_ref_plt[gen_cols] *= sa.config.mva\n",
    "\n",
    "# calculate frequency deviation\n",
    "outdf_plt['fd'] = outdf_plt['freq'] - sa.config.freq"
   ]
  },
  {
   "cell_type": "markdown",
   "metadata": {},
   "source": [
    "Dispatch results"
   ]
  },
  {
   "cell_type": "code",
   "execution_count": 16,
   "metadata": {},
   "outputs": [
    {
     "name": "stdout",
     "output_type": "stream",
     "text": [
      "Dispatch generation\n",
      "    n_rted    Slack_39       PV_38       PV_37       PV_36       PV_35  \\\n",
      "0      0.0  300.000015  886.758083  581.441996  100.000041  691.064282   \n",
      "1      1.0  300.000010  876.718388  584.638449  100.000028  697.501909   \n",
      "2      2.0  300.000004  878.253307  577.417843  100.000010  700.287697   \n",
      "3      3.0  300.000013  890.947281  584.514343  100.000035  702.331821   \n",
      "4      4.0  300.000011  889.750392  588.687192  100.000031  703.158245   \n",
      "5      5.0  300.000031  874.263333  605.201420  100.000084  693.333776   \n",
      "6      6.0  300.000005  867.072004  607.835193  100.000014  687.310032   \n",
      "7      7.0  300.000014  896.336094  585.196480  100.000038  706.910224   \n",
      "8      8.0  300.000035  886.178649  593.933667  100.000094  704.055610   \n",
      "9      9.0  300.000034  886.997589  594.558986  100.000091  704.665880   \n",
      "10    10.0  300.000032  888.608627  595.775162  100.000087  705.405297   \n",
      "11    11.0  300.000032  887.836516  594.996179  100.000088  705.003582   \n",
      "\n",
      "         PV_34       PV_33       PV_32       PV_31       PV_30  \n",
      "0   100.000041  100.000041  100.000041  150.000029  776.156366  \n",
      "1   100.000028  100.000028  100.000028  150.000019  782.027061  \n",
      "2   100.000010  100.000010  100.000010  150.000007  787.908606  \n",
      "3   100.000035  100.000035  100.000035  150.000024  781.170974  \n",
      "4   100.000031  100.000031  100.000031  150.000022  785.309682  \n",
      "5   100.000084  100.000084  100.000084  150.000059  794.893023  \n",
      "6   100.000014  100.000014  100.000014  150.000010  802.201903  \n",
      "7   100.000038  100.000038  100.000038  150.000027  781.955915  \n",
      "8   100.000095  100.000094  100.000094  150.000066  790.890858  \n",
      "9   100.000091  100.000091  100.000091  150.000064  791.714762  \n",
      "10  100.000087  100.000087  100.000087  150.000061  793.199850  \n",
      "11  100.000088  100.000087  100.000088  150.000061  792.351533  \n",
      "Dispatch RegUp\n",
      "    n_rted  Slack_39     PV_38     PV_37     PV_36     PV_35     PV_34  \\\n",
      "0      0.0  0.646491  0.749986  0.000315  0.751954  0.000107  0.751441   \n",
      "1      1.0  0.495286  0.617987  0.000369  0.840683  0.000117  0.839902   \n",
      "2      2.0  0.496112  0.619494  0.000349  0.840868  0.000109  0.840075   \n",
      "3      3.0  0.502245  0.623098  0.000334  0.842134  0.000106  0.841323   \n",
      "4      4.0  0.505116  0.623852  0.000765  0.842907  0.000518  0.842081   \n",
      "5      5.0  0.505488  0.624201  0.000381  0.843131  0.000130  0.842300   \n",
      "6      6.0  0.504488  0.625113  0.000327  0.842533  0.000104  0.841718   \n",
      "7      7.0  0.506811  0.627187  0.000302  0.842800  0.000094  0.841984   \n",
      "8      8.0  0.508527  0.625552  0.000400  0.843958  0.000140  0.843114   \n",
      "9      9.0  0.509927  0.627337  0.000356  0.843949  0.000120  0.843104   \n",
      "10    10.0  0.511719  0.628389  0.000754  0.844223  0.000516  0.843369   \n",
      "11    11.0  0.510659  0.627595  0.000363  0.844235  0.000125  0.843383   \n",
      "\n",
      "       PV_33     PV_32     PV_31     PV_30  \n",
      "0   0.750981  0.944241  0.991719  0.000054  \n",
      "1   0.839371  0.971355  0.991518  0.000049  \n",
      "2   0.839543  0.972193  0.992534  0.000049  \n",
      "3   0.840783  0.975206  0.996053  0.000049  \n",
      "4   0.841543  0.977278  0.998470  0.000384  \n",
      "5   0.841769  0.977842  0.999121  0.000049  \n",
      "6   0.841183  0.976953  0.998186  0.000049  \n",
      "7   0.841448  0.977947  0.999400  0.000049  \n",
      "8   0.842578  0.979693  1.001249  0.000050  \n",
      "9   0.842569  0.980189  1.001915  0.000049  \n",
      "10  0.842835  0.981410  1.003388  0.000381  \n",
      "11  0.842849  0.980879  1.002708  0.000050  \n",
      "Dispatch RegDn\n",
      "    n_rted      Slack_39     PV_38     PV_37         PV_36     PV_35  \\\n",
      "0      0.0  1.694768e-11  1.260009  1.447590  2.707094e-11  1.478411   \n",
      "1      1.0  1.405937e-11  1.150096  1.539569  2.292555e-11  1.521148   \n",
      "2      2.0  1.428441e-11  1.155382  1.539932  2.324915e-11  1.520921   \n",
      "3      3.0  1.456943e-11  1.162506  1.543554  2.368235e-11  1.525458   \n",
      "4      4.0  2.280103e-11  1.162839  1.545595  3.566951e-11  1.528533   \n",
      "5      5.0  1.351199e-11  1.164521  1.545688  2.202381e-11  1.528835   \n",
      "6      6.0  1.451064e-11  1.168029  1.543646  2.357922e-11  1.528493   \n",
      "7      7.0  1.484899e-11  1.172871  1.544379  2.409147e-11  1.530663   \n",
      "8      8.0  1.309544e-11  1.166239  1.547838  2.133837e-11  1.531192   \n",
      "9      9.0  1.391830e-11  1.171508  1.547709  2.265452e-11  1.532087   \n",
      "10    10.0  2.257188e-11  1.174060  1.548899  3.472444e-11  1.533794   \n",
      "11    11.0  1.375662e-11  1.172439  1.548403  2.235931e-11  1.533002   \n",
      "\n",
      "           PV_34         PV_33         PV_32         PV_31     PV_30  \n",
      "0   2.724694e-11  2.700628e-11  2.785464e-11  2.416912e-11  1.401280  \n",
      "1   2.307641e-11  2.286844e-11  2.323526e-11  2.007665e-11  1.385823  \n",
      "2   2.339130e-11  2.318522e-11  2.355653e-11  2.035583e-11  1.385091  \n",
      "3   2.382910e-11  2.361760e-11  2.401316e-11  2.074251e-11  1.389814  \n",
      "4   3.606447e-11  3.543425e-11  3.290835e-11  2.458191e-11  1.395947  \n",
      "5   2.215880e-11  2.195811e-11  2.229719e-11  1.928981e-11  1.395368  \n",
      "6   2.373003e-11  2.352779e-11  2.390783e-11  2.066712e-11  1.390486  \n",
      "7   2.425004e-11  2.403874e-11  2.445196e-11  2.111679e-11  1.390109  \n",
      "8   2.146520e-11  2.128093e-11  2.161481e-11  1.868424e-11  1.399991  \n",
      "9   2.280264e-11  2.259873e-11  2.295457e-11  1.985652e-11  1.398212  \n",
      "10  3.510768e-11  3.449799e-11  3.183233e-11  2.402413e-11  1.400231  \n",
      "11  2.250239e-11  2.230267e-11  2.264591e-11  1.959489e-11  1.399000  \n"
     ]
    }
   ],
   "source": [
    "print('Dispatch generation')\n",
    "print(pg_ref_plt)\n",
    "\n",
    "print('Dispatch RegUp')\n",
    "print(pru_ref_plt)\n",
    "\n",
    "print('Dispatch RegDn')\n",
    "print(prd_ref_plt)"
   ]
  },
  {
   "cell_type": "markdown",
   "metadata": {},
   "source": [
    "AGC mileage in MWh"
   ]
  },
  {
   "cell_type": "code",
   "execution_count": 17,
   "metadata": {},
   "outputs": [
    {
     "name": "stdout",
     "output_type": "stream",
     "text": [
      "AGC milage in MWh:\n",
      "Slack_39    0.104306\n",
      "PV_38       0.200599\n",
      "PV_37       0.127391\n",
      "PV_36       0.095413\n",
      "PV_35       0.092986\n",
      "PV_34       0.089903\n",
      "PV_33       0.098902\n",
      "PV_32       0.076675\n",
      "PV_31       0.074863\n",
      "PV_30       0.085381\n",
      "dtype: float64\n"
     ]
    }
   ],
   "source": [
    "agc_row_index = np.arange(0, total_time, AGC_interval)\n",
    "agc_mileage = agc_out_plt.loc[agc_row_index, agc_cols].diff().abs().sum(axis=0) * AGC_interval / 3600\n",
    "\n",
    "print(f\"AGC milage in MWh:\\n{agc_mileage}\")"
   ]
  },
  {
   "cell_type": "markdown",
   "metadata": {},
   "source": [
    "CPS1 score\n",
    "\n",
    "Following adjustments are made to calculate the CPS1 score:\n",
    "1. eps is the constant derived from a targeted frequency bound, where we use the average frequency deviation as the reference\n",
    "1. The $CF_{clock-minute}$ is used when calcualting $CF$ rather than $CF_{12-month}$"
   ]
  },
  {
   "cell_type": "code",
   "execution_count": 18,
   "metadata": {},
   "outputs": [
    {
     "name": "stdout",
     "output_type": "stream",
     "text": [
      "CPS1 score: 100.00372723390494\n"
     ]
    }
   ],
   "source": [
    "def cm_avg(x):\n",
    "    \"\"\"\n",
    "    Clock minute average\n",
    "\n",
    "    Parameters\n",
    "    ----------\n",
    "    x : pd.Series\n",
    "        Input time series, index is time in seconds.\n",
    "\n",
    "    Returns\n",
    "    -------\n",
    "    float\n",
    "        Clock minute average of the time series.\n",
    "    \"\"\"\n",
    "    return np.sum(x) / len(x)\n",
    "\n",
    "eps = outdf_plt['fd'].mean()\n",
    "bias = sa.ACEc.bias.v[0]\n",
    "\n",
    "df_cm = cm_avg(outdf_plt['fd'])\n",
    "ace_cm = cm_avg(outdf_plt['ACE'] / (10 * bias))\n",
    "cf_cm = df_cm * ace_cm \n",
    "cf = cf_cm / np.square(eps)\n",
    "cps1 = (2 - cf) * 100\n",
    "\n",
    "print(f\"CPS1 score: {cps1}\")"
   ]
  },
  {
   "cell_type": "markdown",
   "metadata": {},
   "source": [
    "### Plot"
   ]
  },
  {
   "cell_type": "markdown",
   "metadata": {},
   "source": [
    "System dynamics"
   ]
  },
  {
   "cell_type": "code",
   "execution_count": 19,
   "metadata": {},
   "outputs": [
    {
     "data": {
      "text/plain": [
       "<matplotlib.legend.Legend at 0x17ef304f0>"
      ]
     },
     "execution_count": 19,
     "metadata": {},
     "output_type": "execute_result"
    },
    {
     "data": {
      "image/png": "[encoded data removed]",
      "text/plain": [
       "<Figure size 1000x1000 with 4 Axes>"
      ]
     },
     "metadata": {},
     "output_type": "display_data"
    }
   ],
   "source": [
    "fig, ax = plt.subplots(2, 2, figsize=(10, 10), dpi=100)\n",
    "\n",
    "outdf_plt.plot(x='time', y='pd_andes', ax=ax[0, 0],\n",
    "               title='Total Load [MW]',\n",
    "               xlim=[0, total_time],\n",
    "               legend=True, label='Load ANDES')\n",
    "outdf_plt.plot(x='time', y='pd_ams', ax=ax[0, 0],\n",
    "               legend=True, label='Load AMS')\n",
    "outdf_plt.plot(x='time', y='pg_ams', ax=ax[0, 0],\n",
    "               grid=True,\n",
    "               legend=True, label='Gen AMS',\n",
    "               xlabel='Time [s]')\n",
    "\n",
    "outdf_plt.plot(x='time', y='freq', ax=ax[0, 1],\n",
    "               title='Frequency [Hz]', grid=True,\n",
    "               xlim=[0, total_time], legend=False,\n",
    "               xlabel='Time [s]')\n",
    "\n",
    "outdf_plt.plot(x='time', y='ACE', ax=ax[1, 0],\n",
    "               title='ACE [MW]', grid=True,\n",
    "               xlim=[0, total_time], legend=False,\n",
    "               xlabel='Time [s]')\n",
    "\n",
    "outdf_plt.plot(x='time', y='AGC', ax=ax[1, 1],\n",
    "               title='AGC Power [MW]',\n",
    "               xlim=[0, total_time],\n",
    "               legend=True, label='AGC',\n",
    "               xlabel='Time [s]')\n",
    "outdf_plt.plot(x='time', y='pru_ams', ax=ax[1, 1],\n",
    "               legend=True, label='RegUp',\n",
    "               style='--', color='black')\n",
    "outdf_plt.plot(x='time', y='prd_ams', ax=ax[1, 1],\n",
    "               grid=True,\n",
    "               legend=True, label='RegDn',\n",
    "               style='--', color='black')\n",
    "ax[1, 1].legend(loc='upper right')"
   ]
  },
  {
   "cell_type": "markdown",
   "metadata": {},
   "source": [
    "Frequency regulation performance"
   ]
  },
  {
   "cell_type": "code",
   "execution_count": 20,
   "metadata": {},
   "outputs": [
    {
     "data": {
      "text/plain": [
       "<Axes: xlabel='ACE [MW]', ylabel='Density'>"
      ]
     },
     "execution_count": 20,
     "metadata": {},
     "output_type": "execute_result"
    },
    {
     "data": {
      "image/png": "[encoded data removed]",
      "text/plain": [
       "<Figure size 1000x500 with 2 Axes>"
      ]
     },
     "metadata": {},
     "output_type": "display_data"
    }
   ],
   "source": [
    "fig_freq, ax_freq = plt.subplots(1, 2, figsize=(10, 5), dpi=100)\n",
    "\n",
    "outdf_plt.plot(x='time', y='fd', kind='hist', alpha=1, bins=60, density=True,\n",
    "               ax=ax_freq[0], xlabel='Frequency Deviation [Hz]', ylabel='Density',\n",
    "               legend=False)\n",
    "outdf_plt.plot(x='time', y='ACE', kind='hist', alpha=1, bins=60, density=True,\n",
    "               ax=ax_freq[1], xlabel='ACE [MW]', ylabel='Density',\n",
    "               legend=False)"
   ]
  },
  {
   "cell_type": "markdown",
   "metadata": {},
   "source": [
    "## Settings to Improve Performance\n",
    "\n",
    "Long-term dynamic simulation can be memory-consuming, as time-series data is updated by default. To reduce the memory burden, we can configure the TDS with `save_every=0`, discarding all data immediately after each simulation step. As a trade-off, a separate output array is utilized to store the data, with a resolution matching the co-simulation time step.\n",
    "More details about ANDES settings can be found in the [ANDES Release notes - v1.7.0](https://docs.andes.app/en/latest/release-notes.html#v1-7-0-2022-05-22).\n",
    "\n",
    "The case has been tested with a complete 3600s duration. However, for demonstration purposes and to conserve CI resources, the simulated time is truncated.\n",
    "\n",
    "## Limitations\n",
    "\n",
    "1. Although the code is designed for generalization, the demo is implemented on the IEEE 39-bus case with generators set to synchronous machines, and its application to other cases is not fully tested.\n",
    "1. The load curve is synthetic, based on experience.\n",
    "1. Within each interval, generator setpoints are updated only once, without considering smooth action.\n",
    "1. In ANDES, certain dynamic parameters are adjusted to facilitate co-simulation, disregarding their actual physical implications.\n",
    "1. The used case comprises synchronous generators exclusively, necessitating further adaptation for the inclusion of renewable energy sources.\n",
    "\n",
    "## FAQ\n",
    "\n",
    "Q: Why ANDES TDS run into error?\n",
    "\n",
    "A: Most likely, the error is due to power flow not converging. Possible reasons include: 1) load is too heavy, 2) step change is too large, 3) some devices run into limits.\n",
    "\n",
    "Q: Why in AMS RTED, load and generation do not exactly match?\n",
    "\n",
    "A: The RTED is converted using ``dc2ac``, where the generation and bus voltage are adjusted using ACOPF."
   ]
  }
 ],
 "metadata": {
  "kernelspec": {
   "display_name": "ams",
   "language": "python",
   "name": "python3"
  },
  "language_info": {
   "codemirror_mode": {
    "name": "ipython",
    "version": 3
   },
   "file_extension": ".py",
   "mimetype": "text/x-python",
   "name": "python",
   "nbconvert_exporter": "python",
   "pygments_lexer": "ipython3",
   "version": "3.9.18"
  },
  "orig_nbformat": 4,
  "vscode": {
   "interpreter": {
    "hash": "d2b3bf80176349caa68dc4a3c77bd06eaade8abc678330f7d1c813c53380e5d2"
   }
  }
 },
 "nbformat": 4,
 "nbformat_minor": 2
}
